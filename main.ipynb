{
 "cells": [
  {
   "cell_type": "code",
   "execution_count": 1,
   "metadata": {},
   "outputs": [
    {
     "name": "stderr",
     "output_type": "stream",
     "text": [
      "2022-09-02 17:19:15.007198: I tensorflow/core/util/util.cc:169] oneDNN custom operations are on. You may see slightly different numerical results due to floating-point round-off errors from different computation orders. To turn them off, set the environment variable `TF_ENABLE_ONEDNN_OPTS=0`.\n"
     ]
    }
   ],
   "source": [
    "import os\n",
    "import queue\n",
    "import tensorflow as tf\n",
    "import cv2\n",
    "import tensorflow_hub as hub\n",
    "import numpy as np\n",
    "from PIL import Image, ImageDraw\n",
    "import csv\n",
    "import sys\n",
    "from Court_detection import CourtDetector\n",
    "from MultiPose_estimation import MultiPoseEstimation\n",
    "import pandas as pd\n",
    "from Ball_tracker import BallTracker\n",
    "from detect_actions import ActionDetector"
   ]
  },
  {
   "cell_type": "code",
   "execution_count": 2,
   "metadata": {},
   "outputs": [],
   "source": [
    "#Source video to test on \n",
    "input_video_path = \"/home/JouiniAhmad/Desktop/douma/Badminton_Project/test.mp4\""
   ]
  },
  {
   "cell_type": "code",
   "execution_count": 3,
   "metadata": {},
   "outputs": [
    {
     "name": "stderr",
     "output_type": "stream",
     "text": [
      "2022-09-02 17:19:18.994504: I tensorflow/core/platform/cpu_feature_guard.cc:193] This TensorFlow binary is optimized with oneAPI Deep Neural Network Library (oneDNN) to use the following CPU instructions in performance-critical operations:  AVX2 AVX512F AVX512_VNNI FMA\n",
      "To enable them in other operations, rebuild TensorFlow with the appropriate compiler flags.\n",
      "2022-09-02 17:19:19.678348: I tensorflow/core/common_runtime/gpu/gpu_device.cc:1532] Created device /job:localhost/replica:0/task:0/device:GPU:0 with 22269 MB memory:  -> device: 0, name: NVIDIA GeForce RTX 3090, pci bus id: 0000:5b:00.0, compute capability: 8.6\n",
      "2022-09-02 17:19:22.953075: I tensorflow/stream_executor/cuda/cuda_dnn.cc:384] Loaded cuDNN version 8400\n",
      "2022-09-02 17:19:24.571692: W tensorflow/stream_executor/gpu/asm_compiler.cc:111] *** WARNING *** You are using ptxas 10.1.243, which is older than 11.1. ptxas before 11.1 is known to miscompile XLA code, leading to incorrect results or invalid-address errors.\n",
      "\n",
      "You may not need to update to CUDA 11.1; cherry-picking the ptxas binary is often sufficient.\n",
      "2022-09-02 17:19:24.574938: W tensorflow/stream_executor/gpu/asm_compiler.cc:230] Falling back to the CUDA driver for PTX compilation; ptxas does not support CC 8.6\n",
      "2022-09-02 17:19:24.574983: W tensorflow/stream_executor/gpu/asm_compiler.cc:233] Used ptxas at ptxas\n",
      "2022-09-02 17:19:24.575122: W tensorflow/stream_executor/gpu/redzone_allocator.cc:314] UNIMPLEMENTED: ptxas ptxas too old. Falling back to the driver to compile.\n",
      "Relying on driver to perform ptx compilation. \n",
      "Modify $PATH to customize ptxas location.\n",
      "This message will be only logged once.\n"
     ]
    },
    {
     "name": "stdout",
     "output_type": "stream",
     "text": [
      "1/1 [==============================] - 4s 4s/step\n",
      "1/1 [==============================] - 0s 34ms/step\n",
      "1/1 [==============================] - 0s 41ms/step\n",
      "1/1 [==============================] - 0s 34ms/step\n",
      "1/1 [==============================] - 0s 33ms/step\n",
      "1/1 [==============================] - 0s 33ms/step\n",
      "1/1 [==============================] - 0s 31ms/step\n",
      "1/1 [==============================] - 0s 31ms/step\n",
      "1/1 [==============================] - 0s 31ms/step\n",
      "1/1 [==============================] - 0s 28ms/step\n",
      "1/1 [==============================] - 0s 31ms/step\n",
      "1/1 [==============================] - 0s 26ms/step\n",
      "1/1 [==============================] - 0s 27ms/step\n",
      "1/1 [==============================] - 0s 26ms/step\n",
      "1/1 [==============================] - 0s 27ms/step\n",
      "1/1 [==============================] - 0s 27ms/step\n",
      "1/1 [==============================] - 0s 28ms/step\n",
      "1/1 [==============================] - 0s 28ms/step\n",
      "1/1 [==============================] - 0s 28ms/step\n",
      "1/1 [==============================] - 0s 28ms/step\n",
      "1/1 [==============================] - 0s 35ms/step\n",
      "1/1 [==============================] - 0s 32ms/step\n",
      "1/1 [==============================] - 0s 28ms/step\n",
      "1/1 [==============================] - 0s 28ms/step\n",
      "1/1 [==============================] - 0s 28ms/step\n",
      "1/1 [==============================] - 0s 28ms/step\n",
      "1/1 [==============================] - 0s 28ms/step\n",
      "1/1 [==============================] - 0s 28ms/step\n",
      "1/1 [==============================] - 0s 28ms/step\n",
      "1/1 [==============================] - 0s 33ms/step\n",
      "1/1 [==============================] - 0s 32ms/step\n",
      "1/1 [==============================] - 0s 28ms/step\n",
      "1/1 [==============================] - 0s 33ms/step\n",
      "1/1 [==============================] - 0s 28ms/step\n",
      "1/1 [==============================] - 0s 27ms/step\n",
      "1/1 [==============================] - 0s 28ms/step\n",
      "1/1 [==============================] - 0s 28ms/step\n",
      "1/1 [==============================] - 0s 28ms/step\n",
      "1/1 [==============================] - 0s 28ms/step\n",
      "1/1 [==============================] - 0s 27ms/step\n",
      "1/1 [==============================] - 0s 27ms/step\n",
      "1/1 [==============================] - 0s 28ms/step\n",
      "1/1 [==============================] - 0s 80ms/step\n",
      "1/1 [==============================] - 0s 30ms/step\n",
      "1/1 [==============================] - 0s 28ms/step\n",
      "1/1 [==============================] - 0s 30ms/step\n",
      "1/1 [==============================] - 0s 30ms/step\n",
      "1/1 [==============================] - 0s 31ms/step\n",
      "1/1 [==============================] - 0s 30ms/step\n",
      "1/1 [==============================] - 0s 30ms/step\n",
      "1/1 [==============================] - 0s 30ms/step\n",
      "1/1 [==============================] - 0s 30ms/step\n",
      "1/1 [==============================] - 0s 33ms/step\n",
      "1/1 [==============================] - 0s 32ms/step\n",
      "1/1 [==============================] - 0s 27ms/step\n",
      "1/1 [==============================] - 0s 52ms/step\n",
      "1/1 [==============================] - 0s 28ms/step\n",
      "1/1 [==============================] - 0s 28ms/step\n",
      "1/1 [==============================] - 0s 28ms/step\n",
      "1/1 [==============================] - 0s 28ms/step\n",
      "1/1 [==============================] - 0s 45ms/step\n",
      "1/1 [==============================] - 0s 27ms/step\n",
      "1/1 [==============================] - 0s 83ms/step\n",
      "1/1 [==============================] - 0s 28ms/step\n",
      "1/1 [==============================] - 0s 33ms/step\n",
      "1/1 [==============================] - 0s 27ms/step\n",
      "1/1 [==============================] - 0s 25ms/step\n",
      "1/1 [==============================] - 0s 28ms/step\n",
      "1/1 [==============================] - 0s 27ms/step\n",
      "1/1 [==============================] - 0s 28ms/step\n",
      "1/1 [==============================] - 0s 26ms/step\n",
      "1/1 [==============================] - 0s 26ms/step\n",
      "1/1 [==============================] - 0s 26ms/step\n",
      "1/1 [==============================] - 0s 26ms/step\n",
      "1/1 [==============================] - 0s 26ms/step\n",
      "1/1 [==============================] - 0s 31ms/step\n",
      "1/1 [==============================] - 0s 26ms/step\n",
      "1/1 [==============================] - 0s 27ms/step\n",
      "1/1 [==============================] - 0s 28ms/step\n",
      "1/1 [==============================] - 0s 27ms/step\n",
      "1/1 [==============================] - 0s 28ms/step\n",
      "1/1 [==============================] - 0s 28ms/step\n",
      "1/1 [==============================] - 0s 28ms/step\n",
      "1/1 [==============================] - 0s 28ms/step\n",
      "1/1 [==============================] - 0s 28ms/step\n",
      "1/1 [==============================] - 0s 28ms/step\n",
      "1/1 [==============================] - 0s 28ms/step\n",
      "1/1 [==============================] - 0s 28ms/step\n",
      "1/1 [==============================] - 0s 30ms/step\n",
      "1/1 [==============================] - 0s 29ms/step\n",
      "1/1 [==============================] - 0s 29ms/step\n",
      "1/1 [==============================] - 0s 28ms/step\n",
      "1/1 [==============================] - 0s 28ms/step\n",
      "1/1 [==============================] - 0s 64ms/step\n",
      "1/1 [==============================] - 0s 28ms/step\n",
      "1/1 [==============================] - 0s 33ms/step\n",
      "1/1 [==============================] - 0s 33ms/step\n",
      "1/1 [==============================] - 0s 31ms/step\n",
      "1/1 [==============================] - 0s 30ms/step\n",
      "1/1 [==============================] - 0s 29ms/step\n",
      "1/1 [==============================] - 0s 29ms/step\n",
      "1/1 [==============================] - 0s 32ms/step\n",
      "1/1 [==============================] - 0s 32ms/step\n",
      "1/1 [==============================] - 0s 31ms/step\n",
      "1/1 [==============================] - 0s 31ms/step\n",
      "1/1 [==============================] - 0s 30ms/step\n",
      "1/1 [==============================] - 0s 31ms/step\n",
      "1/1 [==============================] - 0s 33ms/step\n",
      "1/1 [==============================] - 0s 29ms/step\n",
      "1/1 [==============================] - 0s 30ms/step\n",
      "1/1 [==============================] - 0s 28ms/step\n",
      "1/1 [==============================] - 0s 28ms/step\n",
      "1/1 [==============================] - 0s 28ms/step\n",
      "1/1 [==============================] - 0s 28ms/step\n",
      "1/1 [==============================] - 0s 28ms/step\n",
      "1/1 [==============================] - 0s 28ms/step\n",
      "1/1 [==============================] - 0s 28ms/step\n",
      "1/1 [==============================] - 0s 28ms/step\n",
      "1/1 [==============================] - 0s 36ms/step\n",
      "1/1 [==============================] - 0s 29ms/step\n",
      "1/1 [==============================] - 0s 30ms/step\n",
      "1/1 [==============================] - 0s 29ms/step\n",
      "1/1 [==============================] - 0s 32ms/step\n",
      "1/1 [==============================] - 0s 30ms/step\n",
      "1/1 [==============================] - 0s 80ms/step\n",
      "1/1 [==============================] - 0s 33ms/step\n",
      "1/1 [==============================] - 0s 31ms/step\n",
      "1/1 [==============================] - 0s 30ms/step\n",
      "1/1 [==============================] - 0s 42ms/step\n",
      "1/1 [==============================] - 0s 31ms/step\n",
      "1/1 [==============================] - 0s 35ms/step\n",
      "1/1 [==============================] - 0s 28ms/step\n",
      "1/1 [==============================] - 0s 28ms/step\n",
      "1/1 [==============================] - 0s 29ms/step\n",
      "1/1 [==============================] - 0s 30ms/step\n",
      "1/1 [==============================] - 0s 26ms/step\n",
      "1/1 [==============================] - 0s 27ms/step\n",
      "1/1 [==============================] - 0s 26ms/step\n",
      "1/1 [==============================] - 0s 27ms/step\n",
      "1/1 [==============================] - 0s 37ms/step\n",
      "1/1 [==============================] - 0s 33ms/step\n",
      "1/1 [==============================] - 0s 29ms/step\n",
      "1/1 [==============================] - 0s 30ms/step\n",
      "1/1 [==============================] - 0s 31ms/step\n",
      "1/1 [==============================] - 0s 31ms/step\n",
      "1/1 [==============================] - 0s 32ms/step\n",
      "1/1 [==============================] - 0s 31ms/step\n",
      "1/1 [==============================] - 0s 30ms/step\n",
      "1/1 [==============================] - 0s 30ms/step\n",
      "1/1 [==============================] - 0s 32ms/step\n",
      "1/1 [==============================] - 0s 38ms/step\n",
      "1/1 [==============================] - 0s 32ms/step\n",
      "1/1 [==============================] - 0s 32ms/step\n",
      "1/1 [==============================] - 0s 31ms/step\n",
      "1/1 [==============================] - 0s 28ms/step\n",
      "1/1 [==============================] - 0s 31ms/step\n",
      "1/1 [==============================] - 0s 74ms/step\n",
      "1/1 [==============================] - 0s 31ms/step\n",
      "1/1 [==============================] - 0s 31ms/step\n",
      "1/1 [==============================] - 0s 30ms/step\n",
      "1/1 [==============================] - 0s 37ms/step\n",
      "1/1 [==============================] - 0s 33ms/step\n",
      "1/1 [==============================] - 0s 31ms/step\n",
      "1/1 [==============================] - 0s 31ms/step\n",
      "1/1 [==============================] - 0s 31ms/step\n",
      "1/1 [==============================] - 0s 31ms/step\n",
      "1/1 [==============================] - 0s 70ms/step\n",
      "1/1 [==============================] - 0s 30ms/step\n",
      "1/1 [==============================] - 0s 31ms/step\n",
      "1/1 [==============================] - 0s 33ms/step\n",
      "1/1 [==============================] - 0s 28ms/step\n",
      "1/1 [==============================] - 0s 31ms/step\n",
      "1/1 [==============================] - 0s 28ms/step\n",
      "1/1 [==============================] - 0s 28ms/step\n",
      "1/1 [==============================] - 0s 28ms/step\n",
      "1/1 [==============================] - 0s 29ms/step\n",
      "1/1 [==============================] - 0s 29ms/step\n",
      "1/1 [==============================] - 0s 28ms/step\n",
      "1/1 [==============================] - 0s 28ms/step\n",
      "1/1 [==============================] - 0s 28ms/step\n",
      "1/1 [==============================] - 0s 29ms/step\n",
      "1/1 [==============================] - 0s 33ms/step\n",
      "1/1 [==============================] - 0s 33ms/step\n",
      "1/1 [==============================] - 0s 37ms/step\n",
      "1/1 [==============================] - 0s 31ms/step\n",
      "1/1 [==============================] - 0s 31ms/step\n",
      "1/1 [==============================] - 0s 31ms/step\n",
      "1/1 [==============================] - 0s 31ms/step\n",
      "1/1 [==============================] - 0s 30ms/step\n",
      "1/1 [==============================] - 0s 33ms/step\n",
      "1/1 [==============================] - 0s 32ms/step\n",
      "1/1 [==============================] - 0s 55ms/step\n",
      "1/1 [==============================] - 0s 31ms/step\n",
      "1/1 [==============================] - 0s 30ms/step\n",
      "1/1 [==============================] - 0s 31ms/step\n",
      "1/1 [==============================] - 0s 30ms/step\n",
      "1/1 [==============================] - 0s 29ms/step\n",
      "1/1 [==============================] - 0s 32ms/step\n",
      "1/1 [==============================] - 0s 30ms/step\n",
      "1/1 [==============================] - 0s 30ms/step\n",
      "1/1 [==============================] - 0s 26ms/step\n",
      "1/1 [==============================] - 0s 36ms/step\n",
      "1/1 [==============================] - 0s 30ms/step\n",
      "1/1 [==============================] - 0s 30ms/step\n",
      "1/1 [==============================] - 0s 32ms/step\n",
      "1/1 [==============================] - 0s 29ms/step\n",
      "1/1 [==============================] - 0s 31ms/step\n",
      "1/1 [==============================] - 0s 31ms/step\n",
      "1/1 [==============================] - 0s 31ms/step\n",
      "1/1 [==============================] - 0s 32ms/step\n",
      "1/1 [==============================] - 0s 29ms/step\n",
      "1/1 [==============================] - 0s 30ms/step\n",
      "1/1 [==============================] - 0s 33ms/step\n",
      "1/1 [==============================] - 0s 30ms/step\n",
      "1/1 [==============================] - 0s 31ms/step\n",
      "1/1 [==============================] - 0s 31ms/step\n",
      "1/1 [==============================] - 0s 29ms/step\n",
      "1/1 [==============================] - 0s 29ms/step\n",
      "1/1 [==============================] - 0s 28ms/step\n",
      "1/1 [==============================] - 0s 31ms/step\n",
      "1/1 [==============================] - 0s 31ms/step\n",
      "1/1 [==============================] - 0s 32ms/step\n",
      "1/1 [==============================] - 0s 29ms/step\n",
      "1/1 [==============================] - 0s 30ms/step\n",
      "1/1 [==============================] - 0s 33ms/step\n",
      "1/1 [==============================] - 0s 33ms/step\n",
      "1/1 [==============================] - 0s 30ms/step\n",
      "1/1 [==============================] - 0s 31ms/step\n",
      "1/1 [==============================] - 0s 31ms/step\n",
      "1/1 [==============================] - 0s 31ms/step\n",
      "1/1 [==============================] - 0s 29ms/step\n",
      "1/1 [==============================] - 0s 29ms/step\n",
      "1/1 [==============================] - 0s 29ms/step\n",
      "1/1 [==============================] - 0s 30ms/step\n",
      "1/1 [==============================] - 0s 32ms/step\n",
      "1/1 [==============================] - 0s 33ms/step\n",
      "1/1 [==============================] - 0s 34ms/step\n",
      "1/1 [==============================] - 0s 32ms/step\n",
      "1/1 [==============================] - 0s 31ms/step\n",
      "1/1 [==============================] - 0s 32ms/step\n"
     ]
    }
   ],
   "source": [
    "ball_Tracker = BallTracker(input_video_path,\"/home/JouiniAhmad/Desktop/douma/Badminton_Project/traknet_weights\")\n",
    "#predict method creates and saves csv label files\n",
    "ball_Tracker.predict()"
   ]
  },
  {
   "cell_type": "code",
   "execution_count": 4,
   "metadata": {},
   "outputs": [],
   "source": [
    "#Source video to test on \n",
    "input_video_path = \"/home/JouiniAhmad/Desktop/douma/Badminton_Project/ball_predicted/test_ball_predict.mp4\"\n",
    "#predicted ball trajectory csv file\n",
    "input_csv_path = \"/home/JouiniAhmad/Desktop/douma/Badminton_Project/ball_predicted/test_ball_predict.csv\""
   ]
  },
  {
   "cell_type": "code",
   "execution_count": 5,
   "metadata": {},
   "outputs": [],
   "source": [
    "#load movenet model\n",
    "model = hub.load('https://tfhub.dev/google/movenet/multipose/lightning/1')\n",
    "movenet = model.signatures['serving_default']"
   ]
  },
  {
   "cell_type": "code",
   "execution_count": 6,
   "metadata": {},
   "outputs": [],
   "source": [
    "#call models\n",
    "multipose = MultiPoseEstimation(2,'skeleton',movenet)\n",
    "court_model = CourtDetector()\n",
    "Action_model = ActionDetector(\"/home/JouiniAhmad/Desktop/douma/Badminton_Project/action_rec_weights.h5\")"
   ]
  },
  {
   "cell_type": "code",
   "execution_count": 7,
   "metadata": {},
   "outputs": [
    {
     "name": "stderr",
     "output_type": "stream",
     "text": [
      "/tmp/ipykernel_108182/2102608968.py:3: FutureWarning: The frame.append method is deprecated and will be removed from pandas in a future version. Use pandas.concat instead.\n",
      "  inputs = inputs.append({'Players_Positions':[],'Players_Skeletons':[],'Court_Center': ()}, ignore_index=True)\n",
      "/tmp/ipykernel_108182/2102608968.py:4: FutureWarning: The frame.append method is deprecated and will be removed from pandas in a future version. Use pandas.concat instead.\n",
      "  inputs = inputs.append({'Players_Positions':[],'Players_Skeletons':[],'Court_Center': ()}, ignore_index=True)\n"
     ]
    }
   ],
   "source": [
    "inputs = pd.DataFrame(columns=['Players_Positions', 'Players_Skeletons', 'Court_Center'])\n",
    "#add 2 empty rows for first 2 frames \n",
    "inputs = inputs.append({'Players_Positions':[],'Players_Skeletons':[],'Court_Center': ()}, ignore_index=True)\n",
    "inputs = inputs.append({'Players_Positions':[],'Players_Skeletons':[],'Court_Center': ()}, ignore_index=True)\n",
    "\n",
    "ball_csv = pd.read_csv(input_csv_path)"
   ]
  },
  {
   "cell_type": "code",
   "execution_count": 8,
   "metadata": {},
   "outputs": [],
   "source": [
    "with open(input_csv_path) as csvfile:\n",
    "\treadCSV = csv.reader(csvfile, delimiter=',')\n",
    "\tframes = []\n",
    "\tx, y = [], []\n",
    "\tlist1 = []\n",
    "\tfor row in readCSV:\n",
    "\t\tlist1.append(row)\n",
    "\tfor i in range(1 , len(list1)):\n",
    "\t\tframes += [int(list1[i][0])]\n",
    "\t\tx += [int(float(list1[i][2]))]\n",
    "\t\ty += [int(float(list1[i][3]))]\n",
    "\n",
    "output_video_path = \"./classifier_inputs/test_merged_Result.mp4\"\n",
    "\n",
    "q = queue.deque()\n",
    "#we will save and plot the last 8 coordinates from current position\n",
    "for i in range(0,8):\n",
    "\tq.appendleft(None)"
   ]
  },
  {
   "cell_type": "code",
   "execution_count": 9,
   "metadata": {},
   "outputs": [],
   "source": [
    "def merge_frames(frame,img1):\n",
    "\n",
    "    images =[]\n",
    "    max_width = 0 # find the max width of all the images\n",
    "    total_height = 0 # the total height of the images (vertical stacking)\n",
    "\n",
    "    for name in [frame,img1]:\n",
    "        # open all images and find their sizes\n",
    "        images.append(name)\n",
    "        if images[-1].shape[0] > total_height:\n",
    "            total_height = images[-1].shape[0]\n",
    "        max_width += images[-1].shape[1]    \n",
    "\n",
    "    # create a new array with a size large enough to contain all the images\n",
    "    final_image = np.zeros((total_height,max_width,3),dtype=np.uint8)\n",
    "\n",
    "    return final_image,images"
   ]
  },
  {
   "cell_type": "code",
   "execution_count": 10,
   "metadata": {},
   "outputs": [
    {
     "name": "stderr",
     "output_type": "stream",
     "text": [
      "OpenCV: FFMPEG: tag 0x44495658/'XVID' is not supported with codec id 12 and format 'mp4 / MP4 (MPEG-4 Part 14)'\n",
      "OpenCV: FFMPEG: fallback to use tag 0x7634706d/'mp4v'\n"
     ]
    }
   ],
   "source": [
    "#get video fps&video size\n",
    "currentFrame= 0\n",
    "video = cv2.VideoCapture(input_video_path)\n",
    "fps = int(video.get(cv2.CAP_PROP_FPS))\n",
    "#output_width = int(video.get(cv2.CAP_PROP_FRAME_WIDTH))\n",
    "#output_height = int(video.get(cv2.CAP_PROP_FRAME_HEIGHT))\n",
    "fourcc = cv2.VideoWriter_fourcc(*'XVID')\n",
    "#output_video = cv2.VideoWriter(output_video_path,fourcc, fps, (output_width,output_height))\n",
    "\n",
    "video.set(1,currentFrame); \n",
    "ret, img1 = video.read()\n",
    "\n",
    "#find_homography_matrix\n",
    "imag1 = cv2.imread(\"/home/JouiniAhmad/Desktop/douma/Badminton_Project/data/images/court.jpg\")\n",
    "court = court_model.detect_court(img1)\n",
    "pts_dst =np.array([(4,4),(267,4),(4,509),(267,509)])\n",
    "H, status = cv2.findHomography(court[3], pts_dst)\n",
    "imag2 = cv2.warpPerspective(img1, H,[imag1.shape[1],imag1.shape[0]])\n",
    "\n",
    "final_image,images = merge_frames(img1,imag1)\n",
    "output_width = final_image.shape[1]\n",
    "output_height = final_image.shape[0]\n",
    "output_video = cv2.VideoWriter(output_video_path,fourcc, fps, (output_width,output_height))\n",
    "\n",
    "#write image to video\n",
    "output_video.write(final_image)\n",
    "currentFrame +=1\n",
    "#input must be float type\n",
    "img1 = img1.astype(np.float32)\n",
    "\n",
    "#capture frame-by-frame\n",
    "video.set(1,currentFrame)\n",
    "ret, img = video.read()\n",
    "final_image,images = merge_frames(img,imag1)\n",
    "#write image to video\n",
    "output_video.write(final_image)\n",
    "currentFrame +=1\n",
    "#input must be float type\n",
    "img = img.astype(np.float32)"
   ]
  },
  {
   "cell_type": "code",
   "execution_count": 11,
   "metadata": {},
   "outputs": [
    {
     "name": "stdout",
     "output_type": "stream",
     "text": [
      "=========== Start Predicting ===========\n"
     ]
    },
    {
     "name": "stderr",
     "output_type": "stream",
     "text": [
      "/home/JouiniAhmad/Desktop/douma/Badminton_Project/MultiPose_estimation.py:95: NumbaWarning: \u001b[1m\n",
      "Compilation is falling back to object mode WITH looplifting enabled because Function \"detect_player\" failed type inference due to: \u001b[1m\u001b[1mnon-precise type pyobject\u001b[0m\n",
      "\u001b[0m\u001b[1mDuring: typing of argument at /home/JouiniAhmad/Desktop/douma/Badminton_Project/MultiPose_estimation.py (98)\u001b[0m\n",
      "\u001b[1m\n",
      "File \"MultiPose_estimation.py\", line 98:\u001b[0m\n",
      "\u001b[1m    def detect_player(self,input_img,frame,court):\n",
      "        <source elided>\n",
      "\n",
      "\u001b[1m        self.center = court[1] \n",
      "\u001b[0m        \u001b[1m^\u001b[0m\u001b[0m\n",
      "\u001b[0m\n",
      "  @jit\n",
      "/home/JouiniAhmad/Desktop/douma/Badminton_Project/MultiPose_estimation.py:95: NumbaWarning: \u001b[1m\n",
      "Compilation is falling back to object mode WITHOUT looplifting enabled because Function \"detect_player\" failed type inference due to: \u001b[1m\u001b[1mCannot determine Numba type of <class 'numba.core.dispatcher.LiftedLoop'>\u001b[0m\n",
      "\u001b[1m\n",
      "File \"MultiPose_estimation.py\", line 120:\u001b[0m\n",
      "\u001b[1m    def detect_player(self,input_img,frame,court):\n",
      "        <source elided>\n",
      "            #range is same passed to find_player\n",
      "\u001b[1m            centers,players = self.find_player(court[1],centers,players)\n",
      "\u001b[0m            \u001b[1m^\u001b[0m\u001b[0m\n",
      "\u001b[0m\u001b[0m\n",
      "  @jit\n",
      "/home/JouiniAhmad/.local/lib/python3.8/site-packages/numba/core/object_mode_passes.py:151: NumbaWarning: \u001b[1mFunction \"detect_player\" was compiled in object mode without forceobj=True, but has lifted loops.\n",
      "\u001b[1m\n",
      "File \"MultiPose_estimation.py\", line 98:\u001b[0m\n",
      "\u001b[1m    def detect_player(self,input_img,frame,court):\n",
      "        <source elided>\n",
      "\n",
      "\u001b[1m        self.center = court[1] \n",
      "\u001b[0m        \u001b[1m^\u001b[0m\u001b[0m\n",
      "\u001b[0m\n",
      "  warnings.warn(errors.NumbaWarning(warn_msg,\n",
      "/home/JouiniAhmad/.local/lib/python3.8/site-packages/numba/core/object_mode_passes.py:161: NumbaDeprecationWarning: \u001b[1m\n",
      "Fall-back from the nopython compilation path to the object mode compilation path has been detected, this is deprecated behaviour.\n",
      "\n",
      "For more information visit https://numba.readthedocs.io/en/stable/reference/deprecation.html#deprecation-of-object-mode-fall-back-behaviour-when-using-jit\n",
      "\u001b[1m\n",
      "File \"MultiPose_estimation.py\", line 98:\u001b[0m\n",
      "\u001b[1m    def detect_player(self,input_img,frame,court):\n",
      "        <source elided>\n",
      "\n",
      "\u001b[1m        self.center = court[1] \n",
      "\u001b[0m        \u001b[1m^\u001b[0m\u001b[0m\n",
      "\u001b[0m\n",
      "  warnings.warn(errors.NumbaDeprecationWarning(msg,\n",
      "/home/JouiniAhmad/Desktop/douma/Badminton_Project/MultiPose_estimation.py:95: NumbaWarning: \u001b[1m\n",
      "Compilation is falling back to object mode WITHOUT looplifting enabled because Function \"detect_player\" failed type inference due to: \u001b[1m\u001b[1mnon-precise type pyobject\u001b[0m\n",
      "\u001b[0m\u001b[1mDuring: typing of argument at /home/JouiniAhmad/Desktop/douma/Badminton_Project/MultiPose_estimation.py (120)\u001b[0m\n",
      "\u001b[1m\n",
      "File \"MultiPose_estimation.py\", line 120:\u001b[0m\n",
      "\u001b[1m    def detect_player(self,input_img,frame,court):\n",
      "        <source elided>\n",
      "            #range is same passed to find_player\n",
      "\u001b[1m            centers,players = self.find_player(court[1],centers,players)\n",
      "\u001b[0m            \u001b[1m^\u001b[0m\u001b[0m\n",
      "\u001b[0m\n",
      "  @jit\n",
      "/home/JouiniAhmad/.local/lib/python3.8/site-packages/numba/core/object_mode_passes.py:151: NumbaWarning: \u001b[1mFunction \"detect_player\" was compiled in object mode without forceobj=True.\n",
      "\u001b[1m\n",
      "File \"MultiPose_estimation.py\", line 120:\u001b[0m\n",
      "\u001b[1m    def detect_player(self,input_img,frame,court):\n",
      "        <source elided>\n",
      "            #range is same passed to find_player\n",
      "\u001b[1m            centers,players = self.find_player(court[1],centers,players)\n",
      "\u001b[0m            \u001b[1m^\u001b[0m\u001b[0m\n",
      "\u001b[0m\n",
      "  warnings.warn(errors.NumbaWarning(warn_msg,\n",
      "/home/JouiniAhmad/.local/lib/python3.8/site-packages/numba/core/object_mode_passes.py:161: NumbaDeprecationWarning: \u001b[1m\n",
      "Fall-back from the nopython compilation path to the object mode compilation path has been detected, this is deprecated behaviour.\n",
      "\n",
      "For more information visit https://numba.readthedocs.io/en/stable/reference/deprecation.html#deprecation-of-object-mode-fall-back-behaviour-when-using-jit\n",
      "\u001b[1m\n",
      "File \"MultiPose_estimation.py\", line 120:\u001b[0m\n",
      "\u001b[1m    def detect_player(self,input_img,frame,court):\n",
      "        <source elided>\n",
      "            #range is same passed to find_player\n",
      "\u001b[1m            centers,players = self.find_player(court[1],centers,players)\n",
      "\u001b[0m            \u001b[1m^\u001b[0m\u001b[0m\n",
      "\u001b[0m\n",
      "  warnings.warn(errors.NumbaDeprecationWarning(msg,\n",
      "/home/JouiniAhmad/Desktop/douma/Badminton_Project/MultiPose_estimation.py:79: NumbaWarning: \u001b[1m\n",
      "Compilation is falling back to object mode WITH looplifting enabled because Function \"find_player\" failed type inference due to: \u001b[1m\u001b[1mnon-precise type pyobject\u001b[0m\n",
      "\u001b[0m\u001b[1mDuring: typing of argument at /home/JouiniAhmad/Desktop/douma/Badminton_Project/MultiPose_estimation.py (82)\u001b[0m\n",
      "\u001b[1m\n",
      "File \"MultiPose_estimation.py\", line 82:\u001b[0m\n",
      "\u001b[1m    def find_player(self,center,centers,players):\n",
      "        <source elided>\n",
      "\n",
      "\u001b[1m        A=np.array(list(centers.values()))\n",
      "\u001b[0m        \u001b[1m^\u001b[0m\u001b[0m\n",
      "\u001b[0m\n",
      "  @jit\n",
      "/home/JouiniAhmad/Desktop/douma/Badminton_Project/MultiPose_estimation.py:79: NumbaWarning: \u001b[1m\n",
      "Compilation is falling back to object mode WITHOUT looplifting enabled because Function \"find_player\" failed type inference due to: \u001b[1m\u001b[1mCannot determine Numba type of <class 'numba.core.dispatcher.LiftedLoop'>\u001b[0m\n",
      "\u001b[1m\n",
      "File \"MultiPose_estimation.py\", line 85:\u001b[0m\n",
      "\u001b[1m    def find_player(self,center,centers,players):\n",
      "        <source elided>\n",
      "        true_players={}\n",
      "\u001b[1m        for i in range(self.number_players):\n",
      "\u001b[0m        \u001b[1m^\u001b[0m\u001b[0m\n",
      "\u001b[0m\u001b[0m\n",
      "  @jit\n",
      "/home/JouiniAhmad/.local/lib/python3.8/site-packages/numba/core/object_mode_passes.py:151: NumbaWarning: \u001b[1mFunction \"find_player\" was compiled in object mode without forceobj=True, but has lifted loops.\n",
      "\u001b[1m\n",
      "File \"MultiPose_estimation.py\", line 82:\u001b[0m\n",
      "\u001b[1m    def find_player(self,center,centers,players):\n",
      "        <source elided>\n",
      "\n",
      "\u001b[1m        A=np.array(list(centers.values()))\n",
      "\u001b[0m        \u001b[1m^\u001b[0m\u001b[0m\n",
      "\u001b[0m\n",
      "  warnings.warn(errors.NumbaWarning(warn_msg,\n",
      "/home/JouiniAhmad/.local/lib/python3.8/site-packages/numba/core/object_mode_passes.py:161: NumbaDeprecationWarning: \u001b[1m\n",
      "Fall-back from the nopython compilation path to the object mode compilation path has been detected, this is deprecated behaviour.\n",
      "\n",
      "For more information visit https://numba.readthedocs.io/en/stable/reference/deprecation.html#deprecation-of-object-mode-fall-back-behaviour-when-using-jit\n",
      "\u001b[1m\n",
      "File \"MultiPose_estimation.py\", line 82:\u001b[0m\n",
      "\u001b[1m    def find_player(self,center,centers,players):\n",
      "        <source elided>\n",
      "\n",
      "\u001b[1m        A=np.array(list(centers.values()))\n",
      "\u001b[0m        \u001b[1m^\u001b[0m\u001b[0m\n",
      "\u001b[0m\n",
      "  warnings.warn(errors.NumbaDeprecationWarning(msg,\n",
      "/home/JouiniAhmad/Desktop/douma/Badminton_Project/MultiPose_estimation.py:79: NumbaWarning: \u001b[1m\n",
      "Compilation is falling back to object mode WITHOUT looplifting enabled because Function \"find_player\" failed type inference due to: \u001b[1m\u001b[1mnon-precise type pyobject\u001b[0m\n",
      "\u001b[0m\u001b[1mDuring: typing of argument at /home/JouiniAhmad/Desktop/douma/Badminton_Project/MultiPose_estimation.py (85)\u001b[0m\n",
      "\u001b[1m\n",
      "File \"MultiPose_estimation.py\", line 85:\u001b[0m\n",
      "\u001b[1m    def find_player(self,center,centers,players):\n",
      "        <source elided>\n",
      "        true_players={}\n",
      "\u001b[1m        for i in range(self.number_players):\n",
      "\u001b[0m        \u001b[1m^\u001b[0m\u001b[0m\n",
      "\u001b[0m\n",
      "  @jit\n",
      "/home/JouiniAhmad/.local/lib/python3.8/site-packages/numba/core/object_mode_passes.py:151: NumbaWarning: \u001b[1mFunction \"find_player\" was compiled in object mode without forceobj=True.\n",
      "\u001b[1m\n",
      "File \"MultiPose_estimation.py\", line 85:\u001b[0m\n",
      "\u001b[1m    def find_player(self,center,centers,players):\n",
      "        <source elided>\n",
      "        true_players={}\n",
      "\u001b[1m        for i in range(self.number_players):\n",
      "\u001b[0m        \u001b[1m^\u001b[0m\u001b[0m\n",
      "\u001b[0m\n",
      "  warnings.warn(errors.NumbaWarning(warn_msg,\n",
      "/home/JouiniAhmad/.local/lib/python3.8/site-packages/numba/core/object_mode_passes.py:161: NumbaDeprecationWarning: \u001b[1m\n",
      "Fall-back from the nopython compilation path to the object mode compilation path has been detected, this is deprecated behaviour.\n",
      "\n",
      "For more information visit https://numba.readthedocs.io/en/stable/reference/deprecation.html#deprecation-of-object-mode-fall-back-behaviour-when-using-jit\n",
      "\u001b[1m\n",
      "File \"MultiPose_estimation.py\", line 85:\u001b[0m\n",
      "\u001b[1m    def find_player(self,center,centers,players):\n",
      "        <source elided>\n",
      "        true_players={}\n",
      "\u001b[1m        for i in range(self.number_players):\n",
      "\u001b[0m        \u001b[1m^\u001b[0m\u001b[0m\n",
      "\u001b[0m\n",
      "  warnings.warn(errors.NumbaDeprecationWarning(msg,\n",
      "/home/JouiniAhmad/Desktop/douma/Badminton_Project/MultiPose_estimation.py:65: NumbaWarning: \u001b[1m\n",
      "Compilation is falling back to object mode WITH looplifting enabled because Function \"draw_connections\" failed type inference due to: \u001b[1m\u001b[1mnon-precise type pyobject\u001b[0m\n",
      "\u001b[0m\u001b[1mDuring: typing of argument at /home/JouiniAhmad/Desktop/douma/Badminton_Project/MultiPose_estimation.py (68)\u001b[0m\n",
      "\u001b[1m\n",
      "File \"MultiPose_estimation.py\", line 68:\u001b[0m\n",
      "\u001b[1m    def draw_connections(self,frame, keypoints):\n",
      "        <source elided>\n",
      "    \n",
      "\u001b[1m        y, x, c = frame.shape\n",
      "\u001b[0m        \u001b[1m^\u001b[0m\u001b[0m\n",
      "\u001b[0m\n",
      "  @jit\n",
      "/home/JouiniAhmad/Desktop/douma/Badminton_Project/MultiPose_estimation.py:65: NumbaWarning: \u001b[1m\n",
      "Compilation is falling back to object mode WITHOUT looplifting enabled because Function \"draw_connections\" failed type inference due to: \u001b[1m\u001b[1mCannot determine Numba type of <class 'numba.core.dispatcher.LiftedLoop'>\u001b[0m\n",
      "\u001b[1m\n",
      "File \"MultiPose_estimation.py\", line 71:\u001b[0m\n",
      "\u001b[1m    def draw_connections(self,frame, keypoints):\n",
      "        <source elided>\n",
      "    \n",
      "\u001b[1m        for edge, color in self.edges.items():\n",
      "\u001b[0m        \u001b[1m^\u001b[0m\u001b[0m\n",
      "\u001b[0m\u001b[0m\n",
      "  @jit\n",
      "/home/JouiniAhmad/.local/lib/python3.8/site-packages/numba/core/object_mode_passes.py:151: NumbaWarning: \u001b[1mFunction \"draw_connections\" was compiled in object mode without forceobj=True, but has lifted loops.\n",
      "\u001b[1m\n",
      "File \"MultiPose_estimation.py\", line 68:\u001b[0m\n",
      "\u001b[1m    def draw_connections(self,frame, keypoints):\n",
      "        <source elided>\n",
      "    \n",
      "\u001b[1m        y, x, c = frame.shape\n",
      "\u001b[0m        \u001b[1m^\u001b[0m\u001b[0m\n",
      "\u001b[0m\n",
      "  warnings.warn(errors.NumbaWarning(warn_msg,\n",
      "/home/JouiniAhmad/.local/lib/python3.8/site-packages/numba/core/object_mode_passes.py:161: NumbaDeprecationWarning: \u001b[1m\n",
      "Fall-back from the nopython compilation path to the object mode compilation path has been detected, this is deprecated behaviour.\n",
      "\n",
      "For more information visit https://numba.readthedocs.io/en/stable/reference/deprecation.html#deprecation-of-object-mode-fall-back-behaviour-when-using-jit\n",
      "\u001b[1m\n",
      "File \"MultiPose_estimation.py\", line 68:\u001b[0m\n",
      "\u001b[1m    def draw_connections(self,frame, keypoints):\n",
      "        <source elided>\n",
      "    \n",
      "\u001b[1m        y, x, c = frame.shape\n",
      "\u001b[0m        \u001b[1m^\u001b[0m\u001b[0m\n",
      "\u001b[0m\n",
      "  warnings.warn(errors.NumbaDeprecationWarning(msg,\n",
      "/home/JouiniAhmad/Desktop/douma/Badminton_Project/MultiPose_estimation.py:65: NumbaWarning: \u001b[1m\n",
      "Compilation is falling back to object mode WITHOUT looplifting enabled because Function \"draw_connections\" failed type inference due to: \u001b[1m\u001b[1mnon-precise type pyobject\u001b[0m\n",
      "\u001b[0m\u001b[1mDuring: typing of argument at /home/JouiniAhmad/Desktop/douma/Badminton_Project/MultiPose_estimation.py (71)\u001b[0m\n",
      "\u001b[1m\n",
      "File \"MultiPose_estimation.py\", line 71:\u001b[0m\n",
      "\u001b[1m    def draw_connections(self,frame, keypoints):\n",
      "        <source elided>\n",
      "    \n",
      "\u001b[1m        for edge, color in self.edges.items():\n",
      "\u001b[0m        \u001b[1m^\u001b[0m\u001b[0m\n",
      "\u001b[0m\n",
      "  @jit\n",
      "/home/JouiniAhmad/.local/lib/python3.8/site-packages/numba/core/object_mode_passes.py:151: NumbaWarning: \u001b[1mFunction \"draw_connections\" was compiled in object mode without forceobj=True.\n",
      "\u001b[1m\n",
      "File \"MultiPose_estimation.py\", line 71:\u001b[0m\n",
      "\u001b[1m    def draw_connections(self,frame, keypoints):\n",
      "        <source elided>\n",
      "    \n",
      "\u001b[1m        for edge, color in self.edges.items():\n",
      "\u001b[0m        \u001b[1m^\u001b[0m\u001b[0m\n",
      "\u001b[0m\n",
      "  warnings.warn(errors.NumbaWarning(warn_msg,\n",
      "/home/JouiniAhmad/.local/lib/python3.8/site-packages/numba/core/object_mode_passes.py:161: NumbaDeprecationWarning: \u001b[1m\n",
      "Fall-back from the nopython compilation path to the object mode compilation path has been detected, this is deprecated behaviour.\n",
      "\n",
      "For more information visit https://numba.readthedocs.io/en/stable/reference/deprecation.html#deprecation-of-object-mode-fall-back-behaviour-when-using-jit\n",
      "\u001b[1m\n",
      "File \"MultiPose_estimation.py\", line 71:\u001b[0m\n",
      "\u001b[1m    def draw_connections(self,frame, keypoints):\n",
      "        <source elided>\n",
      "    \n",
      "\u001b[1m        for edge, color in self.edges.items():\n",
      "\u001b[0m        \u001b[1m^\u001b[0m\u001b[0m\n",
      "\u001b[0m\n",
      "  warnings.warn(errors.NumbaDeprecationWarning(msg,\n",
      "/home/JouiniAhmad/Desktop/douma/Badminton_Project/MultiPose_estimation.py:47: NumbaWarning: \u001b[1m\n",
      "Compilation is falling back to object mode WITH looplifting enabled because Function \"draw_keypoints\" failed type inference due to: \u001b[1m\u001b[1mnon-precise type pyobject\u001b[0m\n",
      "\u001b[0m\u001b[1mDuring: typing of argument at /home/JouiniAhmad/Desktop/douma/Badminton_Project/MultiPose_estimation.py (49)\u001b[0m\n",
      "\u001b[1m\n",
      "File \"MultiPose_estimation.py\", line 49:\u001b[0m\n",
      "\u001b[1m    def draw_keypoints(self,frame, keypoints):\n",
      "\u001b[1m        green = False\n",
      "\u001b[0m        \u001b[1m^\u001b[0m\u001b[0m\n",
      "\u001b[0m\n",
      "  @jit\n"
     ]
    },
    {
     "name": "stdout",
     "output_type": "stream",
     "text": [
      "1/1 [==============================] - 0s 43ms/step\n",
      "1/1 [==============================] - 0s 24ms/step\n"
     ]
    },
    {
     "name": "stderr",
     "output_type": "stream",
     "text": [
      "/home/JouiniAhmad/.local/lib/python3.8/site-packages/numba/core/object_mode_passes.py:151: NumbaWarning: \u001b[1mFunction \"draw_keypoints\" was compiled in object mode without forceobj=True.\n",
      "\u001b[1m\n",
      "File \"MultiPose_estimation.py\", line 48:\u001b[0m\n",
      "\u001b[1m    @jit \n",
      "\u001b[1m    def draw_keypoints(self,frame, keypoints):\n",
      "\u001b[0m    \u001b[1m^\u001b[0m\u001b[0m\n",
      "\u001b[0m\n",
      "  warnings.warn(errors.NumbaWarning(warn_msg,\n",
      "/home/JouiniAhmad/.local/lib/python3.8/site-packages/numba/core/object_mode_passes.py:161: NumbaDeprecationWarning: \u001b[1m\n",
      "Fall-back from the nopython compilation path to the object mode compilation path has been detected, this is deprecated behaviour.\n",
      "\n",
      "For more information visit https://numba.readthedocs.io/en/stable/reference/deprecation.html#deprecation-of-object-mode-fall-back-behaviour-when-using-jit\n",
      "\u001b[1m\n",
      "File \"MultiPose_estimation.py\", line 48:\u001b[0m\n",
      "\u001b[1m    @jit \n",
      "\u001b[1m    def draw_keypoints(self,frame, keypoints):\n",
      "\u001b[0m    \u001b[1m^\u001b[0m\u001b[0m\n",
      "\u001b[0m\n",
      "  warnings.warn(errors.NumbaDeprecationWarning(msg,\n",
      "2022-09-02 17:20:37.033230: I tensorflow/stream_executor/cuda/cuda_blas.cc:1786] TensorFloat-32 will be used for the matrix multiplication. This will only be logged once.\n",
      "/home/JouiniAhmad/Desktop/douma/Badminton_Project/detect_actions.py:158: FutureWarning: The frame.append method is deprecated and will be removed from pandas in a future version. Use pandas.concat instead.\n",
      "  self.strokesA = self.strokesA.append({'Player_A':'___'}, ignore_index=True)\n",
      "/home/JouiniAhmad/Desktop/douma/Badminton_Project/detect_actions.py:164: FutureWarning: The frame.append method is deprecated and will be removed from pandas in a future version. Use pandas.concat instead.\n",
      "  self.strokesB = self.strokesB.append({'Player_B':'___'}, ignore_index=True)\n",
      "/tmp/ipykernel_108182/3855559223.py:45: FutureWarning: The frame.append method is deprecated and will be removed from pandas in a future version. Use pandas.concat instead.\n",
      "  inputs = inputs.append({'Players_Positions':multipose.positions,'Players_Skeletons':multipose.skeletons,'Court_Center': multipose.center}, ignore_index=True)\n"
     ]
    },
    {
     "name": "stdout",
     "output_type": "stream",
     "text": [
      "1/1 [==============================] - 0s 25ms/step\n",
      "1/1 [==============================] - 0s 25ms/step\n"
     ]
    },
    {
     "name": "stderr",
     "output_type": "stream",
     "text": [
      "/home/JouiniAhmad/Desktop/douma/Badminton_Project/detect_actions.py:158: FutureWarning: The frame.append method is deprecated and will be removed from pandas in a future version. Use pandas.concat instead.\n",
      "  self.strokesA = self.strokesA.append({'Player_A':'___'}, ignore_index=True)\n",
      "/home/JouiniAhmad/Desktop/douma/Badminton_Project/detect_actions.py:164: FutureWarning: The frame.append method is deprecated and will be removed from pandas in a future version. Use pandas.concat instead.\n",
      "  self.strokesB = self.strokesB.append({'Player_B':'___'}, ignore_index=True)\n",
      "/tmp/ipykernel_108182/3855559223.py:45: FutureWarning: The frame.append method is deprecated and will be removed from pandas in a future version. Use pandas.concat instead.\n",
      "  inputs = inputs.append({'Players_Positions':multipose.positions,'Players_Skeletons':multipose.skeletons,'Court_Center': multipose.center}, ignore_index=True)\n"
     ]
    },
    {
     "name": "stdout",
     "output_type": "stream",
     "text": [
      "1/1 [==============================] - 0s 26ms/step\n",
      "1/1 [==============================] - 0s 35ms/step\n"
     ]
    },
    {
     "name": "stderr",
     "output_type": "stream",
     "text": [
      "/home/JouiniAhmad/Desktop/douma/Badminton_Project/detect_actions.py:158: FutureWarning: The frame.append method is deprecated and will be removed from pandas in a future version. Use pandas.concat instead.\n",
      "  self.strokesA = self.strokesA.append({'Player_A':'___'}, ignore_index=True)\n",
      "/home/JouiniAhmad/Desktop/douma/Badminton_Project/detect_actions.py:164: FutureWarning: The frame.append method is deprecated and will be removed from pandas in a future version. Use pandas.concat instead.\n",
      "  self.strokesB = self.strokesB.append({'Player_B':'___'}, ignore_index=True)\n",
      "/tmp/ipykernel_108182/3855559223.py:45: FutureWarning: The frame.append method is deprecated and will be removed from pandas in a future version. Use pandas.concat instead.\n",
      "  inputs = inputs.append({'Players_Positions':multipose.positions,'Players_Skeletons':multipose.skeletons,'Court_Center': multipose.center}, ignore_index=True)\n"
     ]
    },
    {
     "name": "stdout",
     "output_type": "stream",
     "text": [
      "1/1 [==============================] - 0s 26ms/step\n",
      "1/1 [==============================] - 0s 27ms/step\n"
     ]
    },
    {
     "name": "stderr",
     "output_type": "stream",
     "text": [
      "/home/JouiniAhmad/Desktop/douma/Badminton_Project/detect_actions.py:158: FutureWarning: The frame.append method is deprecated and will be removed from pandas in a future version. Use pandas.concat instead.\n",
      "  self.strokesA = self.strokesA.append({'Player_A':'___'}, ignore_index=True)\n",
      "/home/JouiniAhmad/Desktop/douma/Badminton_Project/detect_actions.py:164: FutureWarning: The frame.append method is deprecated and will be removed from pandas in a future version. Use pandas.concat instead.\n",
      "  self.strokesB = self.strokesB.append({'Player_B':'___'}, ignore_index=True)\n",
      "/tmp/ipykernel_108182/3855559223.py:45: FutureWarning: The frame.append method is deprecated and will be removed from pandas in a future version. Use pandas.concat instead.\n",
      "  inputs = inputs.append({'Players_Positions':multipose.positions,'Players_Skeletons':multipose.skeletons,'Court_Center': multipose.center}, ignore_index=True)\n"
     ]
    },
    {
     "name": "stdout",
     "output_type": "stream",
     "text": [
      "1/1 [==============================] - 0s 26ms/step\n",
      "1/1 [==============================] - 0s 27ms/step\n",
      "1/1 [==============================] - 0s 26ms/step\n"
     ]
    },
    {
     "name": "stderr",
     "output_type": "stream",
     "text": [
      "/home/JouiniAhmad/Desktop/douma/Badminton_Project/detect_actions.py:158: FutureWarning: The frame.append method is deprecated and will be removed from pandas in a future version. Use pandas.concat instead.\n",
      "  self.strokesA = self.strokesA.append({'Player_A':'___'}, ignore_index=True)\n",
      "/home/JouiniAhmad/Desktop/douma/Badminton_Project/detect_actions.py:164: FutureWarning: The frame.append method is deprecated and will be removed from pandas in a future version. Use pandas.concat instead.\n",
      "  self.strokesB = self.strokesB.append({'Player_B':'___'}, ignore_index=True)\n",
      "/tmp/ipykernel_108182/3855559223.py:45: FutureWarning: The frame.append method is deprecated and will be removed from pandas in a future version. Use pandas.concat instead.\n",
      "  inputs = inputs.append({'Players_Positions':multipose.positions,'Players_Skeletons':multipose.skeletons,'Court_Center': multipose.center}, ignore_index=True)\n"
     ]
    },
    {
     "name": "stdout",
     "output_type": "stream",
     "text": [
      "1/1 [==============================] - 0s 26ms/step\n"
     ]
    },
    {
     "name": "stderr",
     "output_type": "stream",
     "text": [
      "/home/JouiniAhmad/Desktop/douma/Badminton_Project/detect_actions.py:158: FutureWarning: The frame.append method is deprecated and will be removed from pandas in a future version. Use pandas.concat instead.\n",
      "  self.strokesA = self.strokesA.append({'Player_A':'___'}, ignore_index=True)\n",
      "/home/JouiniAhmad/Desktop/douma/Badminton_Project/detect_actions.py:164: FutureWarning: The frame.append method is deprecated and will be removed from pandas in a future version. Use pandas.concat instead.\n",
      "  self.strokesB = self.strokesB.append({'Player_B':'___'}, ignore_index=True)\n",
      "/tmp/ipykernel_108182/3855559223.py:45: FutureWarning: The frame.append method is deprecated and will be removed from pandas in a future version. Use pandas.concat instead.\n",
      "  inputs = inputs.append({'Players_Positions':multipose.positions,'Players_Skeletons':multipose.skeletons,'Court_Center': multipose.center}, ignore_index=True)\n"
     ]
    },
    {
     "name": "stdout",
     "output_type": "stream",
     "text": [
      "1/1 [==============================] - 0s 27ms/step\n",
      "1/1 [==============================] - 0s 25ms/step\n"
     ]
    },
    {
     "name": "stderr",
     "output_type": "stream",
     "text": [
      "/home/JouiniAhmad/Desktop/douma/Badminton_Project/detect_actions.py:158: FutureWarning: The frame.append method is deprecated and will be removed from pandas in a future version. Use pandas.concat instead.\n",
      "  self.strokesA = self.strokesA.append({'Player_A':'___'}, ignore_index=True)\n",
      "/home/JouiniAhmad/Desktop/douma/Badminton_Project/detect_actions.py:164: FutureWarning: The frame.append method is deprecated and will be removed from pandas in a future version. Use pandas.concat instead.\n",
      "  self.strokesB = self.strokesB.append({'Player_B':'___'}, ignore_index=True)\n",
      "/tmp/ipykernel_108182/3855559223.py:45: FutureWarning: The frame.append method is deprecated and will be removed from pandas in a future version. Use pandas.concat instead.\n",
      "  inputs = inputs.append({'Players_Positions':multipose.positions,'Players_Skeletons':multipose.skeletons,'Court_Center': multipose.center}, ignore_index=True)\n"
     ]
    },
    {
     "name": "stdout",
     "output_type": "stream",
     "text": [
      "1/1 [==============================] - 0s 27ms/step\n",
      "1/1 [==============================] - 0s 26ms/step\n",
      "1/1 [==============================] - 0s 26ms/step\n"
     ]
    },
    {
     "name": "stderr",
     "output_type": "stream",
     "text": [
      "/home/JouiniAhmad/Desktop/douma/Badminton_Project/detect_actions.py:158: FutureWarning: The frame.append method is deprecated and will be removed from pandas in a future version. Use pandas.concat instead.\n",
      "  self.strokesA = self.strokesA.append({'Player_A':'___'}, ignore_index=True)\n",
      "/home/JouiniAhmad/Desktop/douma/Badminton_Project/detect_actions.py:164: FutureWarning: The frame.append method is deprecated and will be removed from pandas in a future version. Use pandas.concat instead.\n",
      "  self.strokesB = self.strokesB.append({'Player_B':'___'}, ignore_index=True)\n",
      "/tmp/ipykernel_108182/3855559223.py:45: FutureWarning: The frame.append method is deprecated and will be removed from pandas in a future version. Use pandas.concat instead.\n",
      "  inputs = inputs.append({'Players_Positions':multipose.positions,'Players_Skeletons':multipose.skeletons,'Court_Center': multipose.center}, ignore_index=True)\n"
     ]
    },
    {
     "name": "stdout",
     "output_type": "stream",
     "text": [
      "1/1 [==============================] - 0s 28ms/step\n",
      "1/1 [==============================] - 0s 25ms/step\n"
     ]
    },
    {
     "name": "stderr",
     "output_type": "stream",
     "text": [
      "/home/JouiniAhmad/Desktop/douma/Badminton_Project/detect_actions.py:158: FutureWarning: The frame.append method is deprecated and will be removed from pandas in a future version. Use pandas.concat instead.\n",
      "  self.strokesA = self.strokesA.append({'Player_A':'___'}, ignore_index=True)\n",
      "/home/JouiniAhmad/Desktop/douma/Badminton_Project/detect_actions.py:164: FutureWarning: The frame.append method is deprecated and will be removed from pandas in a future version. Use pandas.concat instead.\n",
      "  self.strokesB = self.strokesB.append({'Player_B':'___'}, ignore_index=True)\n",
      "/tmp/ipykernel_108182/3855559223.py:45: FutureWarning: The frame.append method is deprecated and will be removed from pandas in a future version. Use pandas.concat instead.\n",
      "  inputs = inputs.append({'Players_Positions':multipose.positions,'Players_Skeletons':multipose.skeletons,'Court_Center': multipose.center}, ignore_index=True)\n"
     ]
    },
    {
     "name": "stdout",
     "output_type": "stream",
     "text": [
      "1/1 [==============================] - 0s 26ms/step\n",
      "1/1 [==============================] - 0s 25ms/step\n"
     ]
    },
    {
     "name": "stderr",
     "output_type": "stream",
     "text": [
      "/home/JouiniAhmad/Desktop/douma/Badminton_Project/detect_actions.py:158: FutureWarning: The frame.append method is deprecated and will be removed from pandas in a future version. Use pandas.concat instead.\n",
      "  self.strokesA = self.strokesA.append({'Player_A':'___'}, ignore_index=True)\n",
      "/home/JouiniAhmad/Desktop/douma/Badminton_Project/detect_actions.py:164: FutureWarning: The frame.append method is deprecated and will be removed from pandas in a future version. Use pandas.concat instead.\n",
      "  self.strokesB = self.strokesB.append({'Player_B':'___'}, ignore_index=True)\n",
      "/tmp/ipykernel_108182/3855559223.py:45: FutureWarning: The frame.append method is deprecated and will be removed from pandas in a future version. Use pandas.concat instead.\n",
      "  inputs = inputs.append({'Players_Positions':multipose.positions,'Players_Skeletons':multipose.skeletons,'Court_Center': multipose.center}, ignore_index=True)\n"
     ]
    },
    {
     "name": "stdout",
     "output_type": "stream",
     "text": [
      "1/1 [==============================] - 0s 24ms/step\n"
     ]
    },
    {
     "name": "stderr",
     "output_type": "stream",
     "text": [
      "/home/JouiniAhmad/Desktop/douma/Badminton_Project/detect_actions.py:158: FutureWarning: The frame.append method is deprecated and will be removed from pandas in a future version. Use pandas.concat instead.\n",
      "  self.strokesA = self.strokesA.append({'Player_A':'___'}, ignore_index=True)\n",
      "/home/JouiniAhmad/Desktop/douma/Badminton_Project/detect_actions.py:164: FutureWarning: The frame.append method is deprecated and will be removed from pandas in a future version. Use pandas.concat instead.\n",
      "  self.strokesB = self.strokesB.append({'Player_B':'___'}, ignore_index=True)\n",
      "/tmp/ipykernel_108182/3855559223.py:45: FutureWarning: The frame.append method is deprecated and will be removed from pandas in a future version. Use pandas.concat instead.\n",
      "  inputs = inputs.append({'Players_Positions':multipose.positions,'Players_Skeletons':multipose.skeletons,'Court_Center': multipose.center}, ignore_index=True)\n"
     ]
    },
    {
     "name": "stdout",
     "output_type": "stream",
     "text": [
      "1/1 [==============================] - 0s 26ms/step\n",
      "1/1 [==============================] - 0s 25ms/step\n",
      "1/1 [==============================] - 0s 26ms/step\n"
     ]
    },
    {
     "name": "stderr",
     "output_type": "stream",
     "text": [
      "/home/JouiniAhmad/Desktop/douma/Badminton_Project/detect_actions.py:158: FutureWarning: The frame.append method is deprecated and will be removed from pandas in a future version. Use pandas.concat instead.\n",
      "  self.strokesA = self.strokesA.append({'Player_A':'___'}, ignore_index=True)\n",
      "/home/JouiniAhmad/Desktop/douma/Badminton_Project/detect_actions.py:164: FutureWarning: The frame.append method is deprecated and will be removed from pandas in a future version. Use pandas.concat instead.\n",
      "  self.strokesB = self.strokesB.append({'Player_B':'___'}, ignore_index=True)\n",
      "/tmp/ipykernel_108182/3855559223.py:45: FutureWarning: The frame.append method is deprecated and will be removed from pandas in a future version. Use pandas.concat instead.\n",
      "  inputs = inputs.append({'Players_Positions':multipose.positions,'Players_Skeletons':multipose.skeletons,'Court_Center': multipose.center}, ignore_index=True)\n"
     ]
    },
    {
     "name": "stdout",
     "output_type": "stream",
     "text": [
      "1/1 [==============================] - 0s 27ms/step\n"
     ]
    },
    {
     "name": "stderr",
     "output_type": "stream",
     "text": [
      "/home/JouiniAhmad/Desktop/douma/Badminton_Project/detect_actions.py:158: FutureWarning: The frame.append method is deprecated and will be removed from pandas in a future version. Use pandas.concat instead.\n",
      "  self.strokesA = self.strokesA.append({'Player_A':'___'}, ignore_index=True)\n",
      "/home/JouiniAhmad/Desktop/douma/Badminton_Project/detect_actions.py:164: FutureWarning: The frame.append method is deprecated and will be removed from pandas in a future version. Use pandas.concat instead.\n",
      "  self.strokesB = self.strokesB.append({'Player_B':'___'}, ignore_index=True)\n",
      "/tmp/ipykernel_108182/3855559223.py:45: FutureWarning: The frame.append method is deprecated and will be removed from pandas in a future version. Use pandas.concat instead.\n",
      "  inputs = inputs.append({'Players_Positions':multipose.positions,'Players_Skeletons':multipose.skeletons,'Court_Center': multipose.center}, ignore_index=True)\n"
     ]
    },
    {
     "name": "stdout",
     "output_type": "stream",
     "text": [
      "1/1 [==============================] - 0s 29ms/step\n",
      "1/1 [==============================] - 0s 25ms/step\n"
     ]
    },
    {
     "name": "stderr",
     "output_type": "stream",
     "text": [
      "/home/JouiniAhmad/Desktop/douma/Badminton_Project/detect_actions.py:158: FutureWarning: The frame.append method is deprecated and will be removed from pandas in a future version. Use pandas.concat instead.\n",
      "  self.strokesA = self.strokesA.append({'Player_A':'___'}, ignore_index=True)\n",
      "/home/JouiniAhmad/Desktop/douma/Badminton_Project/detect_actions.py:164: FutureWarning: The frame.append method is deprecated and will be removed from pandas in a future version. Use pandas.concat instead.\n",
      "  self.strokesB = self.strokesB.append({'Player_B':'___'}, ignore_index=True)\n",
      "/tmp/ipykernel_108182/3855559223.py:45: FutureWarning: The frame.append method is deprecated and will be removed from pandas in a future version. Use pandas.concat instead.\n",
      "  inputs = inputs.append({'Players_Positions':multipose.positions,'Players_Skeletons':multipose.skeletons,'Court_Center': multipose.center}, ignore_index=True)\n"
     ]
    },
    {
     "name": "stdout",
     "output_type": "stream",
     "text": [
      "1/1 [==============================] - 0s 57ms/step\n",
      "1/1 [==============================] - 0s 27ms/step\n"
     ]
    },
    {
     "name": "stderr",
     "output_type": "stream",
     "text": [
      "/home/JouiniAhmad/Desktop/douma/Badminton_Project/detect_actions.py:158: FutureWarning: The frame.append method is deprecated and will be removed from pandas in a future version. Use pandas.concat instead.\n",
      "  self.strokesA = self.strokesA.append({'Player_A':'___'}, ignore_index=True)\n",
      "/home/JouiniAhmad/Desktop/douma/Badminton_Project/detect_actions.py:164: FutureWarning: The frame.append method is deprecated and will be removed from pandas in a future version. Use pandas.concat instead.\n",
      "  self.strokesB = self.strokesB.append({'Player_B':'___'}, ignore_index=True)\n",
      "/tmp/ipykernel_108182/3855559223.py:45: FutureWarning: The frame.append method is deprecated and will be removed from pandas in a future version. Use pandas.concat instead.\n",
      "  inputs = inputs.append({'Players_Positions':multipose.positions,'Players_Skeletons':multipose.skeletons,'Court_Center': multipose.center}, ignore_index=True)\n"
     ]
    },
    {
     "name": "stdout",
     "output_type": "stream",
     "text": [
      "1/1 [==============================] - 0s 36ms/step\n",
      "1/1 [==============================] - 0s 25ms/step\n"
     ]
    },
    {
     "name": "stderr",
     "output_type": "stream",
     "text": [
      "/home/JouiniAhmad/Desktop/douma/Badminton_Project/detect_actions.py:158: FutureWarning: The frame.append method is deprecated and will be removed from pandas in a future version. Use pandas.concat instead.\n",
      "  self.strokesA = self.strokesA.append({'Player_A':'___'}, ignore_index=True)\n",
      "/home/JouiniAhmad/Desktop/douma/Badminton_Project/detect_actions.py:164: FutureWarning: The frame.append method is deprecated and will be removed from pandas in a future version. Use pandas.concat instead.\n",
      "  self.strokesB = self.strokesB.append({'Player_B':'___'}, ignore_index=True)\n",
      "/tmp/ipykernel_108182/3855559223.py:45: FutureWarning: The frame.append method is deprecated and will be removed from pandas in a future version. Use pandas.concat instead.\n",
      "  inputs = inputs.append({'Players_Positions':multipose.positions,'Players_Skeletons':multipose.skeletons,'Court_Center': multipose.center}, ignore_index=True)\n"
     ]
    },
    {
     "name": "stdout",
     "output_type": "stream",
     "text": [
      "1/1 [==============================] - 0s 26ms/step\n",
      "1/1 [==============================] - 0s 24ms/step\n"
     ]
    },
    {
     "name": "stderr",
     "output_type": "stream",
     "text": [
      "/home/JouiniAhmad/Desktop/douma/Badminton_Project/detect_actions.py:158: FutureWarning: The frame.append method is deprecated and will be removed from pandas in a future version. Use pandas.concat instead.\n",
      "  self.strokesA = self.strokesA.append({'Player_A':'___'}, ignore_index=True)\n",
      "/home/JouiniAhmad/Desktop/douma/Badminton_Project/detect_actions.py:164: FutureWarning: The frame.append method is deprecated and will be removed from pandas in a future version. Use pandas.concat instead.\n",
      "  self.strokesB = self.strokesB.append({'Player_B':'___'}, ignore_index=True)\n",
      "/tmp/ipykernel_108182/3855559223.py:45: FutureWarning: The frame.append method is deprecated and will be removed from pandas in a future version. Use pandas.concat instead.\n",
      "  inputs = inputs.append({'Players_Positions':multipose.positions,'Players_Skeletons':multipose.skeletons,'Court_Center': multipose.center}, ignore_index=True)\n"
     ]
    },
    {
     "name": "stdout",
     "output_type": "stream",
     "text": [
      "1/1 [==============================] - 0s 25ms/step\n",
      "1/1 [==============================] - 0s 22ms/step\n",
      "1/1 [==============================] - ETA: 0s"
     ]
    },
    {
     "name": "stderr",
     "output_type": "stream",
     "text": [
      "/home/JouiniAhmad/Desktop/douma/Badminton_Project/detect_actions.py:158: FutureWarning: The frame.append method is deprecated and will be removed from pandas in a future version. Use pandas.concat instead.\n",
      "  self.strokesA = self.strokesA.append({'Player_A':'___'}, ignore_index=True)\n",
      "/home/JouiniAhmad/Desktop/douma/Badminton_Project/detect_actions.py:164: FutureWarning: The frame.append method is deprecated and will be removed from pandas in a future version. Use pandas.concat instead.\n",
      "  self.strokesB = self.strokesB.append({'Player_B':'___'}, ignore_index=True)\n",
      "/tmp/ipykernel_108182/3855559223.py:45: FutureWarning: The frame.append method is deprecated and will be removed from pandas in a future version. Use pandas.concat instead.\n",
      "  inputs = inputs.append({'Players_Positions':multipose.positions,'Players_Skeletons':multipose.skeletons,'Court_Center': multipose.center}, ignore_index=True)\n"
     ]
    },
    {
     "name": "stdout",
     "output_type": "stream",
     "text": [
      "1/1 [==============================] - 0s 25ms/step\n",
      "1/1 [==============================] - 0s 24ms/step\n",
      "1/1 [==============================] - 0s 25ms/step\n"
     ]
    },
    {
     "name": "stderr",
     "output_type": "stream",
     "text": [
      "/home/JouiniAhmad/Desktop/douma/Badminton_Project/detect_actions.py:158: FutureWarning: The frame.append method is deprecated and will be removed from pandas in a future version. Use pandas.concat instead.\n",
      "  self.strokesA = self.strokesA.append({'Player_A':'___'}, ignore_index=True)\n",
      "/home/JouiniAhmad/Desktop/douma/Badminton_Project/detect_actions.py:164: FutureWarning: The frame.append method is deprecated and will be removed from pandas in a future version. Use pandas.concat instead.\n",
      "  self.strokesB = self.strokesB.append({'Player_B':'___'}, ignore_index=True)\n",
      "/tmp/ipykernel_108182/3855559223.py:45: FutureWarning: The frame.append method is deprecated and will be removed from pandas in a future version. Use pandas.concat instead.\n",
      "  inputs = inputs.append({'Players_Positions':multipose.positions,'Players_Skeletons':multipose.skeletons,'Court_Center': multipose.center}, ignore_index=True)\n"
     ]
    },
    {
     "name": "stdout",
     "output_type": "stream",
     "text": [
      "1/1 [==============================] - 0s 25ms/step\n",
      "1/1 [==============================] - 0s 25ms/step\n"
     ]
    },
    {
     "name": "stderr",
     "output_type": "stream",
     "text": [
      "/home/JouiniAhmad/Desktop/douma/Badminton_Project/detect_actions.py:158: FutureWarning: The frame.append method is deprecated and will be removed from pandas in a future version. Use pandas.concat instead.\n",
      "  self.strokesA = self.strokesA.append({'Player_A':'___'}, ignore_index=True)\n",
      "/home/JouiniAhmad/Desktop/douma/Badminton_Project/detect_actions.py:164: FutureWarning: The frame.append method is deprecated and will be removed from pandas in a future version. Use pandas.concat instead.\n",
      "  self.strokesB = self.strokesB.append({'Player_B':'___'}, ignore_index=True)\n",
      "/tmp/ipykernel_108182/3855559223.py:45: FutureWarning: The frame.append method is deprecated and will be removed from pandas in a future version. Use pandas.concat instead.\n",
      "  inputs = inputs.append({'Players_Positions':multipose.positions,'Players_Skeletons':multipose.skeletons,'Court_Center': multipose.center}, ignore_index=True)\n"
     ]
    },
    {
     "name": "stdout",
     "output_type": "stream",
     "text": [
      "1/1 [==============================] - 0s 22ms/step\n"
     ]
    },
    {
     "name": "stderr",
     "output_type": "stream",
     "text": [
      "/home/JouiniAhmad/Desktop/douma/Badminton_Project/detect_actions.py:158: FutureWarning: The frame.append method is deprecated and will be removed from pandas in a future version. Use pandas.concat instead.\n",
      "  self.strokesA = self.strokesA.append({'Player_A':'___'}, ignore_index=True)\n",
      "/home/JouiniAhmad/Desktop/douma/Badminton_Project/detect_actions.py:164: FutureWarning: The frame.append method is deprecated and will be removed from pandas in a future version. Use pandas.concat instead.\n",
      "  self.strokesB = self.strokesB.append({'Player_B':'___'}, ignore_index=True)\n",
      "/tmp/ipykernel_108182/3855559223.py:45: FutureWarning: The frame.append method is deprecated and will be removed from pandas in a future version. Use pandas.concat instead.\n",
      "  inputs = inputs.append({'Players_Positions':multipose.positions,'Players_Skeletons':multipose.skeletons,'Court_Center': multipose.center}, ignore_index=True)\n"
     ]
    },
    {
     "name": "stdout",
     "output_type": "stream",
     "text": [
      "1/1 [==============================] - 0s 49ms/step\n",
      "1/1 [==============================] - 0s 25ms/step\n",
      "1/1 [==============================] - 0s 23ms/step\n"
     ]
    },
    {
     "name": "stderr",
     "output_type": "stream",
     "text": [
      "/home/JouiniAhmad/Desktop/douma/Badminton_Project/detect_actions.py:158: FutureWarning: The frame.append method is deprecated and will be removed from pandas in a future version. Use pandas.concat instead.\n",
      "  self.strokesA = self.strokesA.append({'Player_A':'___'}, ignore_index=True)\n",
      "/home/JouiniAhmad/Desktop/douma/Badminton_Project/detect_actions.py:164: FutureWarning: The frame.append method is deprecated and will be removed from pandas in a future version. Use pandas.concat instead.\n",
      "  self.strokesB = self.strokesB.append({'Player_B':'___'}, ignore_index=True)\n",
      "/tmp/ipykernel_108182/3855559223.py:45: FutureWarning: The frame.append method is deprecated and will be removed from pandas in a future version. Use pandas.concat instead.\n",
      "  inputs = inputs.append({'Players_Positions':multipose.positions,'Players_Skeletons':multipose.skeletons,'Court_Center': multipose.center}, ignore_index=True)\n"
     ]
    },
    {
     "name": "stdout",
     "output_type": "stream",
     "text": [
      "1/1 [==============================] - 0s 23ms/step\n"
     ]
    },
    {
     "name": "stderr",
     "output_type": "stream",
     "text": [
      "/home/JouiniAhmad/Desktop/douma/Badminton_Project/detect_actions.py:158: FutureWarning: The frame.append method is deprecated and will be removed from pandas in a future version. Use pandas.concat instead.\n",
      "  self.strokesA = self.strokesA.append({'Player_A':'___'}, ignore_index=True)\n",
      "/home/JouiniAhmad/Desktop/douma/Badminton_Project/detect_actions.py:164: FutureWarning: The frame.append method is deprecated and will be removed from pandas in a future version. Use pandas.concat instead.\n",
      "  self.strokesB = self.strokesB.append({'Player_B':'___'}, ignore_index=True)\n",
      "/tmp/ipykernel_108182/3855559223.py:45: FutureWarning: The frame.append method is deprecated and will be removed from pandas in a future version. Use pandas.concat instead.\n",
      "  inputs = inputs.append({'Players_Positions':multipose.positions,'Players_Skeletons':multipose.skeletons,'Court_Center': multipose.center}, ignore_index=True)\n"
     ]
    },
    {
     "name": "stdout",
     "output_type": "stream",
     "text": [
      "1/1 [==============================] - 0s 25ms/step\n",
      "1/1 [==============================] - 0s 24ms/step\n",
      "1/1 [==============================] - 0s 23ms/step\n"
     ]
    },
    {
     "name": "stderr",
     "output_type": "stream",
     "text": [
      "/home/JouiniAhmad/Desktop/douma/Badminton_Project/detect_actions.py:158: FutureWarning: The frame.append method is deprecated and will be removed from pandas in a future version. Use pandas.concat instead.\n",
      "  self.strokesA = self.strokesA.append({'Player_A':'___'}, ignore_index=True)\n",
      "/home/JouiniAhmad/Desktop/douma/Badminton_Project/detect_actions.py:164: FutureWarning: The frame.append method is deprecated and will be removed from pandas in a future version. Use pandas.concat instead.\n",
      "  self.strokesB = self.strokesB.append({'Player_B':'___'}, ignore_index=True)\n",
      "/tmp/ipykernel_108182/3855559223.py:45: FutureWarning: The frame.append method is deprecated and will be removed from pandas in a future version. Use pandas.concat instead.\n",
      "  inputs = inputs.append({'Players_Positions':multipose.positions,'Players_Skeletons':multipose.skeletons,'Court_Center': multipose.center}, ignore_index=True)\n"
     ]
    },
    {
     "name": "stdout",
     "output_type": "stream",
     "text": [
      "1/1 [==============================] - 0s 21ms/step\n"
     ]
    },
    {
     "name": "stderr",
     "output_type": "stream",
     "text": [
      "/home/JouiniAhmad/Desktop/douma/Badminton_Project/detect_actions.py:158: FutureWarning: The frame.append method is deprecated and will be removed from pandas in a future version. Use pandas.concat instead.\n",
      "  self.strokesA = self.strokesA.append({'Player_A':'___'}, ignore_index=True)\n",
      "/home/JouiniAhmad/Desktop/douma/Badminton_Project/detect_actions.py:164: FutureWarning: The frame.append method is deprecated and will be removed from pandas in a future version. Use pandas.concat instead.\n",
      "  self.strokesB = self.strokesB.append({'Player_B':'___'}, ignore_index=True)\n",
      "/tmp/ipykernel_108182/3855559223.py:45: FutureWarning: The frame.append method is deprecated and will be removed from pandas in a future version. Use pandas.concat instead.\n",
      "  inputs = inputs.append({'Players_Positions':multipose.positions,'Players_Skeletons':multipose.skeletons,'Court_Center': multipose.center}, ignore_index=True)\n"
     ]
    },
    {
     "name": "stdout",
     "output_type": "stream",
     "text": [
      "1/1 [==============================] - 0s 24ms/step\n",
      "1/1 [==============================] - 0s 25ms/step\n",
      "1/1 [==============================] - 0s 23ms/step\n"
     ]
    },
    {
     "name": "stderr",
     "output_type": "stream",
     "text": [
      "/home/JouiniAhmad/Desktop/douma/Badminton_Project/detect_actions.py:158: FutureWarning: The frame.append method is deprecated and will be removed from pandas in a future version. Use pandas.concat instead.\n",
      "  self.strokesA = self.strokesA.append({'Player_A':'___'}, ignore_index=True)\n",
      "/home/JouiniAhmad/Desktop/douma/Badminton_Project/detect_actions.py:164: FutureWarning: The frame.append method is deprecated and will be removed from pandas in a future version. Use pandas.concat instead.\n",
      "  self.strokesB = self.strokesB.append({'Player_B':'___'}, ignore_index=True)\n",
      "/tmp/ipykernel_108182/3855559223.py:45: FutureWarning: The frame.append method is deprecated and will be removed from pandas in a future version. Use pandas.concat instead.\n",
      "  inputs = inputs.append({'Players_Positions':multipose.positions,'Players_Skeletons':multipose.skeletons,'Court_Center': multipose.center}, ignore_index=True)\n"
     ]
    },
    {
     "name": "stdout",
     "output_type": "stream",
     "text": [
      "1/1 [==============================] - 0s 24ms/step\n",
      "1/1 [==============================] - 0s 24ms/step\n"
     ]
    },
    {
     "name": "stderr",
     "output_type": "stream",
     "text": [
      "/home/JouiniAhmad/Desktop/douma/Badminton_Project/detect_actions.py:158: FutureWarning: The frame.append method is deprecated and will be removed from pandas in a future version. Use pandas.concat instead.\n",
      "  self.strokesA = self.strokesA.append({'Player_A':'___'}, ignore_index=True)\n",
      "/home/JouiniAhmad/Desktop/douma/Badminton_Project/detect_actions.py:164: FutureWarning: The frame.append method is deprecated and will be removed from pandas in a future version. Use pandas.concat instead.\n",
      "  self.strokesB = self.strokesB.append({'Player_B':'___'}, ignore_index=True)\n",
      "/tmp/ipykernel_108182/3855559223.py:45: FutureWarning: The frame.append method is deprecated and will be removed from pandas in a future version. Use pandas.concat instead.\n",
      "  inputs = inputs.append({'Players_Positions':multipose.positions,'Players_Skeletons':multipose.skeletons,'Court_Center': multipose.center}, ignore_index=True)\n"
     ]
    },
    {
     "name": "stdout",
     "output_type": "stream",
     "text": [
      "1/1 [==============================] - 0s 24ms/step\n"
     ]
    },
    {
     "name": "stderr",
     "output_type": "stream",
     "text": [
      "/home/JouiniAhmad/Desktop/douma/Badminton_Project/detect_actions.py:158: FutureWarning: The frame.append method is deprecated and will be removed from pandas in a future version. Use pandas.concat instead.\n",
      "  self.strokesA = self.strokesA.append({'Player_A':'___'}, ignore_index=True)\n",
      "/home/JouiniAhmad/Desktop/douma/Badminton_Project/detect_actions.py:164: FutureWarning: The frame.append method is deprecated and will be removed from pandas in a future version. Use pandas.concat instead.\n",
      "  self.strokesB = self.strokesB.append({'Player_B':'___'}, ignore_index=True)\n",
      "/tmp/ipykernel_108182/3855559223.py:45: FutureWarning: The frame.append method is deprecated and will be removed from pandas in a future version. Use pandas.concat instead.\n",
      "  inputs = inputs.append({'Players_Positions':multipose.positions,'Players_Skeletons':multipose.skeletons,'Court_Center': multipose.center}, ignore_index=True)\n"
     ]
    },
    {
     "name": "stdout",
     "output_type": "stream",
     "text": [
      "1/1 [==============================] - 0s 24ms/step\n",
      "1/1 [==============================] - 0s 21ms/step\n",
      "1/1 [==============================] - 0s 23ms/step\n"
     ]
    },
    {
     "name": "stderr",
     "output_type": "stream",
     "text": [
      "/home/JouiniAhmad/Desktop/douma/Badminton_Project/detect_actions.py:158: FutureWarning: The frame.append method is deprecated and will be removed from pandas in a future version. Use pandas.concat instead.\n",
      "  self.strokesA = self.strokesA.append({'Player_A':'___'}, ignore_index=True)\n",
      "/home/JouiniAhmad/Desktop/douma/Badminton_Project/detect_actions.py:164: FutureWarning: The frame.append method is deprecated and will be removed from pandas in a future version. Use pandas.concat instead.\n",
      "  self.strokesB = self.strokesB.append({'Player_B':'___'}, ignore_index=True)\n",
      "/tmp/ipykernel_108182/3855559223.py:45: FutureWarning: The frame.append method is deprecated and will be removed from pandas in a future version. Use pandas.concat instead.\n",
      "  inputs = inputs.append({'Players_Positions':multipose.positions,'Players_Skeletons':multipose.skeletons,'Court_Center': multipose.center}, ignore_index=True)\n"
     ]
    },
    {
     "name": "stdout",
     "output_type": "stream",
     "text": [
      "1/1 [==============================] - 0s 23ms/step\n",
      "1/1 [==============================] - 0s 23ms/step\n"
     ]
    },
    {
     "name": "stderr",
     "output_type": "stream",
     "text": [
      "/home/JouiniAhmad/Desktop/douma/Badminton_Project/detect_actions.py:158: FutureWarning: The frame.append method is deprecated and will be removed from pandas in a future version. Use pandas.concat instead.\n",
      "  self.strokesA = self.strokesA.append({'Player_A':'___'}, ignore_index=True)\n",
      "/home/JouiniAhmad/Desktop/douma/Badminton_Project/detect_actions.py:164: FutureWarning: The frame.append method is deprecated and will be removed from pandas in a future version. Use pandas.concat instead.\n",
      "  self.strokesB = self.strokesB.append({'Player_B':'___'}, ignore_index=True)\n",
      "/tmp/ipykernel_108182/3855559223.py:45: FutureWarning: The frame.append method is deprecated and will be removed from pandas in a future version. Use pandas.concat instead.\n",
      "  inputs = inputs.append({'Players_Positions':multipose.positions,'Players_Skeletons':multipose.skeletons,'Court_Center': multipose.center}, ignore_index=True)\n"
     ]
    },
    {
     "name": "stdout",
     "output_type": "stream",
     "text": [
      "1/1 [==============================] - 0s 27ms/step\n",
      "1/1 [==============================] - 0s 22ms/step\n"
     ]
    },
    {
     "name": "stderr",
     "output_type": "stream",
     "text": [
      "/home/JouiniAhmad/Desktop/douma/Badminton_Project/detect_actions.py:158: FutureWarning: The frame.append method is deprecated and will be removed from pandas in a future version. Use pandas.concat instead.\n",
      "  self.strokesA = self.strokesA.append({'Player_A':'___'}, ignore_index=True)\n",
      "/home/JouiniAhmad/Desktop/douma/Badminton_Project/detect_actions.py:164: FutureWarning: The frame.append method is deprecated and will be removed from pandas in a future version. Use pandas.concat instead.\n",
      "  self.strokesB = self.strokesB.append({'Player_B':'___'}, ignore_index=True)\n",
      "/tmp/ipykernel_108182/3855559223.py:45: FutureWarning: The frame.append method is deprecated and will be removed from pandas in a future version. Use pandas.concat instead.\n",
      "  inputs = inputs.append({'Players_Positions':multipose.positions,'Players_Skeletons':multipose.skeletons,'Court_Center': multipose.center}, ignore_index=True)\n"
     ]
    },
    {
     "name": "stdout",
     "output_type": "stream",
     "text": [
      "1/1 [==============================] - 0s 21ms/step\n",
      "1/1 [==============================] - 0s 23ms/step\n"
     ]
    },
    {
     "name": "stderr",
     "output_type": "stream",
     "text": [
      "/home/JouiniAhmad/Desktop/douma/Badminton_Project/detect_actions.py:158: FutureWarning: The frame.append method is deprecated and will be removed from pandas in a future version. Use pandas.concat instead.\n",
      "  self.strokesA = self.strokesA.append({'Player_A':'___'}, ignore_index=True)\n",
      "/home/JouiniAhmad/Desktop/douma/Badminton_Project/detect_actions.py:164: FutureWarning: The frame.append method is deprecated and will be removed from pandas in a future version. Use pandas.concat instead.\n",
      "  self.strokesB = self.strokesB.append({'Player_B':'___'}, ignore_index=True)\n",
      "/tmp/ipykernel_108182/3855559223.py:45: FutureWarning: The frame.append method is deprecated and will be removed from pandas in a future version. Use pandas.concat instead.\n",
      "  inputs = inputs.append({'Players_Positions':multipose.positions,'Players_Skeletons':multipose.skeletons,'Court_Center': multipose.center}, ignore_index=True)\n"
     ]
    },
    {
     "name": "stdout",
     "output_type": "stream",
     "text": [
      "1/1 [==============================] - 0s 26ms/step\n",
      "1/1 [==============================] - 0s 25ms/step\n"
     ]
    },
    {
     "name": "stderr",
     "output_type": "stream",
     "text": [
      "/home/JouiniAhmad/Desktop/douma/Badminton_Project/detect_actions.py:158: FutureWarning: The frame.append method is deprecated and will be removed from pandas in a future version. Use pandas.concat instead.\n",
      "  self.strokesA = self.strokesA.append({'Player_A':'___'}, ignore_index=True)\n",
      "/home/JouiniAhmad/Desktop/douma/Badminton_Project/detect_actions.py:164: FutureWarning: The frame.append method is deprecated and will be removed from pandas in a future version. Use pandas.concat instead.\n",
      "  self.strokesB = self.strokesB.append({'Player_B':'___'}, ignore_index=True)\n",
      "/tmp/ipykernel_108182/3855559223.py:45: FutureWarning: The frame.append method is deprecated and will be removed from pandas in a future version. Use pandas.concat instead.\n",
      "  inputs = inputs.append({'Players_Positions':multipose.positions,'Players_Skeletons':multipose.skeletons,'Court_Center': multipose.center}, ignore_index=True)\n"
     ]
    },
    {
     "name": "stdout",
     "output_type": "stream",
     "text": [
      "1/1 [==============================] - 0s 22ms/step\n",
      "1/1 [==============================] - 0s 24ms/step\n"
     ]
    },
    {
     "name": "stderr",
     "output_type": "stream",
     "text": [
      "/home/JouiniAhmad/Desktop/douma/Badminton_Project/detect_actions.py:158: FutureWarning: The frame.append method is deprecated and will be removed from pandas in a future version. Use pandas.concat instead.\n",
      "  self.strokesA = self.strokesA.append({'Player_A':'___'}, ignore_index=True)\n",
      "/home/JouiniAhmad/Desktop/douma/Badminton_Project/detect_actions.py:164: FutureWarning: The frame.append method is deprecated and will be removed from pandas in a future version. Use pandas.concat instead.\n",
      "  self.strokesB = self.strokesB.append({'Player_B':'___'}, ignore_index=True)\n",
      "/tmp/ipykernel_108182/3855559223.py:45: FutureWarning: The frame.append method is deprecated and will be removed from pandas in a future version. Use pandas.concat instead.\n",
      "  inputs = inputs.append({'Players_Positions':multipose.positions,'Players_Skeletons':multipose.skeletons,'Court_Center': multipose.center}, ignore_index=True)\n"
     ]
    },
    {
     "name": "stdout",
     "output_type": "stream",
     "text": [
      "1/1 [==============================] - 0s 25ms/step\n"
     ]
    },
    {
     "name": "stderr",
     "output_type": "stream",
     "text": [
      "/home/JouiniAhmad/Desktop/douma/Badminton_Project/detect_actions.py:158: FutureWarning: The frame.append method is deprecated and will be removed from pandas in a future version. Use pandas.concat instead.\n",
      "  self.strokesA = self.strokesA.append({'Player_A':'___'}, ignore_index=True)\n",
      "/home/JouiniAhmad/Desktop/douma/Badminton_Project/detect_actions.py:164: FutureWarning: The frame.append method is deprecated and will be removed from pandas in a future version. Use pandas.concat instead.\n",
      "  self.strokesB = self.strokesB.append({'Player_B':'___'}, ignore_index=True)\n",
      "/tmp/ipykernel_108182/3855559223.py:45: FutureWarning: The frame.append method is deprecated and will be removed from pandas in a future version. Use pandas.concat instead.\n",
      "  inputs = inputs.append({'Players_Positions':multipose.positions,'Players_Skeletons':multipose.skeletons,'Court_Center': multipose.center}, ignore_index=True)\n"
     ]
    },
    {
     "name": "stdout",
     "output_type": "stream",
     "text": [
      "1/1 [==============================] - 0s 24ms/step\n",
      "1/1 [==============================] - 0s 25ms/step\n"
     ]
    },
    {
     "name": "stderr",
     "output_type": "stream",
     "text": [
      "/home/JouiniAhmad/Desktop/douma/Badminton_Project/detect_actions.py:158: FutureWarning: The frame.append method is deprecated and will be removed from pandas in a future version. Use pandas.concat instead.\n",
      "  self.strokesA = self.strokesA.append({'Player_A':'___'}, ignore_index=True)\n",
      "/home/JouiniAhmad/Desktop/douma/Badminton_Project/detect_actions.py:164: FutureWarning: The frame.append method is deprecated and will be removed from pandas in a future version. Use pandas.concat instead.\n",
      "  self.strokesB = self.strokesB.append({'Player_B':'___'}, ignore_index=True)\n",
      "/tmp/ipykernel_108182/3855559223.py:45: FutureWarning: The frame.append method is deprecated and will be removed from pandas in a future version. Use pandas.concat instead.\n",
      "  inputs = inputs.append({'Players_Positions':multipose.positions,'Players_Skeletons':multipose.skeletons,'Court_Center': multipose.center}, ignore_index=True)\n"
     ]
    },
    {
     "name": "stdout",
     "output_type": "stream",
     "text": [
      "1/1 [==============================] - 0s 24ms/step\n",
      "1/1 [==============================] - 0s 25ms/step\n"
     ]
    },
    {
     "name": "stderr",
     "output_type": "stream",
     "text": [
      "/home/JouiniAhmad/Desktop/douma/Badminton_Project/detect_actions.py:158: FutureWarning: The frame.append method is deprecated and will be removed from pandas in a future version. Use pandas.concat instead.\n",
      "  self.strokesA = self.strokesA.append({'Player_A':'___'}, ignore_index=True)\n",
      "/home/JouiniAhmad/Desktop/douma/Badminton_Project/detect_actions.py:164: FutureWarning: The frame.append method is deprecated and will be removed from pandas in a future version. Use pandas.concat instead.\n",
      "  self.strokesB = self.strokesB.append({'Player_B':'___'}, ignore_index=True)\n",
      "/tmp/ipykernel_108182/3855559223.py:45: FutureWarning: The frame.append method is deprecated and will be removed from pandas in a future version. Use pandas.concat instead.\n",
      "  inputs = inputs.append({'Players_Positions':multipose.positions,'Players_Skeletons':multipose.skeletons,'Court_Center': multipose.center}, ignore_index=True)\n"
     ]
    },
    {
     "name": "stdout",
     "output_type": "stream",
     "text": [
      "1/1 [==============================] - 0s 26ms/step\n",
      "1/1 [==============================] - 0s 28ms/step\n"
     ]
    },
    {
     "name": "stderr",
     "output_type": "stream",
     "text": [
      "/home/JouiniAhmad/Desktop/douma/Badminton_Project/detect_actions.py:158: FutureWarning: The frame.append method is deprecated and will be removed from pandas in a future version. Use pandas.concat instead.\n",
      "  self.strokesA = self.strokesA.append({'Player_A':'___'}, ignore_index=True)\n",
      "/home/JouiniAhmad/Desktop/douma/Badminton_Project/detect_actions.py:164: FutureWarning: The frame.append method is deprecated and will be removed from pandas in a future version. Use pandas.concat instead.\n",
      "  self.strokesB = self.strokesB.append({'Player_B':'___'}, ignore_index=True)\n",
      "/tmp/ipykernel_108182/3855559223.py:45: FutureWarning: The frame.append method is deprecated and will be removed from pandas in a future version. Use pandas.concat instead.\n",
      "  inputs = inputs.append({'Players_Positions':multipose.positions,'Players_Skeletons':multipose.skeletons,'Court_Center': multipose.center}, ignore_index=True)\n"
     ]
    },
    {
     "name": "stdout",
     "output_type": "stream",
     "text": [
      "1/1 [==============================] - 0s 27ms/step\n",
      "1/1 [==============================] - 0s 28ms/step\n"
     ]
    },
    {
     "name": "stderr",
     "output_type": "stream",
     "text": [
      "/home/JouiniAhmad/Desktop/douma/Badminton_Project/detect_actions.py:158: FutureWarning: The frame.append method is deprecated and will be removed from pandas in a future version. Use pandas.concat instead.\n",
      "  self.strokesA = self.strokesA.append({'Player_A':'___'}, ignore_index=True)\n",
      "/home/JouiniAhmad/Desktop/douma/Badminton_Project/detect_actions.py:164: FutureWarning: The frame.append method is deprecated and will be removed from pandas in a future version. Use pandas.concat instead.\n",
      "  self.strokesB = self.strokesB.append({'Player_B':'___'}, ignore_index=True)\n",
      "/tmp/ipykernel_108182/3855559223.py:45: FutureWarning: The frame.append method is deprecated and will be removed from pandas in a future version. Use pandas.concat instead.\n",
      "  inputs = inputs.append({'Players_Positions':multipose.positions,'Players_Skeletons':multipose.skeletons,'Court_Center': multipose.center}, ignore_index=True)\n"
     ]
    },
    {
     "name": "stdout",
     "output_type": "stream",
     "text": [
      "1/1 [==============================] - 0s 31ms/step\n",
      "1/1 [==============================] - 0s 30ms/step\n"
     ]
    },
    {
     "name": "stderr",
     "output_type": "stream",
     "text": [
      "/home/JouiniAhmad/Desktop/douma/Badminton_Project/detect_actions.py:158: FutureWarning: The frame.append method is deprecated and will be removed from pandas in a future version. Use pandas.concat instead.\n",
      "  self.strokesA = self.strokesA.append({'Player_A':'___'}, ignore_index=True)\n",
      "/home/JouiniAhmad/Desktop/douma/Badminton_Project/detect_actions.py:164: FutureWarning: The frame.append method is deprecated and will be removed from pandas in a future version. Use pandas.concat instead.\n",
      "  self.strokesB = self.strokesB.append({'Player_B':'___'}, ignore_index=True)\n",
      "/tmp/ipykernel_108182/3855559223.py:45: FutureWarning: The frame.append method is deprecated and will be removed from pandas in a future version. Use pandas.concat instead.\n",
      "  inputs = inputs.append({'Players_Positions':multipose.positions,'Players_Skeletons':multipose.skeletons,'Court_Center': multipose.center}, ignore_index=True)\n"
     ]
    },
    {
     "name": "stdout",
     "output_type": "stream",
     "text": [
      "1/1 [==============================] - 0s 27ms/step\n",
      "1/1 [==============================] - 0s 59ms/step\n",
      "1/1 [==============================] - 0s 25ms/step\n"
     ]
    },
    {
     "name": "stderr",
     "output_type": "stream",
     "text": [
      "/home/JouiniAhmad/Desktop/douma/Badminton_Project/detect_actions.py:158: FutureWarning: The frame.append method is deprecated and will be removed from pandas in a future version. Use pandas.concat instead.\n",
      "  self.strokesA = self.strokesA.append({'Player_A':'___'}, ignore_index=True)\n",
      "/home/JouiniAhmad/Desktop/douma/Badminton_Project/detect_actions.py:164: FutureWarning: The frame.append method is deprecated and will be removed from pandas in a future version. Use pandas.concat instead.\n",
      "  self.strokesB = self.strokesB.append({'Player_B':'___'}, ignore_index=True)\n",
      "/tmp/ipykernel_108182/3855559223.py:45: FutureWarning: The frame.append method is deprecated and will be removed from pandas in a future version. Use pandas.concat instead.\n",
      "  inputs = inputs.append({'Players_Positions':multipose.positions,'Players_Skeletons':multipose.skeletons,'Court_Center': multipose.center}, ignore_index=True)\n"
     ]
    },
    {
     "name": "stdout",
     "output_type": "stream",
     "text": [
      "1/1 [==============================] - 0s 23ms/step\n"
     ]
    },
    {
     "name": "stderr",
     "output_type": "stream",
     "text": [
      "/home/JouiniAhmad/Desktop/douma/Badminton_Project/detect_actions.py:158: FutureWarning: The frame.append method is deprecated and will be removed from pandas in a future version. Use pandas.concat instead.\n",
      "  self.strokesA = self.strokesA.append({'Player_A':'___'}, ignore_index=True)\n",
      "/home/JouiniAhmad/Desktop/douma/Badminton_Project/detect_actions.py:164: FutureWarning: The frame.append method is deprecated and will be removed from pandas in a future version. Use pandas.concat instead.\n",
      "  self.strokesB = self.strokesB.append({'Player_B':'___'}, ignore_index=True)\n",
      "/tmp/ipykernel_108182/3855559223.py:45: FutureWarning: The frame.append method is deprecated and will be removed from pandas in a future version. Use pandas.concat instead.\n",
      "  inputs = inputs.append({'Players_Positions':multipose.positions,'Players_Skeletons':multipose.skeletons,'Court_Center': multipose.center}, ignore_index=True)\n"
     ]
    },
    {
     "name": "stdout",
     "output_type": "stream",
     "text": [
      "1/1 [==============================] - 0s 24ms/step\n",
      "1/1 [==============================] - 0s 24ms/step\n",
      "1/1 [==============================] - 0s 25ms/step\n"
     ]
    },
    {
     "name": "stderr",
     "output_type": "stream",
     "text": [
      "/home/JouiniAhmad/Desktop/douma/Badminton_Project/detect_actions.py:158: FutureWarning: The frame.append method is deprecated and will be removed from pandas in a future version. Use pandas.concat instead.\n",
      "  self.strokesA = self.strokesA.append({'Player_A':'___'}, ignore_index=True)\n",
      "/home/JouiniAhmad/Desktop/douma/Badminton_Project/detect_actions.py:162: FutureWarning: The frame.append method is deprecated and will be removed from pandas in a future version. Use pandas.concat instead.\n",
      "  self.strokesB = self.strokesB.append({'Player_B':self.class_names[np.argmax(predictionB)]}, ignore_index=True)\n",
      "/tmp/ipykernel_108182/3855559223.py:45: FutureWarning: The frame.append method is deprecated and will be removed from pandas in a future version. Use pandas.concat instead.\n",
      "  inputs = inputs.append({'Players_Positions':multipose.positions,'Players_Skeletons':multipose.skeletons,'Court_Center': multipose.center}, ignore_index=True)\n"
     ]
    },
    {
     "name": "stdout",
     "output_type": "stream",
     "text": [
      "1/1 [==============================] - 0s 28ms/step\n",
      "1/1 [==============================] - 0s 26ms/step\n"
     ]
    },
    {
     "name": "stderr",
     "output_type": "stream",
     "text": [
      "/home/JouiniAhmad/Desktop/douma/Badminton_Project/detect_actions.py:158: FutureWarning: The frame.append method is deprecated and will be removed from pandas in a future version. Use pandas.concat instead.\n",
      "  self.strokesA = self.strokesA.append({'Player_A':'___'}, ignore_index=True)\n",
      "/home/JouiniAhmad/Desktop/douma/Badminton_Project/detect_actions.py:162: FutureWarning: The frame.append method is deprecated and will be removed from pandas in a future version. Use pandas.concat instead.\n",
      "  self.strokesB = self.strokesB.append({'Player_B':self.class_names[np.argmax(predictionB)]}, ignore_index=True)\n",
      "/tmp/ipykernel_108182/3855559223.py:45: FutureWarning: The frame.append method is deprecated and will be removed from pandas in a future version. Use pandas.concat instead.\n",
      "  inputs = inputs.append({'Players_Positions':multipose.positions,'Players_Skeletons':multipose.skeletons,'Court_Center': multipose.center}, ignore_index=True)\n"
     ]
    },
    {
     "name": "stdout",
     "output_type": "stream",
     "text": [
      "1/1 [==============================] - 0s 22ms/step\n"
     ]
    },
    {
     "name": "stderr",
     "output_type": "stream",
     "text": [
      "/home/JouiniAhmad/Desktop/douma/Badminton_Project/detect_actions.py:158: FutureWarning: The frame.append method is deprecated and will be removed from pandas in a future version. Use pandas.concat instead.\n",
      "  self.strokesA = self.strokesA.append({'Player_A':'___'}, ignore_index=True)\n",
      "/home/JouiniAhmad/Desktop/douma/Badminton_Project/detect_actions.py:162: FutureWarning: The frame.append method is deprecated and will be removed from pandas in a future version. Use pandas.concat instead.\n",
      "  self.strokesB = self.strokesB.append({'Player_B':self.class_names[np.argmax(predictionB)]}, ignore_index=True)\n",
      "/tmp/ipykernel_108182/3855559223.py:45: FutureWarning: The frame.append method is deprecated and will be removed from pandas in a future version. Use pandas.concat instead.\n",
      "  inputs = inputs.append({'Players_Positions':multipose.positions,'Players_Skeletons':multipose.skeletons,'Court_Center': multipose.center}, ignore_index=True)\n"
     ]
    },
    {
     "name": "stdout",
     "output_type": "stream",
     "text": [
      "1/1 [==============================] - 0s 25ms/step\n",
      "1/1 [==============================] - 0s 30ms/step\n",
      "1/1 [==============================] - ETA: 0s"
     ]
    },
    {
     "name": "stderr",
     "output_type": "stream",
     "text": [
      "/home/JouiniAhmad/Desktop/douma/Badminton_Project/detect_actions.py:158: FutureWarning: The frame.append method is deprecated and will be removed from pandas in a future version. Use pandas.concat instead.\n",
      "  self.strokesA = self.strokesA.append({'Player_A':'___'}, ignore_index=True)\n",
      "/home/JouiniAhmad/Desktop/douma/Badminton_Project/detect_actions.py:162: FutureWarning: The frame.append method is deprecated and will be removed from pandas in a future version. Use pandas.concat instead.\n",
      "  self.strokesB = self.strokesB.append({'Player_B':self.class_names[np.argmax(predictionB)]}, ignore_index=True)\n",
      "/tmp/ipykernel_108182/3855559223.py:45: FutureWarning: The frame.append method is deprecated and will be removed from pandas in a future version. Use pandas.concat instead.\n",
      "  inputs = inputs.append({'Players_Positions':multipose.positions,'Players_Skeletons':multipose.skeletons,'Court_Center': multipose.center}, ignore_index=True)\n"
     ]
    },
    {
     "name": "stdout",
     "output_type": "stream",
     "text": [
      "1/1 [==============================] - 0s 27ms/step\n",
      "1/1 [==============================] - 0s 25ms/step\n",
      "1/1 [==============================] - 0s 25ms/step\n"
     ]
    },
    {
     "name": "stderr",
     "output_type": "stream",
     "text": [
      "/home/JouiniAhmad/Desktop/douma/Badminton_Project/detect_actions.py:158: FutureWarning: The frame.append method is deprecated and will be removed from pandas in a future version. Use pandas.concat instead.\n",
      "  self.strokesA = self.strokesA.append({'Player_A':'___'}, ignore_index=True)\n",
      "/home/JouiniAhmad/Desktop/douma/Badminton_Project/detect_actions.py:162: FutureWarning: The frame.append method is deprecated and will be removed from pandas in a future version. Use pandas.concat instead.\n",
      "  self.strokesB = self.strokesB.append({'Player_B':self.class_names[np.argmax(predictionB)]}, ignore_index=True)\n",
      "/tmp/ipykernel_108182/3855559223.py:45: FutureWarning: The frame.append method is deprecated and will be removed from pandas in a future version. Use pandas.concat instead.\n",
      "  inputs = inputs.append({'Players_Positions':multipose.positions,'Players_Skeletons':multipose.skeletons,'Court_Center': multipose.center}, ignore_index=True)\n"
     ]
    },
    {
     "name": "stdout",
     "output_type": "stream",
     "text": [
      "1/1 [==============================] - 0s 25ms/step\n",
      "1/1 [==============================] - ETA: 0s"
     ]
    },
    {
     "name": "stderr",
     "output_type": "stream",
     "text": [
      "/home/JouiniAhmad/Desktop/douma/Badminton_Project/detect_actions.py:158: FutureWarning: The frame.append method is deprecated and will be removed from pandas in a future version. Use pandas.concat instead.\n",
      "  self.strokesA = self.strokesA.append({'Player_A':'___'}, ignore_index=True)\n",
      "/home/JouiniAhmad/Desktop/douma/Badminton_Project/detect_actions.py:164: FutureWarning: The frame.append method is deprecated and will be removed from pandas in a future version. Use pandas.concat instead.\n",
      "  self.strokesB = self.strokesB.append({'Player_B':'___'}, ignore_index=True)\n",
      "/tmp/ipykernel_108182/3855559223.py:45: FutureWarning: The frame.append method is deprecated and will be removed from pandas in a future version. Use pandas.concat instead.\n",
      "  inputs = inputs.append({'Players_Positions':multipose.positions,'Players_Skeletons':multipose.skeletons,'Court_Center': multipose.center}, ignore_index=True)\n"
     ]
    },
    {
     "name": "stdout",
     "output_type": "stream",
     "text": [
      "1/1 [==============================] - 0s 25ms/step\n",
      "1/1 [==============================] - 0s 22ms/step\n"
     ]
    },
    {
     "name": "stderr",
     "output_type": "stream",
     "text": [
      "/home/JouiniAhmad/Desktop/douma/Badminton_Project/detect_actions.py:158: FutureWarning: The frame.append method is deprecated and will be removed from pandas in a future version. Use pandas.concat instead.\n",
      "  self.strokesA = self.strokesA.append({'Player_A':'___'}, ignore_index=True)\n",
      "/home/JouiniAhmad/Desktop/douma/Badminton_Project/detect_actions.py:164: FutureWarning: The frame.append method is deprecated and will be removed from pandas in a future version. Use pandas.concat instead.\n",
      "  self.strokesB = self.strokesB.append({'Player_B':'___'}, ignore_index=True)\n",
      "/tmp/ipykernel_108182/3855559223.py:45: FutureWarning: The frame.append method is deprecated and will be removed from pandas in a future version. Use pandas.concat instead.\n",
      "  inputs = inputs.append({'Players_Positions':multipose.positions,'Players_Skeletons':multipose.skeletons,'Court_Center': multipose.center}, ignore_index=True)\n"
     ]
    },
    {
     "name": "stdout",
     "output_type": "stream",
     "text": [
      "1/1 [==============================] - 0s 22ms/step\n",
      "1/1 [==============================] - 0s 22ms/step\n",
      "1/1 [==============================] - 0s 25ms/step\n"
     ]
    },
    {
     "name": "stderr",
     "output_type": "stream",
     "text": [
      "/home/JouiniAhmad/Desktop/douma/Badminton_Project/detect_actions.py:158: FutureWarning: The frame.append method is deprecated and will be removed from pandas in a future version. Use pandas.concat instead.\n",
      "  self.strokesA = self.strokesA.append({'Player_A':'___'}, ignore_index=True)\n",
      "/home/JouiniAhmad/Desktop/douma/Badminton_Project/detect_actions.py:164: FutureWarning: The frame.append method is deprecated and will be removed from pandas in a future version. Use pandas.concat instead.\n",
      "  self.strokesB = self.strokesB.append({'Player_B':'___'}, ignore_index=True)\n",
      "/tmp/ipykernel_108182/3855559223.py:45: FutureWarning: The frame.append method is deprecated and will be removed from pandas in a future version. Use pandas.concat instead.\n",
      "  inputs = inputs.append({'Players_Positions':multipose.positions,'Players_Skeletons':multipose.skeletons,'Court_Center': multipose.center}, ignore_index=True)\n"
     ]
    },
    {
     "name": "stdout",
     "output_type": "stream",
     "text": [
      "1/1 [==============================] - 0s 22ms/step\n",
      "1/1 [==============================] - 0s 25ms/step\n"
     ]
    },
    {
     "name": "stderr",
     "output_type": "stream",
     "text": [
      "/home/JouiniAhmad/Desktop/douma/Badminton_Project/detect_actions.py:158: FutureWarning: The frame.append method is deprecated and will be removed from pandas in a future version. Use pandas.concat instead.\n",
      "  self.strokesA = self.strokesA.append({'Player_A':'___'}, ignore_index=True)\n",
      "/home/JouiniAhmad/Desktop/douma/Badminton_Project/detect_actions.py:164: FutureWarning: The frame.append method is deprecated and will be removed from pandas in a future version. Use pandas.concat instead.\n",
      "  self.strokesB = self.strokesB.append({'Player_B':'___'}, ignore_index=True)\n",
      "/tmp/ipykernel_108182/3855559223.py:45: FutureWarning: The frame.append method is deprecated and will be removed from pandas in a future version. Use pandas.concat instead.\n",
      "  inputs = inputs.append({'Players_Positions':multipose.positions,'Players_Skeletons':multipose.skeletons,'Court_Center': multipose.center}, ignore_index=True)\n"
     ]
    },
    {
     "name": "stdout",
     "output_type": "stream",
     "text": [
      "1/1 [==============================] - 0s 28ms/step\n",
      "1/1 [==============================] - 0s 24ms/step\n"
     ]
    },
    {
     "name": "stderr",
     "output_type": "stream",
     "text": [
      "/home/JouiniAhmad/Desktop/douma/Badminton_Project/detect_actions.py:158: FutureWarning: The frame.append method is deprecated and will be removed from pandas in a future version. Use pandas.concat instead.\n",
      "  self.strokesA = self.strokesA.append({'Player_A':'___'}, ignore_index=True)\n",
      "/home/JouiniAhmad/Desktop/douma/Badminton_Project/detect_actions.py:164: FutureWarning: The frame.append method is deprecated and will be removed from pandas in a future version. Use pandas.concat instead.\n",
      "  self.strokesB = self.strokesB.append({'Player_B':'___'}, ignore_index=True)\n",
      "/tmp/ipykernel_108182/3855559223.py:45: FutureWarning: The frame.append method is deprecated and will be removed from pandas in a future version. Use pandas.concat instead.\n",
      "  inputs = inputs.append({'Players_Positions':multipose.positions,'Players_Skeletons':multipose.skeletons,'Court_Center': multipose.center}, ignore_index=True)\n"
     ]
    },
    {
     "name": "stdout",
     "output_type": "stream",
     "text": [
      "1/1 [==============================] - 0s 20ms/step\n",
      "1/1 [==============================] - 0s 23ms/step\n"
     ]
    },
    {
     "name": "stderr",
     "output_type": "stream",
     "text": [
      "/home/JouiniAhmad/Desktop/douma/Badminton_Project/detect_actions.py:158: FutureWarning: The frame.append method is deprecated and will be removed from pandas in a future version. Use pandas.concat instead.\n",
      "  self.strokesA = self.strokesA.append({'Player_A':'___'}, ignore_index=True)\n",
      "/home/JouiniAhmad/Desktop/douma/Badminton_Project/detect_actions.py:164: FutureWarning: The frame.append method is deprecated and will be removed from pandas in a future version. Use pandas.concat instead.\n",
      "  self.strokesB = self.strokesB.append({'Player_B':'___'}, ignore_index=True)\n",
      "/tmp/ipykernel_108182/3855559223.py:45: FutureWarning: The frame.append method is deprecated and will be removed from pandas in a future version. Use pandas.concat instead.\n",
      "  inputs = inputs.append({'Players_Positions':multipose.positions,'Players_Skeletons':multipose.skeletons,'Court_Center': multipose.center}, ignore_index=True)\n"
     ]
    },
    {
     "name": "stdout",
     "output_type": "stream",
     "text": [
      "1/1 [==============================] - 0s 21ms/step\n",
      "1/1 [==============================] - 0s 25ms/step\n"
     ]
    },
    {
     "name": "stderr",
     "output_type": "stream",
     "text": [
      "/home/JouiniAhmad/Desktop/douma/Badminton_Project/detect_actions.py:158: FutureWarning: The frame.append method is deprecated and will be removed from pandas in a future version. Use pandas.concat instead.\n",
      "  self.strokesA = self.strokesA.append({'Player_A':'___'}, ignore_index=True)\n",
      "/home/JouiniAhmad/Desktop/douma/Badminton_Project/detect_actions.py:164: FutureWarning: The frame.append method is deprecated and will be removed from pandas in a future version. Use pandas.concat instead.\n",
      "  self.strokesB = self.strokesB.append({'Player_B':'___'}, ignore_index=True)\n",
      "/tmp/ipykernel_108182/3855559223.py:45: FutureWarning: The frame.append method is deprecated and will be removed from pandas in a future version. Use pandas.concat instead.\n",
      "  inputs = inputs.append({'Players_Positions':multipose.positions,'Players_Skeletons':multipose.skeletons,'Court_Center': multipose.center}, ignore_index=True)\n"
     ]
    },
    {
     "name": "stdout",
     "output_type": "stream",
     "text": [
      "1/1 [==============================] - 0s 22ms/step\n"
     ]
    },
    {
     "name": "stderr",
     "output_type": "stream",
     "text": [
      "/home/JouiniAhmad/Desktop/douma/Badminton_Project/detect_actions.py:158: FutureWarning: The frame.append method is deprecated and will be removed from pandas in a future version. Use pandas.concat instead.\n",
      "  self.strokesA = self.strokesA.append({'Player_A':'___'}, ignore_index=True)\n",
      "/home/JouiniAhmad/Desktop/douma/Badminton_Project/detect_actions.py:164: FutureWarning: The frame.append method is deprecated and will be removed from pandas in a future version. Use pandas.concat instead.\n",
      "  self.strokesB = self.strokesB.append({'Player_B':'___'}, ignore_index=True)\n",
      "/tmp/ipykernel_108182/3855559223.py:45: FutureWarning: The frame.append method is deprecated and will be removed from pandas in a future version. Use pandas.concat instead.\n",
      "  inputs = inputs.append({'Players_Positions':multipose.positions,'Players_Skeletons':multipose.skeletons,'Court_Center': multipose.center}, ignore_index=True)\n"
     ]
    },
    {
     "name": "stdout",
     "output_type": "stream",
     "text": [
      "1/1 [==============================] - 0s 23ms/step\n",
      "1/1 [==============================] - 0s 26ms/step\n"
     ]
    },
    {
     "name": "stderr",
     "output_type": "stream",
     "text": [
      "/home/JouiniAhmad/Desktop/douma/Badminton_Project/detect_actions.py:158: FutureWarning: The frame.append method is deprecated and will be removed from pandas in a future version. Use pandas.concat instead.\n",
      "  self.strokesA = self.strokesA.append({'Player_A':'___'}, ignore_index=True)\n",
      "/home/JouiniAhmad/Desktop/douma/Badminton_Project/detect_actions.py:164: FutureWarning: The frame.append method is deprecated and will be removed from pandas in a future version. Use pandas.concat instead.\n",
      "  self.strokesB = self.strokesB.append({'Player_B':'___'}, ignore_index=True)\n",
      "/tmp/ipykernel_108182/3855559223.py:45: FutureWarning: The frame.append method is deprecated and will be removed from pandas in a future version. Use pandas.concat instead.\n",
      "  inputs = inputs.append({'Players_Positions':multipose.positions,'Players_Skeletons':multipose.skeletons,'Court_Center': multipose.center}, ignore_index=True)\n"
     ]
    },
    {
     "name": "stdout",
     "output_type": "stream",
     "text": [
      "1/1 [==============================] - 0s 26ms/step\n",
      "1/1 [==============================] - 0s 23ms/step\n",
      "1/1 [==============================] - 0s 24ms/step\n"
     ]
    },
    {
     "name": "stderr",
     "output_type": "stream",
     "text": [
      "/home/JouiniAhmad/Desktop/douma/Badminton_Project/detect_actions.py:158: FutureWarning: The frame.append method is deprecated and will be removed from pandas in a future version. Use pandas.concat instead.\n",
      "  self.strokesA = self.strokesA.append({'Player_A':'___'}, ignore_index=True)\n",
      "/home/JouiniAhmad/Desktop/douma/Badminton_Project/detect_actions.py:164: FutureWarning: The frame.append method is deprecated and will be removed from pandas in a future version. Use pandas.concat instead.\n",
      "  self.strokesB = self.strokesB.append({'Player_B':'___'}, ignore_index=True)\n",
      "/tmp/ipykernel_108182/3855559223.py:45: FutureWarning: The frame.append method is deprecated and will be removed from pandas in a future version. Use pandas.concat instead.\n",
      "  inputs = inputs.append({'Players_Positions':multipose.positions,'Players_Skeletons':multipose.skeletons,'Court_Center': multipose.center}, ignore_index=True)\n"
     ]
    },
    {
     "name": "stdout",
     "output_type": "stream",
     "text": [
      "1/1 [==============================] - 0s 24ms/step\n"
     ]
    },
    {
     "name": "stderr",
     "output_type": "stream",
     "text": [
      "/home/JouiniAhmad/Desktop/douma/Badminton_Project/detect_actions.py:158: FutureWarning: The frame.append method is deprecated and will be removed from pandas in a future version. Use pandas.concat instead.\n",
      "  self.strokesA = self.strokesA.append({'Player_A':'___'}, ignore_index=True)\n",
      "/home/JouiniAhmad/Desktop/douma/Badminton_Project/detect_actions.py:164: FutureWarning: The frame.append method is deprecated and will be removed from pandas in a future version. Use pandas.concat instead.\n",
      "  self.strokesB = self.strokesB.append({'Player_B':'___'}, ignore_index=True)\n",
      "/tmp/ipykernel_108182/3855559223.py:45: FutureWarning: The frame.append method is deprecated and will be removed from pandas in a future version. Use pandas.concat instead.\n",
      "  inputs = inputs.append({'Players_Positions':multipose.positions,'Players_Skeletons':multipose.skeletons,'Court_Center': multipose.center}, ignore_index=True)\n"
     ]
    },
    {
     "name": "stdout",
     "output_type": "stream",
     "text": [
      "1/1 [==============================] - 0s 29ms/step\n",
      "1/1 [==============================] - 0s 26ms/step\n"
     ]
    },
    {
     "name": "stderr",
     "output_type": "stream",
     "text": [
      "/home/JouiniAhmad/Desktop/douma/Badminton_Project/detect_actions.py:158: FutureWarning: The frame.append method is deprecated and will be removed from pandas in a future version. Use pandas.concat instead.\n",
      "  self.strokesA = self.strokesA.append({'Player_A':'___'}, ignore_index=True)\n",
      "/home/JouiniAhmad/Desktop/douma/Badminton_Project/detect_actions.py:164: FutureWarning: The frame.append method is deprecated and will be removed from pandas in a future version. Use pandas.concat instead.\n",
      "  self.strokesB = self.strokesB.append({'Player_B':'___'}, ignore_index=True)\n",
      "/tmp/ipykernel_108182/3855559223.py:45: FutureWarning: The frame.append method is deprecated and will be removed from pandas in a future version. Use pandas.concat instead.\n",
      "  inputs = inputs.append({'Players_Positions':multipose.positions,'Players_Skeletons':multipose.skeletons,'Court_Center': multipose.center}, ignore_index=True)\n"
     ]
    },
    {
     "name": "stdout",
     "output_type": "stream",
     "text": [
      "1/1 [==============================] - 0s 31ms/step\n",
      "1/1 [==============================] - 0s 25ms/step\n",
      "1/1 [==============================] - 0s 24ms/step\n"
     ]
    },
    {
     "name": "stderr",
     "output_type": "stream",
     "text": [
      "/home/JouiniAhmad/Desktop/douma/Badminton_Project/detect_actions.py:158: FutureWarning: The frame.append method is deprecated and will be removed from pandas in a future version. Use pandas.concat instead.\n",
      "  self.strokesA = self.strokesA.append({'Player_A':'___'}, ignore_index=True)\n",
      "/home/JouiniAhmad/Desktop/douma/Badminton_Project/detect_actions.py:164: FutureWarning: The frame.append method is deprecated and will be removed from pandas in a future version. Use pandas.concat instead.\n",
      "  self.strokesB = self.strokesB.append({'Player_B':'___'}, ignore_index=True)\n",
      "/tmp/ipykernel_108182/3855559223.py:45: FutureWarning: The frame.append method is deprecated and will be removed from pandas in a future version. Use pandas.concat instead.\n",
      "  inputs = inputs.append({'Players_Positions':multipose.positions,'Players_Skeletons':multipose.skeletons,'Court_Center': multipose.center}, ignore_index=True)\n"
     ]
    },
    {
     "name": "stdout",
     "output_type": "stream",
     "text": [
      "1/1 [==============================] - 0s 20ms/step\n"
     ]
    },
    {
     "name": "stderr",
     "output_type": "stream",
     "text": [
      "/home/JouiniAhmad/Desktop/douma/Badminton_Project/detect_actions.py:158: FutureWarning: The frame.append method is deprecated and will be removed from pandas in a future version. Use pandas.concat instead.\n",
      "  self.strokesA = self.strokesA.append({'Player_A':'___'}, ignore_index=True)\n",
      "/home/JouiniAhmad/Desktop/douma/Badminton_Project/detect_actions.py:164: FutureWarning: The frame.append method is deprecated and will be removed from pandas in a future version. Use pandas.concat instead.\n",
      "  self.strokesB = self.strokesB.append({'Player_B':'___'}, ignore_index=True)\n",
      "/tmp/ipykernel_108182/3855559223.py:45: FutureWarning: The frame.append method is deprecated and will be removed from pandas in a future version. Use pandas.concat instead.\n",
      "  inputs = inputs.append({'Players_Positions':multipose.positions,'Players_Skeletons':multipose.skeletons,'Court_Center': multipose.center}, ignore_index=True)\n"
     ]
    },
    {
     "name": "stdout",
     "output_type": "stream",
     "text": [
      "1/1 [==============================] - 0s 24ms/step\n",
      "1/1 [==============================] - 0s 28ms/step\n",
      "1/1 [==============================] - 0s 24ms/step\n"
     ]
    },
    {
     "name": "stderr",
     "output_type": "stream",
     "text": [
      "/home/JouiniAhmad/Desktop/douma/Badminton_Project/detect_actions.py:158: FutureWarning: The frame.append method is deprecated and will be removed from pandas in a future version. Use pandas.concat instead.\n",
      "  self.strokesA = self.strokesA.append({'Player_A':'___'}, ignore_index=True)\n",
      "/home/JouiniAhmad/Desktop/douma/Badminton_Project/detect_actions.py:164: FutureWarning: The frame.append method is deprecated and will be removed from pandas in a future version. Use pandas.concat instead.\n",
      "  self.strokesB = self.strokesB.append({'Player_B':'___'}, ignore_index=True)\n",
      "/tmp/ipykernel_108182/3855559223.py:45: FutureWarning: The frame.append method is deprecated and will be removed from pandas in a future version. Use pandas.concat instead.\n",
      "  inputs = inputs.append({'Players_Positions':multipose.positions,'Players_Skeletons':multipose.skeletons,'Court_Center': multipose.center}, ignore_index=True)\n"
     ]
    },
    {
     "name": "stdout",
     "output_type": "stream",
     "text": [
      "1/1 [==============================] - 0s 25ms/step\n",
      "1/1 [==============================] - 0s 24ms/step\n"
     ]
    },
    {
     "name": "stderr",
     "output_type": "stream",
     "text": [
      "/home/JouiniAhmad/Desktop/douma/Badminton_Project/detect_actions.py:158: FutureWarning: The frame.append method is deprecated and will be removed from pandas in a future version. Use pandas.concat instead.\n",
      "  self.strokesA = self.strokesA.append({'Player_A':'___'}, ignore_index=True)\n",
      "/home/JouiniAhmad/Desktop/douma/Badminton_Project/detect_actions.py:164: FutureWarning: The frame.append method is deprecated and will be removed from pandas in a future version. Use pandas.concat instead.\n",
      "  self.strokesB = self.strokesB.append({'Player_B':'___'}, ignore_index=True)\n",
      "/tmp/ipykernel_108182/3855559223.py:45: FutureWarning: The frame.append method is deprecated and will be removed from pandas in a future version. Use pandas.concat instead.\n",
      "  inputs = inputs.append({'Players_Positions':multipose.positions,'Players_Skeletons':multipose.skeletons,'Court_Center': multipose.center}, ignore_index=True)\n"
     ]
    },
    {
     "name": "stdout",
     "output_type": "stream",
     "text": [
      "1/1 [==============================] - 0s 25ms/step\n"
     ]
    },
    {
     "name": "stderr",
     "output_type": "stream",
     "text": [
      "/home/JouiniAhmad/Desktop/douma/Badminton_Project/detect_actions.py:158: FutureWarning: The frame.append method is deprecated and will be removed from pandas in a future version. Use pandas.concat instead.\n",
      "  self.strokesA = self.strokesA.append({'Player_A':'___'}, ignore_index=True)\n",
      "/home/JouiniAhmad/Desktop/douma/Badminton_Project/detect_actions.py:164: FutureWarning: The frame.append method is deprecated and will be removed from pandas in a future version. Use pandas.concat instead.\n",
      "  self.strokesB = self.strokesB.append({'Player_B':'___'}, ignore_index=True)\n",
      "/tmp/ipykernel_108182/3855559223.py:45: FutureWarning: The frame.append method is deprecated and will be removed from pandas in a future version. Use pandas.concat instead.\n",
      "  inputs = inputs.append({'Players_Positions':multipose.positions,'Players_Skeletons':multipose.skeletons,'Court_Center': multipose.center}, ignore_index=True)\n"
     ]
    },
    {
     "name": "stdout",
     "output_type": "stream",
     "text": [
      "1/1 [==============================] - 0s 26ms/step\n",
      "1/1 [==============================] - 0s 20ms/step\n",
      "1/1 [==============================] - 0s 24ms/step\n"
     ]
    },
    {
     "name": "stderr",
     "output_type": "stream",
     "text": [
      "/home/JouiniAhmad/Desktop/douma/Badminton_Project/detect_actions.py:158: FutureWarning: The frame.append method is deprecated and will be removed from pandas in a future version. Use pandas.concat instead.\n",
      "  self.strokesA = self.strokesA.append({'Player_A':'___'}, ignore_index=True)\n",
      "/home/JouiniAhmad/Desktop/douma/Badminton_Project/detect_actions.py:164: FutureWarning: The frame.append method is deprecated and will be removed from pandas in a future version. Use pandas.concat instead.\n",
      "  self.strokesB = self.strokesB.append({'Player_B':'___'}, ignore_index=True)\n",
      "/tmp/ipykernel_108182/3855559223.py:45: FutureWarning: The frame.append method is deprecated and will be removed from pandas in a future version. Use pandas.concat instead.\n",
      "  inputs = inputs.append({'Players_Positions':multipose.positions,'Players_Skeletons':multipose.skeletons,'Court_Center': multipose.center}, ignore_index=True)\n"
     ]
    },
    {
     "name": "stdout",
     "output_type": "stream",
     "text": [
      "1/1 [==============================] - 0s 20ms/step\n",
      "1/1 [==============================] - 0s 24ms/step\n"
     ]
    },
    {
     "name": "stderr",
     "output_type": "stream",
     "text": [
      "/home/JouiniAhmad/Desktop/douma/Badminton_Project/detect_actions.py:158: FutureWarning: The frame.append method is deprecated and will be removed from pandas in a future version. Use pandas.concat instead.\n",
      "  self.strokesA = self.strokesA.append({'Player_A':'___'}, ignore_index=True)\n",
      "/home/JouiniAhmad/Desktop/douma/Badminton_Project/detect_actions.py:164: FutureWarning: The frame.append method is deprecated and will be removed from pandas in a future version. Use pandas.concat instead.\n",
      "  self.strokesB = self.strokesB.append({'Player_B':'___'}, ignore_index=True)\n",
      "/tmp/ipykernel_108182/3855559223.py:45: FutureWarning: The frame.append method is deprecated and will be removed from pandas in a future version. Use pandas.concat instead.\n",
      "  inputs = inputs.append({'Players_Positions':multipose.positions,'Players_Skeletons':multipose.skeletons,'Court_Center': multipose.center}, ignore_index=True)\n"
     ]
    },
    {
     "name": "stdout",
     "output_type": "stream",
     "text": [
      "1/1 [==============================] - 0s 26ms/step\n",
      "1/1 [==============================] - 0s 26ms/step\n"
     ]
    },
    {
     "name": "stderr",
     "output_type": "stream",
     "text": [
      "/home/JouiniAhmad/Desktop/douma/Badminton_Project/detect_actions.py:158: FutureWarning: The frame.append method is deprecated and will be removed from pandas in a future version. Use pandas.concat instead.\n",
      "  self.strokesA = self.strokesA.append({'Player_A':'___'}, ignore_index=True)\n",
      "/home/JouiniAhmad/Desktop/douma/Badminton_Project/detect_actions.py:164: FutureWarning: The frame.append method is deprecated and will be removed from pandas in a future version. Use pandas.concat instead.\n",
      "  self.strokesB = self.strokesB.append({'Player_B':'___'}, ignore_index=True)\n",
      "/tmp/ipykernel_108182/3855559223.py:45: FutureWarning: The frame.append method is deprecated and will be removed from pandas in a future version. Use pandas.concat instead.\n",
      "  inputs = inputs.append({'Players_Positions':multipose.positions,'Players_Skeletons':multipose.skeletons,'Court_Center': multipose.center}, ignore_index=True)\n"
     ]
    },
    {
     "name": "stdout",
     "output_type": "stream",
     "text": [
      "1/1 [==============================] - 0s 23ms/step\n"
     ]
    },
    {
     "name": "stderr",
     "output_type": "stream",
     "text": [
      "/home/JouiniAhmad/Desktop/douma/Badminton_Project/detect_actions.py:158: FutureWarning: The frame.append method is deprecated and will be removed from pandas in a future version. Use pandas.concat instead.\n",
      "  self.strokesA = self.strokesA.append({'Player_A':'___'}, ignore_index=True)\n",
      "/home/JouiniAhmad/Desktop/douma/Badminton_Project/detect_actions.py:164: FutureWarning: The frame.append method is deprecated and will be removed from pandas in a future version. Use pandas.concat instead.\n",
      "  self.strokesB = self.strokesB.append({'Player_B':'___'}, ignore_index=True)\n",
      "/tmp/ipykernel_108182/3855559223.py:45: FutureWarning: The frame.append method is deprecated and will be removed from pandas in a future version. Use pandas.concat instead.\n",
      "  inputs = inputs.append({'Players_Positions':multipose.positions,'Players_Skeletons':multipose.skeletons,'Court_Center': multipose.center}, ignore_index=True)\n"
     ]
    },
    {
     "name": "stdout",
     "output_type": "stream",
     "text": [
      "1/1 [==============================] - 0s 26ms/step\n",
      "1/1 [==============================] - 0s 23ms/step\n",
      "1/1 [==============================] - 0s 24ms/step\n"
     ]
    },
    {
     "name": "stderr",
     "output_type": "stream",
     "text": [
      "/home/JouiniAhmad/Desktop/douma/Badminton_Project/detect_actions.py:158: FutureWarning: The frame.append method is deprecated and will be removed from pandas in a future version. Use pandas.concat instead.\n",
      "  self.strokesA = self.strokesA.append({'Player_A':'___'}, ignore_index=True)\n",
      "/home/JouiniAhmad/Desktop/douma/Badminton_Project/detect_actions.py:164: FutureWarning: The frame.append method is deprecated and will be removed from pandas in a future version. Use pandas.concat instead.\n",
      "  self.strokesB = self.strokesB.append({'Player_B':'___'}, ignore_index=True)\n",
      "/tmp/ipykernel_108182/3855559223.py:45: FutureWarning: The frame.append method is deprecated and will be removed from pandas in a future version. Use pandas.concat instead.\n",
      "  inputs = inputs.append({'Players_Positions':multipose.positions,'Players_Skeletons':multipose.skeletons,'Court_Center': multipose.center}, ignore_index=True)\n"
     ]
    },
    {
     "name": "stdout",
     "output_type": "stream",
     "text": [
      "1/1 [==============================] - 0s 22ms/step\n",
      "1/1 [==============================] - 0s 23ms/step\n"
     ]
    },
    {
     "name": "stderr",
     "output_type": "stream",
     "text": [
      "/home/JouiniAhmad/Desktop/douma/Badminton_Project/detect_actions.py:158: FutureWarning: The frame.append method is deprecated and will be removed from pandas in a future version. Use pandas.concat instead.\n",
      "  self.strokesA = self.strokesA.append({'Player_A':'___'}, ignore_index=True)\n",
      "/home/JouiniAhmad/Desktop/douma/Badminton_Project/detect_actions.py:164: FutureWarning: The frame.append method is deprecated and will be removed from pandas in a future version. Use pandas.concat instead.\n",
      "  self.strokesB = self.strokesB.append({'Player_B':'___'}, ignore_index=True)\n",
      "/tmp/ipykernel_108182/3855559223.py:45: FutureWarning: The frame.append method is deprecated and will be removed from pandas in a future version. Use pandas.concat instead.\n",
      "  inputs = inputs.append({'Players_Positions':multipose.positions,'Players_Skeletons':multipose.skeletons,'Court_Center': multipose.center}, ignore_index=True)\n"
     ]
    },
    {
     "name": "stdout",
     "output_type": "stream",
     "text": [
      "1/1 [==============================] - 0s 25ms/step\n"
     ]
    },
    {
     "name": "stderr",
     "output_type": "stream",
     "text": [
      "/home/JouiniAhmad/Desktop/douma/Badminton_Project/detect_actions.py:158: FutureWarning: The frame.append method is deprecated and will be removed from pandas in a future version. Use pandas.concat instead.\n",
      "  self.strokesA = self.strokesA.append({'Player_A':'___'}, ignore_index=True)\n",
      "/home/JouiniAhmad/Desktop/douma/Badminton_Project/detect_actions.py:164: FutureWarning: The frame.append method is deprecated and will be removed from pandas in a future version. Use pandas.concat instead.\n",
      "  self.strokesB = self.strokesB.append({'Player_B':'___'}, ignore_index=True)\n",
      "/tmp/ipykernel_108182/3855559223.py:45: FutureWarning: The frame.append method is deprecated and will be removed from pandas in a future version. Use pandas.concat instead.\n",
      "  inputs = inputs.append({'Players_Positions':multipose.positions,'Players_Skeletons':multipose.skeletons,'Court_Center': multipose.center}, ignore_index=True)\n"
     ]
    },
    {
     "name": "stdout",
     "output_type": "stream",
     "text": [
      "1/1 [==============================] - 0s 25ms/step\n",
      "1/1 [==============================] - 0s 24ms/step\n",
      "1/1 [==============================] - ETA: 0s"
     ]
    },
    {
     "name": "stderr",
     "output_type": "stream",
     "text": [
      "/home/JouiniAhmad/Desktop/douma/Badminton_Project/detect_actions.py:158: FutureWarning: The frame.append method is deprecated and will be removed from pandas in a future version. Use pandas.concat instead.\n",
      "  self.strokesA = self.strokesA.append({'Player_A':'___'}, ignore_index=True)\n",
      "/home/JouiniAhmad/Desktop/douma/Badminton_Project/detect_actions.py:164: FutureWarning: The frame.append method is deprecated and will be removed from pandas in a future version. Use pandas.concat instead.\n",
      "  self.strokesB = self.strokesB.append({'Player_B':'___'}, ignore_index=True)\n",
      "/tmp/ipykernel_108182/3855559223.py:45: FutureWarning: The frame.append method is deprecated and will be removed from pandas in a future version. Use pandas.concat instead.\n",
      "  inputs = inputs.append({'Players_Positions':multipose.positions,'Players_Skeletons':multipose.skeletons,'Court_Center': multipose.center}, ignore_index=True)\n"
     ]
    },
    {
     "name": "stdout",
     "output_type": "stream",
     "text": [
      "1/1 [==============================] - 0s 26ms/step\n",
      "1/1 [==============================] - 0s 21ms/step\n"
     ]
    },
    {
     "name": "stderr",
     "output_type": "stream",
     "text": [
      "/home/JouiniAhmad/Desktop/douma/Badminton_Project/detect_actions.py:158: FutureWarning: The frame.append method is deprecated and will be removed from pandas in a future version. Use pandas.concat instead.\n",
      "  self.strokesA = self.strokesA.append({'Player_A':'___'}, ignore_index=True)\n",
      "/home/JouiniAhmad/Desktop/douma/Badminton_Project/detect_actions.py:164: FutureWarning: The frame.append method is deprecated and will be removed from pandas in a future version. Use pandas.concat instead.\n",
      "  self.strokesB = self.strokesB.append({'Player_B':'___'}, ignore_index=True)\n",
      "/tmp/ipykernel_108182/3855559223.py:45: FutureWarning: The frame.append method is deprecated and will be removed from pandas in a future version. Use pandas.concat instead.\n",
      "  inputs = inputs.append({'Players_Positions':multipose.positions,'Players_Skeletons':multipose.skeletons,'Court_Center': multipose.center}, ignore_index=True)\n"
     ]
    },
    {
     "name": "stdout",
     "output_type": "stream",
     "text": [
      "1/1 [==============================] - 0s 26ms/step\n",
      "1/1 [==============================] - 0s 26ms/step\n",
      "1/1 [==============================] - ETA: 0s"
     ]
    },
    {
     "name": "stderr",
     "output_type": "stream",
     "text": [
      "/home/JouiniAhmad/Desktop/douma/Badminton_Project/detect_actions.py:158: FutureWarning: The frame.append method is deprecated and will be removed from pandas in a future version. Use pandas.concat instead.\n",
      "  self.strokesA = self.strokesA.append({'Player_A':'___'}, ignore_index=True)\n",
      "/home/JouiniAhmad/Desktop/douma/Badminton_Project/detect_actions.py:164: FutureWarning: The frame.append method is deprecated and will be removed from pandas in a future version. Use pandas.concat instead.\n",
      "  self.strokesB = self.strokesB.append({'Player_B':'___'}, ignore_index=True)\n",
      "/tmp/ipykernel_108182/3855559223.py:45: FutureWarning: The frame.append method is deprecated and will be removed from pandas in a future version. Use pandas.concat instead.\n",
      "  inputs = inputs.append({'Players_Positions':multipose.positions,'Players_Skeletons':multipose.skeletons,'Court_Center': multipose.center}, ignore_index=True)\n"
     ]
    },
    {
     "name": "stdout",
     "output_type": "stream",
     "text": [
      "1/1 [==============================] - 0s 25ms/step\n",
      "1/1 [==============================] - 0s 26ms/step\n"
     ]
    },
    {
     "name": "stderr",
     "output_type": "stream",
     "text": [
      "/home/JouiniAhmad/Desktop/douma/Badminton_Project/detect_actions.py:158: FutureWarning: The frame.append method is deprecated and will be removed from pandas in a future version. Use pandas.concat instead.\n",
      "  self.strokesA = self.strokesA.append({'Player_A':'___'}, ignore_index=True)\n",
      "/home/JouiniAhmad/Desktop/douma/Badminton_Project/detect_actions.py:164: FutureWarning: The frame.append method is deprecated and will be removed from pandas in a future version. Use pandas.concat instead.\n",
      "  self.strokesB = self.strokesB.append({'Player_B':'___'}, ignore_index=True)\n",
      "/tmp/ipykernel_108182/3855559223.py:45: FutureWarning: The frame.append method is deprecated and will be removed from pandas in a future version. Use pandas.concat instead.\n",
      "  inputs = inputs.append({'Players_Positions':multipose.positions,'Players_Skeletons':multipose.skeletons,'Court_Center': multipose.center}, ignore_index=True)\n"
     ]
    },
    {
     "name": "stdout",
     "output_type": "stream",
     "text": [
      "1/1 [==============================] - 0s 26ms/step\n",
      "1/1 [==============================] - 0s 75ms/step\n",
      "1/1 [==============================] - ETA: 0s"
     ]
    },
    {
     "name": "stderr",
     "output_type": "stream",
     "text": [
      "/home/JouiniAhmad/Desktop/douma/Badminton_Project/detect_actions.py:158: FutureWarning: The frame.append method is deprecated and will be removed from pandas in a future version. Use pandas.concat instead.\n",
      "  self.strokesA = self.strokesA.append({'Player_A':'___'}, ignore_index=True)\n",
      "/home/JouiniAhmad/Desktop/douma/Badminton_Project/detect_actions.py:164: FutureWarning: The frame.append method is deprecated and will be removed from pandas in a future version. Use pandas.concat instead.\n",
      "  self.strokesB = self.strokesB.append({'Player_B':'___'}, ignore_index=True)\n",
      "/tmp/ipykernel_108182/3855559223.py:45: FutureWarning: The frame.append method is deprecated and will be removed from pandas in a future version. Use pandas.concat instead.\n",
      "  inputs = inputs.append({'Players_Positions':multipose.positions,'Players_Skeletons':multipose.skeletons,'Court_Center': multipose.center}, ignore_index=True)\n"
     ]
    },
    {
     "name": "stdout",
     "output_type": "stream",
     "text": [
      "1/1 [==============================] - 0s 25ms/step\n",
      "1/1 [==============================] - 0s 23ms/step\n",
      "1/1 [==============================] - 0s 28ms/step\n"
     ]
    },
    {
     "name": "stderr",
     "output_type": "stream",
     "text": [
      "/home/JouiniAhmad/Desktop/douma/Badminton_Project/detect_actions.py:158: FutureWarning: The frame.append method is deprecated and will be removed from pandas in a future version. Use pandas.concat instead.\n",
      "  self.strokesA = self.strokesA.append({'Player_A':'___'}, ignore_index=True)\n",
      "/home/JouiniAhmad/Desktop/douma/Badminton_Project/detect_actions.py:164: FutureWarning: The frame.append method is deprecated and will be removed from pandas in a future version. Use pandas.concat instead.\n",
      "  self.strokesB = self.strokesB.append({'Player_B':'___'}, ignore_index=True)\n",
      "/tmp/ipykernel_108182/3855559223.py:45: FutureWarning: The frame.append method is deprecated and will be removed from pandas in a future version. Use pandas.concat instead.\n",
      "  inputs = inputs.append({'Players_Positions':multipose.positions,'Players_Skeletons':multipose.skeletons,'Court_Center': multipose.center}, ignore_index=True)\n"
     ]
    },
    {
     "name": "stdout",
     "output_type": "stream",
     "text": [
      "1/1 [==============================] - 0s 25ms/step\n"
     ]
    },
    {
     "name": "stderr",
     "output_type": "stream",
     "text": [
      "/home/JouiniAhmad/Desktop/douma/Badminton_Project/detect_actions.py:158: FutureWarning: The frame.append method is deprecated and will be removed from pandas in a future version. Use pandas.concat instead.\n",
      "  self.strokesA = self.strokesA.append({'Player_A':'___'}, ignore_index=True)\n",
      "/home/JouiniAhmad/Desktop/douma/Badminton_Project/detect_actions.py:164: FutureWarning: The frame.append method is deprecated and will be removed from pandas in a future version. Use pandas.concat instead.\n",
      "  self.strokesB = self.strokesB.append({'Player_B':'___'}, ignore_index=True)\n",
      "/tmp/ipykernel_108182/3855559223.py:45: FutureWarning: The frame.append method is deprecated and will be removed from pandas in a future version. Use pandas.concat instead.\n",
      "  inputs = inputs.append({'Players_Positions':multipose.positions,'Players_Skeletons':multipose.skeletons,'Court_Center': multipose.center}, ignore_index=True)\n"
     ]
    },
    {
     "name": "stdout",
     "output_type": "stream",
     "text": [
      "1/1 [==============================] - 0s 27ms/step\n",
      "1/1 [==============================] - 0s 25ms/step\n"
     ]
    },
    {
     "name": "stderr",
     "output_type": "stream",
     "text": [
      "/home/JouiniAhmad/Desktop/douma/Badminton_Project/detect_actions.py:158: FutureWarning: The frame.append method is deprecated and will be removed from pandas in a future version. Use pandas.concat instead.\n",
      "  self.strokesA = self.strokesA.append({'Player_A':'___'}, ignore_index=True)\n",
      "/home/JouiniAhmad/Desktop/douma/Badminton_Project/detect_actions.py:164: FutureWarning: The frame.append method is deprecated and will be removed from pandas in a future version. Use pandas.concat instead.\n",
      "  self.strokesB = self.strokesB.append({'Player_B':'___'}, ignore_index=True)\n",
      "/tmp/ipykernel_108182/3855559223.py:45: FutureWarning: The frame.append method is deprecated and will be removed from pandas in a future version. Use pandas.concat instead.\n",
      "  inputs = inputs.append({'Players_Positions':multipose.positions,'Players_Skeletons':multipose.skeletons,'Court_Center': multipose.center}, ignore_index=True)\n"
     ]
    },
    {
     "name": "stdout",
     "output_type": "stream",
     "text": [
      "1/1 [==============================] - 0s 26ms/step\n",
      "1/1 [==============================] - 0s 27ms/step\n",
      "1/1 [==============================] - 0s 25ms/step\n"
     ]
    },
    {
     "name": "stderr",
     "output_type": "stream",
     "text": [
      "/home/JouiniAhmad/Desktop/douma/Badminton_Project/detect_actions.py:158: FutureWarning: The frame.append method is deprecated and will be removed from pandas in a future version. Use pandas.concat instead.\n",
      "  self.strokesA = self.strokesA.append({'Player_A':'___'}, ignore_index=True)\n",
      "/home/JouiniAhmad/Desktop/douma/Badminton_Project/detect_actions.py:162: FutureWarning: The frame.append method is deprecated and will be removed from pandas in a future version. Use pandas.concat instead.\n",
      "  self.strokesB = self.strokesB.append({'Player_B':self.class_names[np.argmax(predictionB)]}, ignore_index=True)\n",
      "/tmp/ipykernel_108182/3855559223.py:45: FutureWarning: The frame.append method is deprecated and will be removed from pandas in a future version. Use pandas.concat instead.\n",
      "  inputs = inputs.append({'Players_Positions':multipose.positions,'Players_Skeletons':multipose.skeletons,'Court_Center': multipose.center}, ignore_index=True)\n"
     ]
    },
    {
     "name": "stdout",
     "output_type": "stream",
     "text": [
      "1/1 [==============================] - 0s 26ms/step\n"
     ]
    },
    {
     "name": "stderr",
     "output_type": "stream",
     "text": [
      "/home/JouiniAhmad/Desktop/douma/Badminton_Project/detect_actions.py:158: FutureWarning: The frame.append method is deprecated and will be removed from pandas in a future version. Use pandas.concat instead.\n",
      "  self.strokesA = self.strokesA.append({'Player_A':'___'}, ignore_index=True)\n",
      "/home/JouiniAhmad/Desktop/douma/Badminton_Project/detect_actions.py:164: FutureWarning: The frame.append method is deprecated and will be removed from pandas in a future version. Use pandas.concat instead.\n",
      "  self.strokesB = self.strokesB.append({'Player_B':'___'}, ignore_index=True)\n",
      "/tmp/ipykernel_108182/3855559223.py:45: FutureWarning: The frame.append method is deprecated and will be removed from pandas in a future version. Use pandas.concat instead.\n",
      "  inputs = inputs.append({'Players_Positions':multipose.positions,'Players_Skeletons':multipose.skeletons,'Court_Center': multipose.center}, ignore_index=True)\n"
     ]
    },
    {
     "name": "stdout",
     "output_type": "stream",
     "text": [
      "1/1 [==============================] - 0s 54ms/step\n",
      "1/1 [==============================] - 0s 26ms/step\n"
     ]
    },
    {
     "name": "stderr",
     "output_type": "stream",
     "text": [
      "/home/JouiniAhmad/Desktop/douma/Badminton_Project/detect_actions.py:158: FutureWarning: The frame.append method is deprecated and will be removed from pandas in a future version. Use pandas.concat instead.\n",
      "  self.strokesA = self.strokesA.append({'Player_A':'___'}, ignore_index=True)\n",
      "/home/JouiniAhmad/Desktop/douma/Badminton_Project/detect_actions.py:164: FutureWarning: The frame.append method is deprecated and will be removed from pandas in a future version. Use pandas.concat instead.\n",
      "  self.strokesB = self.strokesB.append({'Player_B':'___'}, ignore_index=True)\n",
      "/tmp/ipykernel_108182/3855559223.py:45: FutureWarning: The frame.append method is deprecated and will be removed from pandas in a future version. Use pandas.concat instead.\n",
      "  inputs = inputs.append({'Players_Positions':multipose.positions,'Players_Skeletons':multipose.skeletons,'Court_Center': multipose.center}, ignore_index=True)\n"
     ]
    },
    {
     "name": "stdout",
     "output_type": "stream",
     "text": [
      "1/1 [==============================] - 0s 26ms/step\n",
      "1/1 [==============================] - 0s 23ms/step\n",
      "1/1 [==============================] - 0s 25ms/step\n"
     ]
    },
    {
     "name": "stderr",
     "output_type": "stream",
     "text": [
      "/home/JouiniAhmad/Desktop/douma/Badminton_Project/detect_actions.py:158: FutureWarning: The frame.append method is deprecated and will be removed from pandas in a future version. Use pandas.concat instead.\n",
      "  self.strokesA = self.strokesA.append({'Player_A':'___'}, ignore_index=True)\n",
      "/home/JouiniAhmad/Desktop/douma/Badminton_Project/detect_actions.py:164: FutureWarning: The frame.append method is deprecated and will be removed from pandas in a future version. Use pandas.concat instead.\n",
      "  self.strokesB = self.strokesB.append({'Player_B':'___'}, ignore_index=True)\n",
      "/tmp/ipykernel_108182/3855559223.py:45: FutureWarning: The frame.append method is deprecated and will be removed from pandas in a future version. Use pandas.concat instead.\n",
      "  inputs = inputs.append({'Players_Positions':multipose.positions,'Players_Skeletons':multipose.skeletons,'Court_Center': multipose.center}, ignore_index=True)\n"
     ]
    },
    {
     "name": "stdout",
     "output_type": "stream",
     "text": [
      "1/1 [==============================] - 0s 24ms/step\n",
      "1/1 [==============================] - 0s 24ms/step\n"
     ]
    },
    {
     "name": "stderr",
     "output_type": "stream",
     "text": [
      "/home/JouiniAhmad/Desktop/douma/Badminton_Project/detect_actions.py:158: FutureWarning: The frame.append method is deprecated and will be removed from pandas in a future version. Use pandas.concat instead.\n",
      "  self.strokesA = self.strokesA.append({'Player_A':'___'}, ignore_index=True)\n",
      "/home/JouiniAhmad/Desktop/douma/Badminton_Project/detect_actions.py:164: FutureWarning: The frame.append method is deprecated and will be removed from pandas in a future version. Use pandas.concat instead.\n",
      "  self.strokesB = self.strokesB.append({'Player_B':'___'}, ignore_index=True)\n",
      "/tmp/ipykernel_108182/3855559223.py:45: FutureWarning: The frame.append method is deprecated and will be removed from pandas in a future version. Use pandas.concat instead.\n",
      "  inputs = inputs.append({'Players_Positions':multipose.positions,'Players_Skeletons':multipose.skeletons,'Court_Center': multipose.center}, ignore_index=True)\n"
     ]
    },
    {
     "name": "stdout",
     "output_type": "stream",
     "text": [
      "1/1 [==============================] - 0s 23ms/step\n"
     ]
    },
    {
     "name": "stderr",
     "output_type": "stream",
     "text": [
      "/home/JouiniAhmad/Desktop/douma/Badminton_Project/detect_actions.py:158: FutureWarning: The frame.append method is deprecated and will be removed from pandas in a future version. Use pandas.concat instead.\n",
      "  self.strokesA = self.strokesA.append({'Player_A':'___'}, ignore_index=True)\n",
      "/home/JouiniAhmad/Desktop/douma/Badminton_Project/detect_actions.py:164: FutureWarning: The frame.append method is deprecated and will be removed from pandas in a future version. Use pandas.concat instead.\n",
      "  self.strokesB = self.strokesB.append({'Player_B':'___'}, ignore_index=True)\n",
      "/tmp/ipykernel_108182/3855559223.py:45: FutureWarning: The frame.append method is deprecated and will be removed from pandas in a future version. Use pandas.concat instead.\n",
      "  inputs = inputs.append({'Players_Positions':multipose.positions,'Players_Skeletons':multipose.skeletons,'Court_Center': multipose.center}, ignore_index=True)\n"
     ]
    },
    {
     "name": "stdout",
     "output_type": "stream",
     "text": [
      "1/1 [==============================] - 0s 25ms/step\n",
      "1/1 [==============================] - 0s 26ms/step\n",
      "1/1 [==============================] - 0s 25ms/step\n"
     ]
    },
    {
     "name": "stderr",
     "output_type": "stream",
     "text": [
      "/home/JouiniAhmad/Desktop/douma/Badminton_Project/detect_actions.py:158: FutureWarning: The frame.append method is deprecated and will be removed from pandas in a future version. Use pandas.concat instead.\n",
      "  self.strokesA = self.strokesA.append({'Player_A':'___'}, ignore_index=True)\n",
      "/home/JouiniAhmad/Desktop/douma/Badminton_Project/detect_actions.py:164: FutureWarning: The frame.append method is deprecated and will be removed from pandas in a future version. Use pandas.concat instead.\n",
      "  self.strokesB = self.strokesB.append({'Player_B':'___'}, ignore_index=True)\n",
      "/tmp/ipykernel_108182/3855559223.py:45: FutureWarning: The frame.append method is deprecated and will be removed from pandas in a future version. Use pandas.concat instead.\n",
      "  inputs = inputs.append({'Players_Positions':multipose.positions,'Players_Skeletons':multipose.skeletons,'Court_Center': multipose.center}, ignore_index=True)\n"
     ]
    },
    {
     "name": "stdout",
     "output_type": "stream",
     "text": [
      "1/1 [==============================] - 0s 25ms/step\n",
      "1/1 [==============================] - ETA: 0s"
     ]
    },
    {
     "name": "stderr",
     "output_type": "stream",
     "text": [
      "/home/JouiniAhmad/Desktop/douma/Badminton_Project/detect_actions.py:158: FutureWarning: The frame.append method is deprecated and will be removed from pandas in a future version. Use pandas.concat instead.\n",
      "  self.strokesA = self.strokesA.append({'Player_A':'___'}, ignore_index=True)\n",
      "/home/JouiniAhmad/Desktop/douma/Badminton_Project/detect_actions.py:164: FutureWarning: The frame.append method is deprecated and will be removed from pandas in a future version. Use pandas.concat instead.\n",
      "  self.strokesB = self.strokesB.append({'Player_B':'___'}, ignore_index=True)\n",
      "/tmp/ipykernel_108182/3855559223.py:45: FutureWarning: The frame.append method is deprecated and will be removed from pandas in a future version. Use pandas.concat instead.\n",
      "  inputs = inputs.append({'Players_Positions':multipose.positions,'Players_Skeletons':multipose.skeletons,'Court_Center': multipose.center}, ignore_index=True)\n"
     ]
    },
    {
     "name": "stdout",
     "output_type": "stream",
     "text": [
      "1/1 [==============================] - 0s 25ms/step\n",
      "1/1 [==============================] - 0s 22ms/step\n",
      "1/1 [==============================] - 0s 25ms/step\n"
     ]
    },
    {
     "name": "stderr",
     "output_type": "stream",
     "text": [
      "/home/JouiniAhmad/Desktop/douma/Badminton_Project/detect_actions.py:158: FutureWarning: The frame.append method is deprecated and will be removed from pandas in a future version. Use pandas.concat instead.\n",
      "  self.strokesA = self.strokesA.append({'Player_A':'___'}, ignore_index=True)\n",
      "/home/JouiniAhmad/Desktop/douma/Badminton_Project/detect_actions.py:164: FutureWarning: The frame.append method is deprecated and will be removed from pandas in a future version. Use pandas.concat instead.\n",
      "  self.strokesB = self.strokesB.append({'Player_B':'___'}, ignore_index=True)\n",
      "/tmp/ipykernel_108182/3855559223.py:45: FutureWarning: The frame.append method is deprecated and will be removed from pandas in a future version. Use pandas.concat instead.\n",
      "  inputs = inputs.append({'Players_Positions':multipose.positions,'Players_Skeletons':multipose.skeletons,'Court_Center': multipose.center}, ignore_index=True)\n"
     ]
    },
    {
     "name": "stdout",
     "output_type": "stream",
     "text": [
      "1/1 [==============================] - 0s 25ms/step\n",
      "1/1 [==============================] - 0s 25ms/step\n"
     ]
    },
    {
     "name": "stderr",
     "output_type": "stream",
     "text": [
      "/home/JouiniAhmad/Desktop/douma/Badminton_Project/detect_actions.py:158: FutureWarning: The frame.append method is deprecated and will be removed from pandas in a future version. Use pandas.concat instead.\n",
      "  self.strokesA = self.strokesA.append({'Player_A':'___'}, ignore_index=True)\n",
      "/home/JouiniAhmad/Desktop/douma/Badminton_Project/detect_actions.py:164: FutureWarning: The frame.append method is deprecated and will be removed from pandas in a future version. Use pandas.concat instead.\n",
      "  self.strokesB = self.strokesB.append({'Player_B':'___'}, ignore_index=True)\n",
      "/tmp/ipykernel_108182/3855559223.py:45: FutureWarning: The frame.append method is deprecated and will be removed from pandas in a future version. Use pandas.concat instead.\n",
      "  inputs = inputs.append({'Players_Positions':multipose.positions,'Players_Skeletons':multipose.skeletons,'Court_Center': multipose.center}, ignore_index=True)\n"
     ]
    },
    {
     "name": "stdout",
     "output_type": "stream",
     "text": [
      "1/1 [==============================] - 0s 26ms/step\n",
      "1/1 [==============================] - 0s 24ms/step\n"
     ]
    },
    {
     "name": "stderr",
     "output_type": "stream",
     "text": [
      "/home/JouiniAhmad/Desktop/douma/Badminton_Project/detect_actions.py:158: FutureWarning: The frame.append method is deprecated and will be removed from pandas in a future version. Use pandas.concat instead.\n",
      "  self.strokesA = self.strokesA.append({'Player_A':'___'}, ignore_index=True)\n",
      "/home/JouiniAhmad/Desktop/douma/Badminton_Project/detect_actions.py:164: FutureWarning: The frame.append method is deprecated and will be removed from pandas in a future version. Use pandas.concat instead.\n",
      "  self.strokesB = self.strokesB.append({'Player_B':'___'}, ignore_index=True)\n",
      "/tmp/ipykernel_108182/3855559223.py:45: FutureWarning: The frame.append method is deprecated and will be removed from pandas in a future version. Use pandas.concat instead.\n",
      "  inputs = inputs.append({'Players_Positions':multipose.positions,'Players_Skeletons':multipose.skeletons,'Court_Center': multipose.center}, ignore_index=True)\n"
     ]
    },
    {
     "name": "stdout",
     "output_type": "stream",
     "text": [
      "1/1 [==============================] - 0s 22ms/step\n"
     ]
    },
    {
     "name": "stderr",
     "output_type": "stream",
     "text": [
      "/home/JouiniAhmad/Desktop/douma/Badminton_Project/detect_actions.py:158: FutureWarning: The frame.append method is deprecated and will be removed from pandas in a future version. Use pandas.concat instead.\n",
      "  self.strokesA = self.strokesA.append({'Player_A':'___'}, ignore_index=True)\n",
      "/home/JouiniAhmad/Desktop/douma/Badminton_Project/detect_actions.py:164: FutureWarning: The frame.append method is deprecated and will be removed from pandas in a future version. Use pandas.concat instead.\n",
      "  self.strokesB = self.strokesB.append({'Player_B':'___'}, ignore_index=True)\n",
      "/tmp/ipykernel_108182/3855559223.py:45: FutureWarning: The frame.append method is deprecated and will be removed from pandas in a future version. Use pandas.concat instead.\n",
      "  inputs = inputs.append({'Players_Positions':multipose.positions,'Players_Skeletons':multipose.skeletons,'Court_Center': multipose.center}, ignore_index=True)\n"
     ]
    },
    {
     "name": "stdout",
     "output_type": "stream",
     "text": [
      "1/1 [==============================] - 0s 22ms/step\n",
      "1/1 [==============================] - 0s 26ms/step\n",
      "1/1 [==============================] - 0s 24ms/step\n"
     ]
    },
    {
     "name": "stderr",
     "output_type": "stream",
     "text": [
      "/home/JouiniAhmad/Desktop/douma/Badminton_Project/detect_actions.py:158: FutureWarning: The frame.append method is deprecated and will be removed from pandas in a future version. Use pandas.concat instead.\n",
      "  self.strokesA = self.strokesA.append({'Player_A':'___'}, ignore_index=True)\n",
      "/home/JouiniAhmad/Desktop/douma/Badminton_Project/detect_actions.py:164: FutureWarning: The frame.append method is deprecated and will be removed from pandas in a future version. Use pandas.concat instead.\n",
      "  self.strokesB = self.strokesB.append({'Player_B':'___'}, ignore_index=True)\n",
      "/tmp/ipykernel_108182/3855559223.py:45: FutureWarning: The frame.append method is deprecated and will be removed from pandas in a future version. Use pandas.concat instead.\n",
      "  inputs = inputs.append({'Players_Positions':multipose.positions,'Players_Skeletons':multipose.skeletons,'Court_Center': multipose.center}, ignore_index=True)\n"
     ]
    },
    {
     "name": "stdout",
     "output_type": "stream",
     "text": [
      "1/1 [==============================] - 0s 26ms/step\n",
      "1/1 [==============================] - ETA: 0s"
     ]
    },
    {
     "name": "stderr",
     "output_type": "stream",
     "text": [
      "/home/JouiniAhmad/Desktop/douma/Badminton_Project/detect_actions.py:158: FutureWarning: The frame.append method is deprecated and will be removed from pandas in a future version. Use pandas.concat instead.\n",
      "  self.strokesA = self.strokesA.append({'Player_A':'___'}, ignore_index=True)\n",
      "/home/JouiniAhmad/Desktop/douma/Badminton_Project/detect_actions.py:164: FutureWarning: The frame.append method is deprecated and will be removed from pandas in a future version. Use pandas.concat instead.\n",
      "  self.strokesB = self.strokesB.append({'Player_B':'___'}, ignore_index=True)\n",
      "/tmp/ipykernel_108182/3855559223.py:45: FutureWarning: The frame.append method is deprecated and will be removed from pandas in a future version. Use pandas.concat instead.\n",
      "  inputs = inputs.append({'Players_Positions':multipose.positions,'Players_Skeletons':multipose.skeletons,'Court_Center': multipose.center}, ignore_index=True)\n"
     ]
    },
    {
     "name": "stdout",
     "output_type": "stream",
     "text": [
      "1/1 [==============================] - 0s 26ms/step\n",
      "1/1 [==============================] - 0s 22ms/step\n",
      "1/1 [==============================] - 0s 25ms/step\n"
     ]
    },
    {
     "name": "stderr",
     "output_type": "stream",
     "text": [
      "/home/JouiniAhmad/Desktop/douma/Badminton_Project/detect_actions.py:158: FutureWarning: The frame.append method is deprecated and will be removed from pandas in a future version. Use pandas.concat instead.\n",
      "  self.strokesA = self.strokesA.append({'Player_A':'___'}, ignore_index=True)\n",
      "/home/JouiniAhmad/Desktop/douma/Badminton_Project/detect_actions.py:164: FutureWarning: The frame.append method is deprecated and will be removed from pandas in a future version. Use pandas.concat instead.\n",
      "  self.strokesB = self.strokesB.append({'Player_B':'___'}, ignore_index=True)\n",
      "/tmp/ipykernel_108182/3855559223.py:45: FutureWarning: The frame.append method is deprecated and will be removed from pandas in a future version. Use pandas.concat instead.\n",
      "  inputs = inputs.append({'Players_Positions':multipose.positions,'Players_Skeletons':multipose.skeletons,'Court_Center': multipose.center}, ignore_index=True)\n"
     ]
    },
    {
     "name": "stdout",
     "output_type": "stream",
     "text": [
      "1/1 [==============================] - 0s 23ms/step\n",
      "1/1 [==============================] - 0s 24ms/step\n"
     ]
    },
    {
     "name": "stderr",
     "output_type": "stream",
     "text": [
      "/home/JouiniAhmad/Desktop/douma/Badminton_Project/detect_actions.py:158: FutureWarning: The frame.append method is deprecated and will be removed from pandas in a future version. Use pandas.concat instead.\n",
      "  self.strokesA = self.strokesA.append({'Player_A':'___'}, ignore_index=True)\n",
      "/home/JouiniAhmad/Desktop/douma/Badminton_Project/detect_actions.py:164: FutureWarning: The frame.append method is deprecated and will be removed from pandas in a future version. Use pandas.concat instead.\n",
      "  self.strokesB = self.strokesB.append({'Player_B':'___'}, ignore_index=True)\n",
      "/tmp/ipykernel_108182/3855559223.py:45: FutureWarning: The frame.append method is deprecated and will be removed from pandas in a future version. Use pandas.concat instead.\n",
      "  inputs = inputs.append({'Players_Positions':multipose.positions,'Players_Skeletons':multipose.skeletons,'Court_Center': multipose.center}, ignore_index=True)\n"
     ]
    },
    {
     "name": "stdout",
     "output_type": "stream",
     "text": [
      "1/1 [==============================] - 0s 43ms/step\n"
     ]
    },
    {
     "name": "stderr",
     "output_type": "stream",
     "text": [
      "/home/JouiniAhmad/Desktop/douma/Badminton_Project/detect_actions.py:158: FutureWarning: The frame.append method is deprecated and will be removed from pandas in a future version. Use pandas.concat instead.\n",
      "  self.strokesA = self.strokesA.append({'Player_A':'___'}, ignore_index=True)\n",
      "/home/JouiniAhmad/Desktop/douma/Badminton_Project/detect_actions.py:164: FutureWarning: The frame.append method is deprecated and will be removed from pandas in a future version. Use pandas.concat instead.\n",
      "  self.strokesB = self.strokesB.append({'Player_B':'___'}, ignore_index=True)\n",
      "/tmp/ipykernel_108182/3855559223.py:45: FutureWarning: The frame.append method is deprecated and will be removed from pandas in a future version. Use pandas.concat instead.\n",
      "  inputs = inputs.append({'Players_Positions':multipose.positions,'Players_Skeletons':multipose.skeletons,'Court_Center': multipose.center}, ignore_index=True)\n"
     ]
    },
    {
     "name": "stdout",
     "output_type": "stream",
     "text": [
      "1/1 [==============================] - 0s 27ms/step\n",
      "1/1 [==============================] - 0s 26ms/step\n",
      "1/1 [==============================] - ETA: 0s"
     ]
    },
    {
     "name": "stderr",
     "output_type": "stream",
     "text": [
      "/home/JouiniAhmad/Desktop/douma/Badminton_Project/detect_actions.py:158: FutureWarning: The frame.append method is deprecated and will be removed from pandas in a future version. Use pandas.concat instead.\n",
      "  self.strokesA = self.strokesA.append({'Player_A':'___'}, ignore_index=True)\n",
      "/home/JouiniAhmad/Desktop/douma/Badminton_Project/detect_actions.py:164: FutureWarning: The frame.append method is deprecated and will be removed from pandas in a future version. Use pandas.concat instead.\n",
      "  self.strokesB = self.strokesB.append({'Player_B':'___'}, ignore_index=True)\n",
      "/tmp/ipykernel_108182/3855559223.py:45: FutureWarning: The frame.append method is deprecated and will be removed from pandas in a future version. Use pandas.concat instead.\n",
      "  inputs = inputs.append({'Players_Positions':multipose.positions,'Players_Skeletons':multipose.skeletons,'Court_Center': multipose.center}, ignore_index=True)\n"
     ]
    },
    {
     "name": "stdout",
     "output_type": "stream",
     "text": [
      "1/1 [==============================] - 0s 26ms/step\n",
      "1/1 [==============================] - 0s 25ms/step\n",
      "1/1 [==============================] - 0s 25ms/step\n"
     ]
    },
    {
     "name": "stderr",
     "output_type": "stream",
     "text": [
      "/home/JouiniAhmad/Desktop/douma/Badminton_Project/detect_actions.py:158: FutureWarning: The frame.append method is deprecated and will be removed from pandas in a future version. Use pandas.concat instead.\n",
      "  self.strokesA = self.strokesA.append({'Player_A':'___'}, ignore_index=True)\n",
      "/home/JouiniAhmad/Desktop/douma/Badminton_Project/detect_actions.py:164: FutureWarning: The frame.append method is deprecated and will be removed from pandas in a future version. Use pandas.concat instead.\n",
      "  self.strokesB = self.strokesB.append({'Player_B':'___'}, ignore_index=True)\n",
      "/tmp/ipykernel_108182/3855559223.py:45: FutureWarning: The frame.append method is deprecated and will be removed from pandas in a future version. Use pandas.concat instead.\n",
      "  inputs = inputs.append({'Players_Positions':multipose.positions,'Players_Skeletons':multipose.skeletons,'Court_Center': multipose.center}, ignore_index=True)\n"
     ]
    },
    {
     "name": "stdout",
     "output_type": "stream",
     "text": [
      "1/1 [==============================] - 0s 23ms/step\n",
      "1/1 [==============================] - 0s 24ms/step\n"
     ]
    },
    {
     "name": "stderr",
     "output_type": "stream",
     "text": [
      "/home/JouiniAhmad/Desktop/douma/Badminton_Project/detect_actions.py:158: FutureWarning: The frame.append method is deprecated and will be removed from pandas in a future version. Use pandas.concat instead.\n",
      "  self.strokesA = self.strokesA.append({'Player_A':'___'}, ignore_index=True)\n",
      "/home/JouiniAhmad/Desktop/douma/Badminton_Project/detect_actions.py:164: FutureWarning: The frame.append method is deprecated and will be removed from pandas in a future version. Use pandas.concat instead.\n",
      "  self.strokesB = self.strokesB.append({'Player_B':'___'}, ignore_index=True)\n",
      "/tmp/ipykernel_108182/3855559223.py:45: FutureWarning: The frame.append method is deprecated and will be removed from pandas in a future version. Use pandas.concat instead.\n",
      "  inputs = inputs.append({'Players_Positions':multipose.positions,'Players_Skeletons':multipose.skeletons,'Court_Center': multipose.center}, ignore_index=True)\n"
     ]
    },
    {
     "name": "stdout",
     "output_type": "stream",
     "text": [
      "1/1 [==============================] - 0s 25ms/step\n",
      "1/1 [==============================] - 0s 26ms/step\n"
     ]
    },
    {
     "name": "stderr",
     "output_type": "stream",
     "text": [
      "/home/JouiniAhmad/Desktop/douma/Badminton_Project/detect_actions.py:158: FutureWarning: The frame.append method is deprecated and will be removed from pandas in a future version. Use pandas.concat instead.\n",
      "  self.strokesA = self.strokesA.append({'Player_A':'___'}, ignore_index=True)\n",
      "/home/JouiniAhmad/Desktop/douma/Badminton_Project/detect_actions.py:164: FutureWarning: The frame.append method is deprecated and will be removed from pandas in a future version. Use pandas.concat instead.\n",
      "  self.strokesB = self.strokesB.append({'Player_B':'___'}, ignore_index=True)\n",
      "/tmp/ipykernel_108182/3855559223.py:45: FutureWarning: The frame.append method is deprecated and will be removed from pandas in a future version. Use pandas.concat instead.\n",
      "  inputs = inputs.append({'Players_Positions':multipose.positions,'Players_Skeletons':multipose.skeletons,'Court_Center': multipose.center}, ignore_index=True)\n"
     ]
    },
    {
     "name": "stdout",
     "output_type": "stream",
     "text": [
      "1/1 [==============================] - 0s 22ms/step\n",
      "1/1 [==============================] - 0s 25ms/step\n"
     ]
    },
    {
     "name": "stderr",
     "output_type": "stream",
     "text": [
      "/home/JouiniAhmad/Desktop/douma/Badminton_Project/detect_actions.py:158: FutureWarning: The frame.append method is deprecated and will be removed from pandas in a future version. Use pandas.concat instead.\n",
      "  self.strokesA = self.strokesA.append({'Player_A':'___'}, ignore_index=True)\n",
      "/home/JouiniAhmad/Desktop/douma/Badminton_Project/detect_actions.py:164: FutureWarning: The frame.append method is deprecated and will be removed from pandas in a future version. Use pandas.concat instead.\n",
      "  self.strokesB = self.strokesB.append({'Player_B':'___'}, ignore_index=True)\n",
      "/tmp/ipykernel_108182/3855559223.py:45: FutureWarning: The frame.append method is deprecated and will be removed from pandas in a future version. Use pandas.concat instead.\n",
      "  inputs = inputs.append({'Players_Positions':multipose.positions,'Players_Skeletons':multipose.skeletons,'Court_Center': multipose.center}, ignore_index=True)\n"
     ]
    },
    {
     "name": "stdout",
     "output_type": "stream",
     "text": [
      "1/1 [==============================] - 0s 26ms/step\n",
      "1/1 [==============================] - 0s 23ms/step\n"
     ]
    },
    {
     "name": "stderr",
     "output_type": "stream",
     "text": [
      "/home/JouiniAhmad/Desktop/douma/Badminton_Project/detect_actions.py:158: FutureWarning: The frame.append method is deprecated and will be removed from pandas in a future version. Use pandas.concat instead.\n",
      "  self.strokesA = self.strokesA.append({'Player_A':'___'}, ignore_index=True)\n",
      "/home/JouiniAhmad/Desktop/douma/Badminton_Project/detect_actions.py:164: FutureWarning: The frame.append method is deprecated and will be removed from pandas in a future version. Use pandas.concat instead.\n",
      "  self.strokesB = self.strokesB.append({'Player_B':'___'}, ignore_index=True)\n",
      "/tmp/ipykernel_108182/3855559223.py:45: FutureWarning: The frame.append method is deprecated and will be removed from pandas in a future version. Use pandas.concat instead.\n",
      "  inputs = inputs.append({'Players_Positions':multipose.positions,'Players_Skeletons':multipose.skeletons,'Court_Center': multipose.center}, ignore_index=True)\n"
     ]
    },
    {
     "name": "stdout",
     "output_type": "stream",
     "text": [
      "1/1 [==============================] - 0s 24ms/step\n",
      "1/1 [==============================] - 0s 25ms/step\n"
     ]
    },
    {
     "name": "stderr",
     "output_type": "stream",
     "text": [
      "/home/JouiniAhmad/Desktop/douma/Badminton_Project/detect_actions.py:158: FutureWarning: The frame.append method is deprecated and will be removed from pandas in a future version. Use pandas.concat instead.\n",
      "  self.strokesA = self.strokesA.append({'Player_A':'___'}, ignore_index=True)\n",
      "/home/JouiniAhmad/Desktop/douma/Badminton_Project/detect_actions.py:164: FutureWarning: The frame.append method is deprecated and will be removed from pandas in a future version. Use pandas.concat instead.\n",
      "  self.strokesB = self.strokesB.append({'Player_B':'___'}, ignore_index=True)\n",
      "/tmp/ipykernel_108182/3855559223.py:45: FutureWarning: The frame.append method is deprecated and will be removed from pandas in a future version. Use pandas.concat instead.\n",
      "  inputs = inputs.append({'Players_Positions':multipose.positions,'Players_Skeletons':multipose.skeletons,'Court_Center': multipose.center}, ignore_index=True)\n"
     ]
    },
    {
     "name": "stdout",
     "output_type": "stream",
     "text": [
      "1/1 [==============================] - 0s 25ms/step\n"
     ]
    },
    {
     "name": "stderr",
     "output_type": "stream",
     "text": [
      "/home/JouiniAhmad/Desktop/douma/Badminton_Project/detect_actions.py:158: FutureWarning: The frame.append method is deprecated and will be removed from pandas in a future version. Use pandas.concat instead.\n",
      "  self.strokesA = self.strokesA.append({'Player_A':'___'}, ignore_index=True)\n",
      "/home/JouiniAhmad/Desktop/douma/Badminton_Project/detect_actions.py:164: FutureWarning: The frame.append method is deprecated and will be removed from pandas in a future version. Use pandas.concat instead.\n",
      "  self.strokesB = self.strokesB.append({'Player_B':'___'}, ignore_index=True)\n",
      "/tmp/ipykernel_108182/3855559223.py:45: FutureWarning: The frame.append method is deprecated and will be removed from pandas in a future version. Use pandas.concat instead.\n",
      "  inputs = inputs.append({'Players_Positions':multipose.positions,'Players_Skeletons':multipose.skeletons,'Court_Center': multipose.center}, ignore_index=True)\n"
     ]
    },
    {
     "name": "stdout",
     "output_type": "stream",
     "text": [
      "1/1 [==============================] - 0s 24ms/step\n",
      "1/1 [==============================] - 0s 22ms/step\n"
     ]
    },
    {
     "name": "stderr",
     "output_type": "stream",
     "text": [
      "/home/JouiniAhmad/Desktop/douma/Badminton_Project/detect_actions.py:158: FutureWarning: The frame.append method is deprecated and will be removed from pandas in a future version. Use pandas.concat instead.\n",
      "  self.strokesA = self.strokesA.append({'Player_A':'___'}, ignore_index=True)\n",
      "/home/JouiniAhmad/Desktop/douma/Badminton_Project/detect_actions.py:164: FutureWarning: The frame.append method is deprecated and will be removed from pandas in a future version. Use pandas.concat instead.\n",
      "  self.strokesB = self.strokesB.append({'Player_B':'___'}, ignore_index=True)\n",
      "/tmp/ipykernel_108182/3855559223.py:45: FutureWarning: The frame.append method is deprecated and will be removed from pandas in a future version. Use pandas.concat instead.\n",
      "  inputs = inputs.append({'Players_Positions':multipose.positions,'Players_Skeletons':multipose.skeletons,'Court_Center': multipose.center}, ignore_index=True)\n"
     ]
    },
    {
     "name": "stdout",
     "output_type": "stream",
     "text": [
      "1/1 [==============================] - 0s 54ms/step\n",
      "1/1 [==============================] - 0s 29ms/step\n",
      "1/1 [==============================] - ETA: 0s"
     ]
    },
    {
     "name": "stderr",
     "output_type": "stream",
     "text": [
      "/home/JouiniAhmad/Desktop/douma/Badminton_Project/detect_actions.py:158: FutureWarning: The frame.append method is deprecated and will be removed from pandas in a future version. Use pandas.concat instead.\n",
      "  self.strokesA = self.strokesA.append({'Player_A':'___'}, ignore_index=True)\n",
      "/home/JouiniAhmad/Desktop/douma/Badminton_Project/detect_actions.py:164: FutureWarning: The frame.append method is deprecated and will be removed from pandas in a future version. Use pandas.concat instead.\n",
      "  self.strokesB = self.strokesB.append({'Player_B':'___'}, ignore_index=True)\n",
      "/tmp/ipykernel_108182/3855559223.py:45: FutureWarning: The frame.append method is deprecated and will be removed from pandas in a future version. Use pandas.concat instead.\n",
      "  inputs = inputs.append({'Players_Positions':multipose.positions,'Players_Skeletons':multipose.skeletons,'Court_Center': multipose.center}, ignore_index=True)\n"
     ]
    },
    {
     "name": "stdout",
     "output_type": "stream",
     "text": [
      "1/1 [==============================] - 0s 24ms/step\n",
      "1/1 [==============================] - 0s 25ms/step\n",
      "1/1 [==============================] - 0s 24ms/step\n"
     ]
    },
    {
     "name": "stderr",
     "output_type": "stream",
     "text": [
      "/home/JouiniAhmad/Desktop/douma/Badminton_Project/detect_actions.py:158: FutureWarning: The frame.append method is deprecated and will be removed from pandas in a future version. Use pandas.concat instead.\n",
      "  self.strokesA = self.strokesA.append({'Player_A':'___'}, ignore_index=True)\n",
      "/home/JouiniAhmad/Desktop/douma/Badminton_Project/detect_actions.py:164: FutureWarning: The frame.append method is deprecated and will be removed from pandas in a future version. Use pandas.concat instead.\n",
      "  self.strokesB = self.strokesB.append({'Player_B':'___'}, ignore_index=True)\n",
      "/tmp/ipykernel_108182/3855559223.py:45: FutureWarning: The frame.append method is deprecated and will be removed from pandas in a future version. Use pandas.concat instead.\n",
      "  inputs = inputs.append({'Players_Positions':multipose.positions,'Players_Skeletons':multipose.skeletons,'Court_Center': multipose.center}, ignore_index=True)\n"
     ]
    },
    {
     "name": "stdout",
     "output_type": "stream",
     "text": [
      "1/1 [==============================] - 0s 25ms/step\n"
     ]
    },
    {
     "name": "stderr",
     "output_type": "stream",
     "text": [
      "/home/JouiniAhmad/Desktop/douma/Badminton_Project/detect_actions.py:158: FutureWarning: The frame.append method is deprecated and will be removed from pandas in a future version. Use pandas.concat instead.\n",
      "  self.strokesA = self.strokesA.append({'Player_A':'___'}, ignore_index=True)\n",
      "/home/JouiniAhmad/Desktop/douma/Badminton_Project/detect_actions.py:164: FutureWarning: The frame.append method is deprecated and will be removed from pandas in a future version. Use pandas.concat instead.\n",
      "  self.strokesB = self.strokesB.append({'Player_B':'___'}, ignore_index=True)\n",
      "/tmp/ipykernel_108182/3855559223.py:45: FutureWarning: The frame.append method is deprecated and will be removed from pandas in a future version. Use pandas.concat instead.\n",
      "  inputs = inputs.append({'Players_Positions':multipose.positions,'Players_Skeletons':multipose.skeletons,'Court_Center': multipose.center}, ignore_index=True)\n"
     ]
    },
    {
     "name": "stdout",
     "output_type": "stream",
     "text": [
      "1/1 [==============================] - 0s 55ms/step\n",
      "1/1 [==============================] - 0s 27ms/step\n"
     ]
    },
    {
     "name": "stderr",
     "output_type": "stream",
     "text": [
      "/home/JouiniAhmad/Desktop/douma/Badminton_Project/detect_actions.py:158: FutureWarning: The frame.append method is deprecated and will be removed from pandas in a future version. Use pandas.concat instead.\n",
      "  self.strokesA = self.strokesA.append({'Player_A':'___'}, ignore_index=True)\n",
      "/home/JouiniAhmad/Desktop/douma/Badminton_Project/detect_actions.py:164: FutureWarning: The frame.append method is deprecated and will be removed from pandas in a future version. Use pandas.concat instead.\n",
      "  self.strokesB = self.strokesB.append({'Player_B':'___'}, ignore_index=True)\n",
      "/tmp/ipykernel_108182/3855559223.py:45: FutureWarning: The frame.append method is deprecated and will be removed from pandas in a future version. Use pandas.concat instead.\n",
      "  inputs = inputs.append({'Players_Positions':multipose.positions,'Players_Skeletons':multipose.skeletons,'Court_Center': multipose.center}, ignore_index=True)\n"
     ]
    },
    {
     "name": "stdout",
     "output_type": "stream",
     "text": [
      "1/1 [==============================] - 0s 27ms/step\n",
      "1/1 [==============================] - 0s 24ms/step\n",
      "1/1 [==============================] - 0s 25ms/step\n"
     ]
    },
    {
     "name": "stderr",
     "output_type": "stream",
     "text": [
      "/home/JouiniAhmad/Desktop/douma/Badminton_Project/detect_actions.py:158: FutureWarning: The frame.append method is deprecated and will be removed from pandas in a future version. Use pandas.concat instead.\n",
      "  self.strokesA = self.strokesA.append({'Player_A':'___'}, ignore_index=True)\n",
      "/home/JouiniAhmad/Desktop/douma/Badminton_Project/detect_actions.py:164: FutureWarning: The frame.append method is deprecated and will be removed from pandas in a future version. Use pandas.concat instead.\n",
      "  self.strokesB = self.strokesB.append({'Player_B':'___'}, ignore_index=True)\n",
      "/tmp/ipykernel_108182/3855559223.py:45: FutureWarning: The frame.append method is deprecated and will be removed from pandas in a future version. Use pandas.concat instead.\n",
      "  inputs = inputs.append({'Players_Positions':multipose.positions,'Players_Skeletons':multipose.skeletons,'Court_Center': multipose.center}, ignore_index=True)\n"
     ]
    },
    {
     "name": "stdout",
     "output_type": "stream",
     "text": [
      "1/1 [==============================] - 0s 26ms/step\n",
      "1/1 [==============================] - 0s 25ms/step\n"
     ]
    },
    {
     "name": "stderr",
     "output_type": "stream",
     "text": [
      "/home/JouiniAhmad/Desktop/douma/Badminton_Project/detect_actions.py:158: FutureWarning: The frame.append method is deprecated and will be removed from pandas in a future version. Use pandas.concat instead.\n",
      "  self.strokesA = self.strokesA.append({'Player_A':'___'}, ignore_index=True)\n",
      "/home/JouiniAhmad/Desktop/douma/Badminton_Project/detect_actions.py:164: FutureWarning: The frame.append method is deprecated and will be removed from pandas in a future version. Use pandas.concat instead.\n",
      "  self.strokesB = self.strokesB.append({'Player_B':'___'}, ignore_index=True)\n",
      "/tmp/ipykernel_108182/3855559223.py:45: FutureWarning: The frame.append method is deprecated and will be removed from pandas in a future version. Use pandas.concat instead.\n",
      "  inputs = inputs.append({'Players_Positions':multipose.positions,'Players_Skeletons':multipose.skeletons,'Court_Center': multipose.center}, ignore_index=True)\n"
     ]
    },
    {
     "name": "stdout",
     "output_type": "stream",
     "text": [
      "1/1 [==============================] - 0s 24ms/step\n",
      "1/1 [==============================] - 0s 23ms/step\n"
     ]
    },
    {
     "name": "stderr",
     "output_type": "stream",
     "text": [
      "/home/JouiniAhmad/Desktop/douma/Badminton_Project/detect_actions.py:158: FutureWarning: The frame.append method is deprecated and will be removed from pandas in a future version. Use pandas.concat instead.\n",
      "  self.strokesA = self.strokesA.append({'Player_A':'___'}, ignore_index=True)\n",
      "/home/JouiniAhmad/Desktop/douma/Badminton_Project/detect_actions.py:164: FutureWarning: The frame.append method is deprecated and will be removed from pandas in a future version. Use pandas.concat instead.\n",
      "  self.strokesB = self.strokesB.append({'Player_B':'___'}, ignore_index=True)\n",
      "/tmp/ipykernel_108182/3855559223.py:45: FutureWarning: The frame.append method is deprecated and will be removed from pandas in a future version. Use pandas.concat instead.\n",
      "  inputs = inputs.append({'Players_Positions':multipose.positions,'Players_Skeletons':multipose.skeletons,'Court_Center': multipose.center}, ignore_index=True)\n"
     ]
    },
    {
     "name": "stdout",
     "output_type": "stream",
     "text": [
      "1/1 [==============================] - 0s 23ms/step\n",
      "1/1 [==============================] - 0s 24ms/step\n"
     ]
    },
    {
     "name": "stderr",
     "output_type": "stream",
     "text": [
      "/home/JouiniAhmad/Desktop/douma/Badminton_Project/detect_actions.py:158: FutureWarning: The frame.append method is deprecated and will be removed from pandas in a future version. Use pandas.concat instead.\n",
      "  self.strokesA = self.strokesA.append({'Player_A':'___'}, ignore_index=True)\n",
      "/home/JouiniAhmad/Desktop/douma/Badminton_Project/detect_actions.py:164: FutureWarning: The frame.append method is deprecated and will be removed from pandas in a future version. Use pandas.concat instead.\n",
      "  self.strokesB = self.strokesB.append({'Player_B':'___'}, ignore_index=True)\n",
      "/tmp/ipykernel_108182/3855559223.py:45: FutureWarning: The frame.append method is deprecated and will be removed from pandas in a future version. Use pandas.concat instead.\n",
      "  inputs = inputs.append({'Players_Positions':multipose.positions,'Players_Skeletons':multipose.skeletons,'Court_Center': multipose.center}, ignore_index=True)\n"
     ]
    },
    {
     "name": "stdout",
     "output_type": "stream",
     "text": [
      "1/1 [==============================] - 0s 24ms/step\n",
      "1/1 [==============================] - 0s 24ms/step\n"
     ]
    },
    {
     "name": "stderr",
     "output_type": "stream",
     "text": [
      "/home/JouiniAhmad/Desktop/douma/Badminton_Project/detect_actions.py:158: FutureWarning: The frame.append method is deprecated and will be removed from pandas in a future version. Use pandas.concat instead.\n",
      "  self.strokesA = self.strokesA.append({'Player_A':'___'}, ignore_index=True)\n",
      "/home/JouiniAhmad/Desktop/douma/Badminton_Project/detect_actions.py:164: FutureWarning: The frame.append method is deprecated and will be removed from pandas in a future version. Use pandas.concat instead.\n",
      "  self.strokesB = self.strokesB.append({'Player_B':'___'}, ignore_index=True)\n",
      "/tmp/ipykernel_108182/3855559223.py:45: FutureWarning: The frame.append method is deprecated and will be removed from pandas in a future version. Use pandas.concat instead.\n",
      "  inputs = inputs.append({'Players_Positions':multipose.positions,'Players_Skeletons':multipose.skeletons,'Court_Center': multipose.center}, ignore_index=True)\n"
     ]
    },
    {
     "name": "stdout",
     "output_type": "stream",
     "text": [
      "1/1 [==============================] - 0s 22ms/step\n",
      "1/1 [==============================] - 0s 24ms/step\n"
     ]
    },
    {
     "name": "stderr",
     "output_type": "stream",
     "text": [
      "/home/JouiniAhmad/Desktop/douma/Badminton_Project/detect_actions.py:158: FutureWarning: The frame.append method is deprecated and will be removed from pandas in a future version. Use pandas.concat instead.\n",
      "  self.strokesA = self.strokesA.append({'Player_A':'___'}, ignore_index=True)\n",
      "/home/JouiniAhmad/Desktop/douma/Badminton_Project/detect_actions.py:164: FutureWarning: The frame.append method is deprecated and will be removed from pandas in a future version. Use pandas.concat instead.\n",
      "  self.strokesB = self.strokesB.append({'Player_B':'___'}, ignore_index=True)\n",
      "/tmp/ipykernel_108182/3855559223.py:45: FutureWarning: The frame.append method is deprecated and will be removed from pandas in a future version. Use pandas.concat instead.\n",
      "  inputs = inputs.append({'Players_Positions':multipose.positions,'Players_Skeletons':multipose.skeletons,'Court_Center': multipose.center}, ignore_index=True)\n"
     ]
    },
    {
     "name": "stdout",
     "output_type": "stream",
     "text": [
      "1/1 [==============================] - 0s 26ms/step\n",
      "1/1 [==============================] - 0s 25ms/step\n"
     ]
    },
    {
     "name": "stderr",
     "output_type": "stream",
     "text": [
      "/home/JouiniAhmad/Desktop/douma/Badminton_Project/detect_actions.py:158: FutureWarning: The frame.append method is deprecated and will be removed from pandas in a future version. Use pandas.concat instead.\n",
      "  self.strokesA = self.strokesA.append({'Player_A':'___'}, ignore_index=True)\n",
      "/home/JouiniAhmad/Desktop/douma/Badminton_Project/detect_actions.py:164: FutureWarning: The frame.append method is deprecated and will be removed from pandas in a future version. Use pandas.concat instead.\n",
      "  self.strokesB = self.strokesB.append({'Player_B':'___'}, ignore_index=True)\n",
      "/tmp/ipykernel_108182/3855559223.py:45: FutureWarning: The frame.append method is deprecated and will be removed from pandas in a future version. Use pandas.concat instead.\n",
      "  inputs = inputs.append({'Players_Positions':multipose.positions,'Players_Skeletons':multipose.skeletons,'Court_Center': multipose.center}, ignore_index=True)\n"
     ]
    },
    {
     "name": "stdout",
     "output_type": "stream",
     "text": [
      "1/1 [==============================] - 0s 24ms/step\n"
     ]
    },
    {
     "name": "stderr",
     "output_type": "stream",
     "text": [
      "/home/JouiniAhmad/Desktop/douma/Badminton_Project/detect_actions.py:158: FutureWarning: The frame.append method is deprecated and will be removed from pandas in a future version. Use pandas.concat instead.\n",
      "  self.strokesA = self.strokesA.append({'Player_A':'___'}, ignore_index=True)\n",
      "/home/JouiniAhmad/Desktop/douma/Badminton_Project/detect_actions.py:164: FutureWarning: The frame.append method is deprecated and will be removed from pandas in a future version. Use pandas.concat instead.\n",
      "  self.strokesB = self.strokesB.append({'Player_B':'___'}, ignore_index=True)\n",
      "/tmp/ipykernel_108182/3855559223.py:45: FutureWarning: The frame.append method is deprecated and will be removed from pandas in a future version. Use pandas.concat instead.\n",
      "  inputs = inputs.append({'Players_Positions':multipose.positions,'Players_Skeletons':multipose.skeletons,'Court_Center': multipose.center}, ignore_index=True)\n"
     ]
    },
    {
     "name": "stdout",
     "output_type": "stream",
     "text": [
      "1/1 [==============================] - 0s 27ms/step\n",
      "1/1 [==============================] - 0s 27ms/step\n",
      "1/1 [==============================] - 0s 24ms/step\n"
     ]
    },
    {
     "name": "stderr",
     "output_type": "stream",
     "text": [
      "/home/JouiniAhmad/Desktop/douma/Badminton_Project/detect_actions.py:158: FutureWarning: The frame.append method is deprecated and will be removed from pandas in a future version. Use pandas.concat instead.\n",
      "  self.strokesA = self.strokesA.append({'Player_A':'___'}, ignore_index=True)\n",
      "/home/JouiniAhmad/Desktop/douma/Badminton_Project/detect_actions.py:164: FutureWarning: The frame.append method is deprecated and will be removed from pandas in a future version. Use pandas.concat instead.\n",
      "  self.strokesB = self.strokesB.append({'Player_B':'___'}, ignore_index=True)\n",
      "/tmp/ipykernel_108182/3855559223.py:45: FutureWarning: The frame.append method is deprecated and will be removed from pandas in a future version. Use pandas.concat instead.\n",
      "  inputs = inputs.append({'Players_Positions':multipose.positions,'Players_Skeletons':multipose.skeletons,'Court_Center': multipose.center}, ignore_index=True)\n"
     ]
    },
    {
     "name": "stdout",
     "output_type": "stream",
     "text": [
      "1/1 [==============================] - 0s 22ms/step\n"
     ]
    },
    {
     "name": "stderr",
     "output_type": "stream",
     "text": [
      "/home/JouiniAhmad/Desktop/douma/Badminton_Project/detect_actions.py:158: FutureWarning: The frame.append method is deprecated and will be removed from pandas in a future version. Use pandas.concat instead.\n",
      "  self.strokesA = self.strokesA.append({'Player_A':'___'}, ignore_index=True)\n",
      "/home/JouiniAhmad/Desktop/douma/Badminton_Project/detect_actions.py:164: FutureWarning: The frame.append method is deprecated and will be removed from pandas in a future version. Use pandas.concat instead.\n",
      "  self.strokesB = self.strokesB.append({'Player_B':'___'}, ignore_index=True)\n",
      "/tmp/ipykernel_108182/3855559223.py:45: FutureWarning: The frame.append method is deprecated and will be removed from pandas in a future version. Use pandas.concat instead.\n",
      "  inputs = inputs.append({'Players_Positions':multipose.positions,'Players_Skeletons':multipose.skeletons,'Court_Center': multipose.center}, ignore_index=True)\n"
     ]
    },
    {
     "name": "stdout",
     "output_type": "stream",
     "text": [
      "1/1 [==============================] - 0s 26ms/step\n",
      "1/1 [==============================] - 0s 23ms/step\n"
     ]
    },
    {
     "name": "stderr",
     "output_type": "stream",
     "text": [
      "/home/JouiniAhmad/Desktop/douma/Badminton_Project/detect_actions.py:158: FutureWarning: The frame.append method is deprecated and will be removed from pandas in a future version. Use pandas.concat instead.\n",
      "  self.strokesA = self.strokesA.append({'Player_A':'___'}, ignore_index=True)\n",
      "/home/JouiniAhmad/Desktop/douma/Badminton_Project/detect_actions.py:164: FutureWarning: The frame.append method is deprecated and will be removed from pandas in a future version. Use pandas.concat instead.\n",
      "  self.strokesB = self.strokesB.append({'Player_B':'___'}, ignore_index=True)\n",
      "/tmp/ipykernel_108182/3855559223.py:45: FutureWarning: The frame.append method is deprecated and will be removed from pandas in a future version. Use pandas.concat instead.\n",
      "  inputs = inputs.append({'Players_Positions':multipose.positions,'Players_Skeletons':multipose.skeletons,'Court_Center': multipose.center}, ignore_index=True)\n"
     ]
    },
    {
     "name": "stdout",
     "output_type": "stream",
     "text": [
      "1/1 [==============================] - 0s 52ms/step\n",
      "1/1 [==============================] - 0s 25ms/step\n"
     ]
    },
    {
     "name": "stderr",
     "output_type": "stream",
     "text": [
      "/home/JouiniAhmad/Desktop/douma/Badminton_Project/detect_actions.py:158: FutureWarning: The frame.append method is deprecated and will be removed from pandas in a future version. Use pandas.concat instead.\n",
      "  self.strokesA = self.strokesA.append({'Player_A':'___'}, ignore_index=True)\n",
      "/home/JouiniAhmad/Desktop/douma/Badminton_Project/detect_actions.py:164: FutureWarning: The frame.append method is deprecated and will be removed from pandas in a future version. Use pandas.concat instead.\n",
      "  self.strokesB = self.strokesB.append({'Player_B':'___'}, ignore_index=True)\n",
      "/tmp/ipykernel_108182/3855559223.py:45: FutureWarning: The frame.append method is deprecated and will be removed from pandas in a future version. Use pandas.concat instead.\n",
      "  inputs = inputs.append({'Players_Positions':multipose.positions,'Players_Skeletons':multipose.skeletons,'Court_Center': multipose.center}, ignore_index=True)\n"
     ]
    },
    {
     "name": "stdout",
     "output_type": "stream",
     "text": [
      "1/1 [==============================] - 0s 24ms/step\n",
      "1/1 [==============================] - 0s 23ms/step\n",
      "1/1 [==============================] - 0s 25ms/step\n"
     ]
    },
    {
     "name": "stderr",
     "output_type": "stream",
     "text": [
      "/home/JouiniAhmad/Desktop/douma/Badminton_Project/detect_actions.py:158: FutureWarning: The frame.append method is deprecated and will be removed from pandas in a future version. Use pandas.concat instead.\n",
      "  self.strokesA = self.strokesA.append({'Player_A':'___'}, ignore_index=True)\n",
      "/home/JouiniAhmad/Desktop/douma/Badminton_Project/detect_actions.py:164: FutureWarning: The frame.append method is deprecated and will be removed from pandas in a future version. Use pandas.concat instead.\n",
      "  self.strokesB = self.strokesB.append({'Player_B':'___'}, ignore_index=True)\n",
      "/tmp/ipykernel_108182/3855559223.py:45: FutureWarning: The frame.append method is deprecated and will be removed from pandas in a future version. Use pandas.concat instead.\n",
      "  inputs = inputs.append({'Players_Positions':multipose.positions,'Players_Skeletons':multipose.skeletons,'Court_Center': multipose.center}, ignore_index=True)\n"
     ]
    },
    {
     "name": "stdout",
     "output_type": "stream",
     "text": [
      "1/1 [==============================] - 0s 26ms/step\n",
      "1/1 [==============================] - 0s 25ms/step\n"
     ]
    },
    {
     "name": "stderr",
     "output_type": "stream",
     "text": [
      "/home/JouiniAhmad/Desktop/douma/Badminton_Project/detect_actions.py:158: FutureWarning: The frame.append method is deprecated and will be removed from pandas in a future version. Use pandas.concat instead.\n",
      "  self.strokesA = self.strokesA.append({'Player_A':'___'}, ignore_index=True)\n",
      "/home/JouiniAhmad/Desktop/douma/Badminton_Project/detect_actions.py:164: FutureWarning: The frame.append method is deprecated and will be removed from pandas in a future version. Use pandas.concat instead.\n",
      "  self.strokesB = self.strokesB.append({'Player_B':'___'}, ignore_index=True)\n",
      "/tmp/ipykernel_108182/3855559223.py:45: FutureWarning: The frame.append method is deprecated and will be removed from pandas in a future version. Use pandas.concat instead.\n",
      "  inputs = inputs.append({'Players_Positions':multipose.positions,'Players_Skeletons':multipose.skeletons,'Court_Center': multipose.center}, ignore_index=True)\n"
     ]
    },
    {
     "name": "stdout",
     "output_type": "stream",
     "text": [
      "1/1 [==============================] - 0s 25ms/step\n",
      "1/1 [==============================] - 0s 24ms/step\n"
     ]
    },
    {
     "name": "stderr",
     "output_type": "stream",
     "text": [
      "/home/JouiniAhmad/Desktop/douma/Badminton_Project/detect_actions.py:158: FutureWarning: The frame.append method is deprecated and will be removed from pandas in a future version. Use pandas.concat instead.\n",
      "  self.strokesA = self.strokesA.append({'Player_A':'___'}, ignore_index=True)\n",
      "/home/JouiniAhmad/Desktop/douma/Badminton_Project/detect_actions.py:164: FutureWarning: The frame.append method is deprecated and will be removed from pandas in a future version. Use pandas.concat instead.\n",
      "  self.strokesB = self.strokesB.append({'Player_B':'___'}, ignore_index=True)\n",
      "/tmp/ipykernel_108182/3855559223.py:45: FutureWarning: The frame.append method is deprecated and will be removed from pandas in a future version. Use pandas.concat instead.\n",
      "  inputs = inputs.append({'Players_Positions':multipose.positions,'Players_Skeletons':multipose.skeletons,'Court_Center': multipose.center}, ignore_index=True)\n"
     ]
    },
    {
     "name": "stdout",
     "output_type": "stream",
     "text": [
      "1/1 [==============================] - 0s 25ms/step\n",
      "1/1 [==============================] - 0s 23ms/step\n"
     ]
    },
    {
     "name": "stderr",
     "output_type": "stream",
     "text": [
      "/home/JouiniAhmad/Desktop/douma/Badminton_Project/detect_actions.py:158: FutureWarning: The frame.append method is deprecated and will be removed from pandas in a future version. Use pandas.concat instead.\n",
      "  self.strokesA = self.strokesA.append({'Player_A':'___'}, ignore_index=True)\n",
      "/home/JouiniAhmad/Desktop/douma/Badminton_Project/detect_actions.py:164: FutureWarning: The frame.append method is deprecated and will be removed from pandas in a future version. Use pandas.concat instead.\n",
      "  self.strokesB = self.strokesB.append({'Player_B':'___'}, ignore_index=True)\n",
      "/tmp/ipykernel_108182/3855559223.py:45: FutureWarning: The frame.append method is deprecated and will be removed from pandas in a future version. Use pandas.concat instead.\n",
      "  inputs = inputs.append({'Players_Positions':multipose.positions,'Players_Skeletons':multipose.skeletons,'Court_Center': multipose.center}, ignore_index=True)\n"
     ]
    },
    {
     "name": "stdout",
     "output_type": "stream",
     "text": [
      "1/1 [==============================] - 0s 25ms/step\n",
      "1/1 [==============================] - 0s 24ms/step\n"
     ]
    },
    {
     "name": "stderr",
     "output_type": "stream",
     "text": [
      "/home/JouiniAhmad/Desktop/douma/Badminton_Project/detect_actions.py:158: FutureWarning: The frame.append method is deprecated and will be removed from pandas in a future version. Use pandas.concat instead.\n",
      "  self.strokesA = self.strokesA.append({'Player_A':'___'}, ignore_index=True)\n",
      "/home/JouiniAhmad/Desktop/douma/Badminton_Project/detect_actions.py:164: FutureWarning: The frame.append method is deprecated and will be removed from pandas in a future version. Use pandas.concat instead.\n",
      "  self.strokesB = self.strokesB.append({'Player_B':'___'}, ignore_index=True)\n",
      "/tmp/ipykernel_108182/3855559223.py:45: FutureWarning: The frame.append method is deprecated and will be removed from pandas in a future version. Use pandas.concat instead.\n",
      "  inputs = inputs.append({'Players_Positions':multipose.positions,'Players_Skeletons':multipose.skeletons,'Court_Center': multipose.center}, ignore_index=True)\n"
     ]
    },
    {
     "name": "stdout",
     "output_type": "stream",
     "text": [
      "1/1 [==============================] - 0s 23ms/step\n",
      "1/1 [==============================] - 0s 25ms/step\n"
     ]
    },
    {
     "name": "stderr",
     "output_type": "stream",
     "text": [
      "/home/JouiniAhmad/Desktop/douma/Badminton_Project/detect_actions.py:158: FutureWarning: The frame.append method is deprecated and will be removed from pandas in a future version. Use pandas.concat instead.\n",
      "  self.strokesA = self.strokesA.append({'Player_A':'___'}, ignore_index=True)\n",
      "/home/JouiniAhmad/Desktop/douma/Badminton_Project/detect_actions.py:164: FutureWarning: The frame.append method is deprecated and will be removed from pandas in a future version. Use pandas.concat instead.\n",
      "  self.strokesB = self.strokesB.append({'Player_B':'___'}, ignore_index=True)\n",
      "/tmp/ipykernel_108182/3855559223.py:45: FutureWarning: The frame.append method is deprecated and will be removed from pandas in a future version. Use pandas.concat instead.\n",
      "  inputs = inputs.append({'Players_Positions':multipose.positions,'Players_Skeletons':multipose.skeletons,'Court_Center': multipose.center}, ignore_index=True)\n"
     ]
    },
    {
     "name": "stdout",
     "output_type": "stream",
     "text": [
      "1/1 [==============================] - 0s 22ms/step\n",
      "1/1 [==============================] - ETA: 0s"
     ]
    },
    {
     "name": "stderr",
     "output_type": "stream",
     "text": [
      "/home/JouiniAhmad/Desktop/douma/Badminton_Project/detect_actions.py:158: FutureWarning: The frame.append method is deprecated and will be removed from pandas in a future version. Use pandas.concat instead.\n",
      "  self.strokesA = self.strokesA.append({'Player_A':'___'}, ignore_index=True)\n",
      "/home/JouiniAhmad/Desktop/douma/Badminton_Project/detect_actions.py:164: FutureWarning: The frame.append method is deprecated and will be removed from pandas in a future version. Use pandas.concat instead.\n",
      "  self.strokesB = self.strokesB.append({'Player_B':'___'}, ignore_index=True)\n",
      "/tmp/ipykernel_108182/3855559223.py:45: FutureWarning: The frame.append method is deprecated and will be removed from pandas in a future version. Use pandas.concat instead.\n",
      "  inputs = inputs.append({'Players_Positions':multipose.positions,'Players_Skeletons':multipose.skeletons,'Court_Center': multipose.center}, ignore_index=True)\n"
     ]
    },
    {
     "name": "stdout",
     "output_type": "stream",
     "text": [
      "1/1 [==============================] - 0s 25ms/step\n",
      "1/1 [==============================] - 0s 26ms/step\n"
     ]
    },
    {
     "name": "stderr",
     "output_type": "stream",
     "text": [
      "/home/JouiniAhmad/Desktop/douma/Badminton_Project/detect_actions.py:158: FutureWarning: The frame.append method is deprecated and will be removed from pandas in a future version. Use pandas.concat instead.\n",
      "  self.strokesA = self.strokesA.append({'Player_A':'___'}, ignore_index=True)\n",
      "/home/JouiniAhmad/Desktop/douma/Badminton_Project/detect_actions.py:164: FutureWarning: The frame.append method is deprecated and will be removed from pandas in a future version. Use pandas.concat instead.\n",
      "  self.strokesB = self.strokesB.append({'Player_B':'___'}, ignore_index=True)\n",
      "/tmp/ipykernel_108182/3855559223.py:45: FutureWarning: The frame.append method is deprecated and will be removed from pandas in a future version. Use pandas.concat instead.\n",
      "  inputs = inputs.append({'Players_Positions':multipose.positions,'Players_Skeletons':multipose.skeletons,'Court_Center': multipose.center}, ignore_index=True)\n"
     ]
    },
    {
     "name": "stdout",
     "output_type": "stream",
     "text": [
      "1/1 [==============================] - 0s 26ms/step\n",
      "1/1 [==============================] - 0s 24ms/step\n"
     ]
    },
    {
     "name": "stderr",
     "output_type": "stream",
     "text": [
      "/home/JouiniAhmad/Desktop/douma/Badminton_Project/detect_actions.py:158: FutureWarning: The frame.append method is deprecated and will be removed from pandas in a future version. Use pandas.concat instead.\n",
      "  self.strokesA = self.strokesA.append({'Player_A':'___'}, ignore_index=True)\n",
      "/home/JouiniAhmad/Desktop/douma/Badminton_Project/detect_actions.py:164: FutureWarning: The frame.append method is deprecated and will be removed from pandas in a future version. Use pandas.concat instead.\n",
      "  self.strokesB = self.strokesB.append({'Player_B':'___'}, ignore_index=True)\n",
      "/tmp/ipykernel_108182/3855559223.py:45: FutureWarning: The frame.append method is deprecated and will be removed from pandas in a future version. Use pandas.concat instead.\n",
      "  inputs = inputs.append({'Players_Positions':multipose.positions,'Players_Skeletons':multipose.skeletons,'Court_Center': multipose.center}, ignore_index=True)\n"
     ]
    },
    {
     "name": "stdout",
     "output_type": "stream",
     "text": [
      "1/1 [==============================] - 0s 27ms/step\n",
      "1/1 [==============================] - 0s 26ms/step\n",
      "1/1 [==============================] - 0s 25ms/step\n"
     ]
    },
    {
     "name": "stderr",
     "output_type": "stream",
     "text": [
      "/home/JouiniAhmad/Desktop/douma/Badminton_Project/detect_actions.py:158: FutureWarning: The frame.append method is deprecated and will be removed from pandas in a future version. Use pandas.concat instead.\n",
      "  self.strokesA = self.strokesA.append({'Player_A':'___'}, ignore_index=True)\n",
      "/home/JouiniAhmad/Desktop/douma/Badminton_Project/detect_actions.py:164: FutureWarning: The frame.append method is deprecated and will be removed from pandas in a future version. Use pandas.concat instead.\n",
      "  self.strokesB = self.strokesB.append({'Player_B':'___'}, ignore_index=True)\n",
      "/tmp/ipykernel_108182/3855559223.py:45: FutureWarning: The frame.append method is deprecated and will be removed from pandas in a future version. Use pandas.concat instead.\n",
      "  inputs = inputs.append({'Players_Positions':multipose.positions,'Players_Skeletons':multipose.skeletons,'Court_Center': multipose.center}, ignore_index=True)\n"
     ]
    },
    {
     "name": "stdout",
     "output_type": "stream",
     "text": [
      "1/1 [==============================] - 0s 26ms/step\n",
      "1/1 [==============================] - 0s 25ms/step\n"
     ]
    },
    {
     "name": "stderr",
     "output_type": "stream",
     "text": [
      "/home/JouiniAhmad/Desktop/douma/Badminton_Project/detect_actions.py:158: FutureWarning: The frame.append method is deprecated and will be removed from pandas in a future version. Use pandas.concat instead.\n",
      "  self.strokesA = self.strokesA.append({'Player_A':'___'}, ignore_index=True)\n",
      "/home/JouiniAhmad/Desktop/douma/Badminton_Project/detect_actions.py:164: FutureWarning: The frame.append method is deprecated and will be removed from pandas in a future version. Use pandas.concat instead.\n",
      "  self.strokesB = self.strokesB.append({'Player_B':'___'}, ignore_index=True)\n",
      "/tmp/ipykernel_108182/3855559223.py:45: FutureWarning: The frame.append method is deprecated and will be removed from pandas in a future version. Use pandas.concat instead.\n",
      "  inputs = inputs.append({'Players_Positions':multipose.positions,'Players_Skeletons':multipose.skeletons,'Court_Center': multipose.center}, ignore_index=True)\n"
     ]
    },
    {
     "name": "stdout",
     "output_type": "stream",
     "text": [
      "1/1 [==============================] - 0s 26ms/step\n"
     ]
    },
    {
     "name": "stderr",
     "output_type": "stream",
     "text": [
      "/home/JouiniAhmad/Desktop/douma/Badminton_Project/detect_actions.py:158: FutureWarning: The frame.append method is deprecated and will be removed from pandas in a future version. Use pandas.concat instead.\n",
      "  self.strokesA = self.strokesA.append({'Player_A':'___'}, ignore_index=True)\n",
      "/home/JouiniAhmad/Desktop/douma/Badminton_Project/detect_actions.py:164: FutureWarning: The frame.append method is deprecated and will be removed from pandas in a future version. Use pandas.concat instead.\n",
      "  self.strokesB = self.strokesB.append({'Player_B':'___'}, ignore_index=True)\n",
      "/tmp/ipykernel_108182/3855559223.py:45: FutureWarning: The frame.append method is deprecated and will be removed from pandas in a future version. Use pandas.concat instead.\n",
      "  inputs = inputs.append({'Players_Positions':multipose.positions,'Players_Skeletons':multipose.skeletons,'Court_Center': multipose.center}, ignore_index=True)\n"
     ]
    },
    {
     "name": "stdout",
     "output_type": "stream",
     "text": [
      "1/1 [==============================] - 0s 25ms/step\n",
      "1/1 [==============================] - 0s 29ms/step\n",
      "1/1 [==============================] - 0s 25ms/step\n"
     ]
    },
    {
     "name": "stderr",
     "output_type": "stream",
     "text": [
      "/home/JouiniAhmad/Desktop/douma/Badminton_Project/detect_actions.py:158: FutureWarning: The frame.append method is deprecated and will be removed from pandas in a future version. Use pandas.concat instead.\n",
      "  self.strokesA = self.strokesA.append({'Player_A':'___'}, ignore_index=True)\n",
      "/home/JouiniAhmad/Desktop/douma/Badminton_Project/detect_actions.py:164: FutureWarning: The frame.append method is deprecated and will be removed from pandas in a future version. Use pandas.concat instead.\n",
      "  self.strokesB = self.strokesB.append({'Player_B':'___'}, ignore_index=True)\n",
      "/tmp/ipykernel_108182/3855559223.py:45: FutureWarning: The frame.append method is deprecated and will be removed from pandas in a future version. Use pandas.concat instead.\n",
      "  inputs = inputs.append({'Players_Positions':multipose.positions,'Players_Skeletons':multipose.skeletons,'Court_Center': multipose.center}, ignore_index=True)\n"
     ]
    },
    {
     "name": "stdout",
     "output_type": "stream",
     "text": [
      "1/1 [==============================] - 0s 23ms/step\n",
      "1/1 [==============================] - 0s 24ms/step\n"
     ]
    },
    {
     "name": "stderr",
     "output_type": "stream",
     "text": [
      "/home/JouiniAhmad/Desktop/douma/Badminton_Project/detect_actions.py:158: FutureWarning: The frame.append method is deprecated and will be removed from pandas in a future version. Use pandas.concat instead.\n",
      "  self.strokesA = self.strokesA.append({'Player_A':'___'}, ignore_index=True)\n",
      "/home/JouiniAhmad/Desktop/douma/Badminton_Project/detect_actions.py:164: FutureWarning: The frame.append method is deprecated and will be removed from pandas in a future version. Use pandas.concat instead.\n",
      "  self.strokesB = self.strokesB.append({'Player_B':'___'}, ignore_index=True)\n",
      "/tmp/ipykernel_108182/3855559223.py:45: FutureWarning: The frame.append method is deprecated and will be removed from pandas in a future version. Use pandas.concat instead.\n",
      "  inputs = inputs.append({'Players_Positions':multipose.positions,'Players_Skeletons':multipose.skeletons,'Court_Center': multipose.center}, ignore_index=True)\n"
     ]
    },
    {
     "name": "stdout",
     "output_type": "stream",
     "text": [
      "1/1 [==============================] - 0s 27ms/step\n",
      "1/1 [==============================] - 0s 26ms/step\n"
     ]
    },
    {
     "name": "stderr",
     "output_type": "stream",
     "text": [
      "/home/JouiniAhmad/Desktop/douma/Badminton_Project/detect_actions.py:158: FutureWarning: The frame.append method is deprecated and will be removed from pandas in a future version. Use pandas.concat instead.\n",
      "  self.strokesA = self.strokesA.append({'Player_A':'___'}, ignore_index=True)\n",
      "/home/JouiniAhmad/Desktop/douma/Badminton_Project/detect_actions.py:164: FutureWarning: The frame.append method is deprecated and will be removed from pandas in a future version. Use pandas.concat instead.\n",
      "  self.strokesB = self.strokesB.append({'Player_B':'___'}, ignore_index=True)\n",
      "/tmp/ipykernel_108182/3855559223.py:45: FutureWarning: The frame.append method is deprecated and will be removed from pandas in a future version. Use pandas.concat instead.\n",
      "  inputs = inputs.append({'Players_Positions':multipose.positions,'Players_Skeletons':multipose.skeletons,'Court_Center': multipose.center}, ignore_index=True)\n"
     ]
    },
    {
     "name": "stdout",
     "output_type": "stream",
     "text": [
      "1/1 [==============================] - 0s 80ms/step\n"
     ]
    },
    {
     "name": "stderr",
     "output_type": "stream",
     "text": [
      "/home/JouiniAhmad/Desktop/douma/Badminton_Project/detect_actions.py:158: FutureWarning: The frame.append method is deprecated and will be removed from pandas in a future version. Use pandas.concat instead.\n",
      "  self.strokesA = self.strokesA.append({'Player_A':'___'}, ignore_index=True)\n",
      "/home/JouiniAhmad/Desktop/douma/Badminton_Project/detect_actions.py:164: FutureWarning: The frame.append method is deprecated and will be removed from pandas in a future version. Use pandas.concat instead.\n",
      "  self.strokesB = self.strokesB.append({'Player_B':'___'}, ignore_index=True)\n",
      "/tmp/ipykernel_108182/3855559223.py:45: FutureWarning: The frame.append method is deprecated and will be removed from pandas in a future version. Use pandas.concat instead.\n",
      "  inputs = inputs.append({'Players_Positions':multipose.positions,'Players_Skeletons':multipose.skeletons,'Court_Center': multipose.center}, ignore_index=True)\n"
     ]
    },
    {
     "name": "stdout",
     "output_type": "stream",
     "text": [
      "1/1 [==============================] - 0s 39ms/step\n",
      "1/1 [==============================] - 0s 25ms/step\n"
     ]
    },
    {
     "name": "stderr",
     "output_type": "stream",
     "text": [
      "/home/JouiniAhmad/Desktop/douma/Badminton_Project/detect_actions.py:158: FutureWarning: The frame.append method is deprecated and will be removed from pandas in a future version. Use pandas.concat instead.\n",
      "  self.strokesA = self.strokesA.append({'Player_A':'___'}, ignore_index=True)\n",
      "/home/JouiniAhmad/Desktop/douma/Badminton_Project/detect_actions.py:164: FutureWarning: The frame.append method is deprecated and will be removed from pandas in a future version. Use pandas.concat instead.\n",
      "  self.strokesB = self.strokesB.append({'Player_B':'___'}, ignore_index=True)\n",
      "/tmp/ipykernel_108182/3855559223.py:45: FutureWarning: The frame.append method is deprecated and will be removed from pandas in a future version. Use pandas.concat instead.\n",
      "  inputs = inputs.append({'Players_Positions':multipose.positions,'Players_Skeletons':multipose.skeletons,'Court_Center': multipose.center}, ignore_index=True)\n"
     ]
    },
    {
     "name": "stdout",
     "output_type": "stream",
     "text": [
      "1/1 [==============================] - 0s 27ms/step\n",
      "1/1 [==============================] - 0s 25ms/step\n"
     ]
    },
    {
     "name": "stderr",
     "output_type": "stream",
     "text": [
      "/home/JouiniAhmad/Desktop/douma/Badminton_Project/detect_actions.py:158: FutureWarning: The frame.append method is deprecated and will be removed from pandas in a future version. Use pandas.concat instead.\n",
      "  self.strokesA = self.strokesA.append({'Player_A':'___'}, ignore_index=True)\n",
      "/home/JouiniAhmad/Desktop/douma/Badminton_Project/detect_actions.py:164: FutureWarning: The frame.append method is deprecated and will be removed from pandas in a future version. Use pandas.concat instead.\n",
      "  self.strokesB = self.strokesB.append({'Player_B':'___'}, ignore_index=True)\n",
      "/tmp/ipykernel_108182/3855559223.py:45: FutureWarning: The frame.append method is deprecated and will be removed from pandas in a future version. Use pandas.concat instead.\n",
      "  inputs = inputs.append({'Players_Positions':multipose.positions,'Players_Skeletons':multipose.skeletons,'Court_Center': multipose.center}, ignore_index=True)\n"
     ]
    },
    {
     "name": "stdout",
     "output_type": "stream",
     "text": [
      "1/1 [==============================] - 0s 26ms/step\n",
      "1/1 [==============================] - 0s 24ms/step\n",
      "1/1 [==============================] - 0s 26ms/step\n"
     ]
    },
    {
     "name": "stderr",
     "output_type": "stream",
     "text": [
      "/home/JouiniAhmad/Desktop/douma/Badminton_Project/detect_actions.py:158: FutureWarning: The frame.append method is deprecated and will be removed from pandas in a future version. Use pandas.concat instead.\n",
      "  self.strokesA = self.strokesA.append({'Player_A':'___'}, ignore_index=True)\n",
      "/home/JouiniAhmad/Desktop/douma/Badminton_Project/detect_actions.py:164: FutureWarning: The frame.append method is deprecated and will be removed from pandas in a future version. Use pandas.concat instead.\n",
      "  self.strokesB = self.strokesB.append({'Player_B':'___'}, ignore_index=True)\n",
      "/tmp/ipykernel_108182/3855559223.py:45: FutureWarning: The frame.append method is deprecated and will be removed from pandas in a future version. Use pandas.concat instead.\n",
      "  inputs = inputs.append({'Players_Positions':multipose.positions,'Players_Skeletons':multipose.skeletons,'Court_Center': multipose.center}, ignore_index=True)\n"
     ]
    },
    {
     "name": "stdout",
     "output_type": "stream",
     "text": [
      "1/1 [==============================] - 0s 70ms/step\n",
      "1/1 [==============================] - 0s 25ms/step\n"
     ]
    },
    {
     "name": "stderr",
     "output_type": "stream",
     "text": [
      "/home/JouiniAhmad/Desktop/douma/Badminton_Project/detect_actions.py:158: FutureWarning: The frame.append method is deprecated and will be removed from pandas in a future version. Use pandas.concat instead.\n",
      "  self.strokesA = self.strokesA.append({'Player_A':'___'}, ignore_index=True)\n",
      "/home/JouiniAhmad/Desktop/douma/Badminton_Project/detect_actions.py:164: FutureWarning: The frame.append method is deprecated and will be removed from pandas in a future version. Use pandas.concat instead.\n",
      "  self.strokesB = self.strokesB.append({'Player_B':'___'}, ignore_index=True)\n",
      "/tmp/ipykernel_108182/3855559223.py:45: FutureWarning: The frame.append method is deprecated and will be removed from pandas in a future version. Use pandas.concat instead.\n",
      "  inputs = inputs.append({'Players_Positions':multipose.positions,'Players_Skeletons':multipose.skeletons,'Court_Center': multipose.center}, ignore_index=True)\n"
     ]
    },
    {
     "name": "stdout",
     "output_type": "stream",
     "text": [
      "1/1 [==============================] - 0s 23ms/step\n"
     ]
    },
    {
     "name": "stderr",
     "output_type": "stream",
     "text": [
      "/home/JouiniAhmad/Desktop/douma/Badminton_Project/detect_actions.py:158: FutureWarning: The frame.append method is deprecated and will be removed from pandas in a future version. Use pandas.concat instead.\n",
      "  self.strokesA = self.strokesA.append({'Player_A':'___'}, ignore_index=True)\n",
      "/home/JouiniAhmad/Desktop/douma/Badminton_Project/detect_actions.py:164: FutureWarning: The frame.append method is deprecated and will be removed from pandas in a future version. Use pandas.concat instead.\n",
      "  self.strokesB = self.strokesB.append({'Player_B':'___'}, ignore_index=True)\n",
      "/tmp/ipykernel_108182/3855559223.py:45: FutureWarning: The frame.append method is deprecated and will be removed from pandas in a future version. Use pandas.concat instead.\n",
      "  inputs = inputs.append({'Players_Positions':multipose.positions,'Players_Skeletons':multipose.skeletons,'Court_Center': multipose.center}, ignore_index=True)\n"
     ]
    },
    {
     "name": "stdout",
     "output_type": "stream",
     "text": [
      "1/1 [==============================] - 0s 23ms/step\n",
      "1/1 [==============================] - 0s 27ms/step\n",
      "1/1 [==============================] - 0s 25ms/step\n"
     ]
    },
    {
     "name": "stderr",
     "output_type": "stream",
     "text": [
      "/home/JouiniAhmad/Desktop/douma/Badminton_Project/detect_actions.py:158: FutureWarning: The frame.append method is deprecated and will be removed from pandas in a future version. Use pandas.concat instead.\n",
      "  self.strokesA = self.strokesA.append({'Player_A':'___'}, ignore_index=True)\n",
      "/home/JouiniAhmad/Desktop/douma/Badminton_Project/detect_actions.py:164: FutureWarning: The frame.append method is deprecated and will be removed from pandas in a future version. Use pandas.concat instead.\n",
      "  self.strokesB = self.strokesB.append({'Player_B':'___'}, ignore_index=True)\n",
      "/tmp/ipykernel_108182/3855559223.py:45: FutureWarning: The frame.append method is deprecated and will be removed from pandas in a future version. Use pandas.concat instead.\n",
      "  inputs = inputs.append({'Players_Positions':multipose.positions,'Players_Skeletons':multipose.skeletons,'Court_Center': multipose.center}, ignore_index=True)\n"
     ]
    },
    {
     "name": "stdout",
     "output_type": "stream",
     "text": [
      "1/1 [==============================] - 0s 26ms/step\n",
      "1/1 [==============================] - 0s 24ms/step\n"
     ]
    },
    {
     "name": "stderr",
     "output_type": "stream",
     "text": [
      "/home/JouiniAhmad/Desktop/douma/Badminton_Project/detect_actions.py:158: FutureWarning: The frame.append method is deprecated and will be removed from pandas in a future version. Use pandas.concat instead.\n",
      "  self.strokesA = self.strokesA.append({'Player_A':'___'}, ignore_index=True)\n",
      "/home/JouiniAhmad/Desktop/douma/Badminton_Project/detect_actions.py:164: FutureWarning: The frame.append method is deprecated and will be removed from pandas in a future version. Use pandas.concat instead.\n",
      "  self.strokesB = self.strokesB.append({'Player_B':'___'}, ignore_index=True)\n",
      "/tmp/ipykernel_108182/3855559223.py:45: FutureWarning: The frame.append method is deprecated and will be removed from pandas in a future version. Use pandas.concat instead.\n",
      "  inputs = inputs.append({'Players_Positions':multipose.positions,'Players_Skeletons':multipose.skeletons,'Court_Center': multipose.center}, ignore_index=True)\n"
     ]
    },
    {
     "name": "stdout",
     "output_type": "stream",
     "text": [
      "1/1 [==============================] - 0s 24ms/step\n",
      "1/1 [==============================] - 0s 23ms/step\n"
     ]
    },
    {
     "name": "stderr",
     "output_type": "stream",
     "text": [
      "/home/JouiniAhmad/Desktop/douma/Badminton_Project/detect_actions.py:158: FutureWarning: The frame.append method is deprecated and will be removed from pandas in a future version. Use pandas.concat instead.\n",
      "  self.strokesA = self.strokesA.append({'Player_A':'___'}, ignore_index=True)\n",
      "/home/JouiniAhmad/Desktop/douma/Badminton_Project/detect_actions.py:164: FutureWarning: The frame.append method is deprecated and will be removed from pandas in a future version. Use pandas.concat instead.\n",
      "  self.strokesB = self.strokesB.append({'Player_B':'___'}, ignore_index=True)\n",
      "/tmp/ipykernel_108182/3855559223.py:45: FutureWarning: The frame.append method is deprecated and will be removed from pandas in a future version. Use pandas.concat instead.\n",
      "  inputs = inputs.append({'Players_Positions':multipose.positions,'Players_Skeletons':multipose.skeletons,'Court_Center': multipose.center}, ignore_index=True)\n"
     ]
    },
    {
     "name": "stdout",
     "output_type": "stream",
     "text": [
      "1/1 [==============================] - 0s 22ms/step\n",
      "1/1 [==============================] - 0s 24ms/step\n"
     ]
    },
    {
     "name": "stderr",
     "output_type": "stream",
     "text": [
      "/home/JouiniAhmad/Desktop/douma/Badminton_Project/detect_actions.py:158: FutureWarning: The frame.append method is deprecated and will be removed from pandas in a future version. Use pandas.concat instead.\n",
      "  self.strokesA = self.strokesA.append({'Player_A':'___'}, ignore_index=True)\n",
      "/home/JouiniAhmad/Desktop/douma/Badminton_Project/detect_actions.py:164: FutureWarning: The frame.append method is deprecated and will be removed from pandas in a future version. Use pandas.concat instead.\n",
      "  self.strokesB = self.strokesB.append({'Player_B':'___'}, ignore_index=True)\n",
      "/tmp/ipykernel_108182/3855559223.py:45: FutureWarning: The frame.append method is deprecated and will be removed from pandas in a future version. Use pandas.concat instead.\n",
      "  inputs = inputs.append({'Players_Positions':multipose.positions,'Players_Skeletons':multipose.skeletons,'Court_Center': multipose.center}, ignore_index=True)\n"
     ]
    },
    {
     "name": "stdout",
     "output_type": "stream",
     "text": [
      "1/1 [==============================] - 0s 28ms/step\n",
      "1/1 [==============================] - 0s 24ms/step\n"
     ]
    },
    {
     "name": "stderr",
     "output_type": "stream",
     "text": [
      "/home/JouiniAhmad/Desktop/douma/Badminton_Project/detect_actions.py:158: FutureWarning: The frame.append method is deprecated and will be removed from pandas in a future version. Use pandas.concat instead.\n",
      "  self.strokesA = self.strokesA.append({'Player_A':'___'}, ignore_index=True)\n",
      "/home/JouiniAhmad/Desktop/douma/Badminton_Project/detect_actions.py:164: FutureWarning: The frame.append method is deprecated and will be removed from pandas in a future version. Use pandas.concat instead.\n",
      "  self.strokesB = self.strokesB.append({'Player_B':'___'}, ignore_index=True)\n",
      "/tmp/ipykernel_108182/3855559223.py:45: FutureWarning: The frame.append method is deprecated and will be removed from pandas in a future version. Use pandas.concat instead.\n",
      "  inputs = inputs.append({'Players_Positions':multipose.positions,'Players_Skeletons':multipose.skeletons,'Court_Center': multipose.center}, ignore_index=True)\n"
     ]
    },
    {
     "name": "stdout",
     "output_type": "stream",
     "text": [
      "1/1 [==============================] - 0s 22ms/step\n",
      "1/1 [==============================] - 0s 25ms/step\n"
     ]
    },
    {
     "name": "stderr",
     "output_type": "stream",
     "text": [
      "/home/JouiniAhmad/Desktop/douma/Badminton_Project/detect_actions.py:158: FutureWarning: The frame.append method is deprecated and will be removed from pandas in a future version. Use pandas.concat instead.\n",
      "  self.strokesA = self.strokesA.append({'Player_A':'___'}, ignore_index=True)\n",
      "/home/JouiniAhmad/Desktop/douma/Badminton_Project/detect_actions.py:164: FutureWarning: The frame.append method is deprecated and will be removed from pandas in a future version. Use pandas.concat instead.\n",
      "  self.strokesB = self.strokesB.append({'Player_B':'___'}, ignore_index=True)\n",
      "/tmp/ipykernel_108182/3855559223.py:45: FutureWarning: The frame.append method is deprecated and will be removed from pandas in a future version. Use pandas.concat instead.\n",
      "  inputs = inputs.append({'Players_Positions':multipose.positions,'Players_Skeletons':multipose.skeletons,'Court_Center': multipose.center}, ignore_index=True)\n"
     ]
    },
    {
     "name": "stdout",
     "output_type": "stream",
     "text": [
      "1/1 [==============================] - 0s 27ms/step\n",
      "1/1 [==============================] - 0s 25ms/step\n"
     ]
    },
    {
     "name": "stderr",
     "output_type": "stream",
     "text": [
      "/home/JouiniAhmad/Desktop/douma/Badminton_Project/detect_actions.py:158: FutureWarning: The frame.append method is deprecated and will be removed from pandas in a future version. Use pandas.concat instead.\n",
      "  self.strokesA = self.strokesA.append({'Player_A':'___'}, ignore_index=True)\n",
      "/home/JouiniAhmad/Desktop/douma/Badminton_Project/detect_actions.py:164: FutureWarning: The frame.append method is deprecated and will be removed from pandas in a future version. Use pandas.concat instead.\n",
      "  self.strokesB = self.strokesB.append({'Player_B':'___'}, ignore_index=True)\n",
      "/tmp/ipykernel_108182/3855559223.py:45: FutureWarning: The frame.append method is deprecated and will be removed from pandas in a future version. Use pandas.concat instead.\n",
      "  inputs = inputs.append({'Players_Positions':multipose.positions,'Players_Skeletons':multipose.skeletons,'Court_Center': multipose.center}, ignore_index=True)\n"
     ]
    },
    {
     "name": "stdout",
     "output_type": "stream",
     "text": [
      "1/1 [==============================] - 0s 26ms/step\n"
     ]
    },
    {
     "name": "stderr",
     "output_type": "stream",
     "text": [
      "/home/JouiniAhmad/Desktop/douma/Badminton_Project/detect_actions.py:158: FutureWarning: The frame.append method is deprecated and will be removed from pandas in a future version. Use pandas.concat instead.\n",
      "  self.strokesA = self.strokesA.append({'Player_A':'___'}, ignore_index=True)\n",
      "/home/JouiniAhmad/Desktop/douma/Badminton_Project/detect_actions.py:164: FutureWarning: The frame.append method is deprecated and will be removed from pandas in a future version. Use pandas.concat instead.\n",
      "  self.strokesB = self.strokesB.append({'Player_B':'___'}, ignore_index=True)\n",
      "/tmp/ipykernel_108182/3855559223.py:45: FutureWarning: The frame.append method is deprecated and will be removed from pandas in a future version. Use pandas.concat instead.\n",
      "  inputs = inputs.append({'Players_Positions':multipose.positions,'Players_Skeletons':multipose.skeletons,'Court_Center': multipose.center}, ignore_index=True)\n"
     ]
    },
    {
     "name": "stdout",
     "output_type": "stream",
     "text": [
      "1/1 [==============================] - 0s 24ms/step\n",
      "1/1 [==============================] - 0s 23ms/step\n",
      "1/1 [==============================] - 0s 25ms/step\n"
     ]
    },
    {
     "name": "stderr",
     "output_type": "stream",
     "text": [
      "/home/JouiniAhmad/Desktop/douma/Badminton_Project/detect_actions.py:158: FutureWarning: The frame.append method is deprecated and will be removed from pandas in a future version. Use pandas.concat instead.\n",
      "  self.strokesA = self.strokesA.append({'Player_A':'___'}, ignore_index=True)\n",
      "/home/JouiniAhmad/Desktop/douma/Badminton_Project/detect_actions.py:164: FutureWarning: The frame.append method is deprecated and will be removed from pandas in a future version. Use pandas.concat instead.\n",
      "  self.strokesB = self.strokesB.append({'Player_B':'___'}, ignore_index=True)\n",
      "/tmp/ipykernel_108182/3855559223.py:45: FutureWarning: The frame.append method is deprecated and will be removed from pandas in a future version. Use pandas.concat instead.\n",
      "  inputs = inputs.append({'Players_Positions':multipose.positions,'Players_Skeletons':multipose.skeletons,'Court_Center': multipose.center}, ignore_index=True)\n"
     ]
    },
    {
     "name": "stdout",
     "output_type": "stream",
     "text": [
      "1/1 [==============================] - 0s 23ms/step\n",
      "1/1 [==============================] - 0s 25ms/step\n"
     ]
    },
    {
     "name": "stderr",
     "output_type": "stream",
     "text": [
      "/home/JouiniAhmad/Desktop/douma/Badminton_Project/detect_actions.py:158: FutureWarning: The frame.append method is deprecated and will be removed from pandas in a future version. Use pandas.concat instead.\n",
      "  self.strokesA = self.strokesA.append({'Player_A':'___'}, ignore_index=True)\n",
      "/home/JouiniAhmad/Desktop/douma/Badminton_Project/detect_actions.py:164: FutureWarning: The frame.append method is deprecated and will be removed from pandas in a future version. Use pandas.concat instead.\n",
      "  self.strokesB = self.strokesB.append({'Player_B':'___'}, ignore_index=True)\n",
      "/tmp/ipykernel_108182/3855559223.py:45: FutureWarning: The frame.append method is deprecated and will be removed from pandas in a future version. Use pandas.concat instead.\n",
      "  inputs = inputs.append({'Players_Positions':multipose.positions,'Players_Skeletons':multipose.skeletons,'Court_Center': multipose.center}, ignore_index=True)\n"
     ]
    },
    {
     "name": "stdout",
     "output_type": "stream",
     "text": [
      "1/1 [==============================] - 0s 25ms/step\n"
     ]
    },
    {
     "name": "stderr",
     "output_type": "stream",
     "text": [
      "/home/JouiniAhmad/Desktop/douma/Badminton_Project/detect_actions.py:158: FutureWarning: The frame.append method is deprecated and will be removed from pandas in a future version. Use pandas.concat instead.\n",
      "  self.strokesA = self.strokesA.append({'Player_A':'___'}, ignore_index=True)\n",
      "/home/JouiniAhmad/Desktop/douma/Badminton_Project/detect_actions.py:164: FutureWarning: The frame.append method is deprecated and will be removed from pandas in a future version. Use pandas.concat instead.\n",
      "  self.strokesB = self.strokesB.append({'Player_B':'___'}, ignore_index=True)\n",
      "/tmp/ipykernel_108182/3855559223.py:45: FutureWarning: The frame.append method is deprecated and will be removed from pandas in a future version. Use pandas.concat instead.\n",
      "  inputs = inputs.append({'Players_Positions':multipose.positions,'Players_Skeletons':multipose.skeletons,'Court_Center': multipose.center}, ignore_index=True)\n"
     ]
    },
    {
     "name": "stdout",
     "output_type": "stream",
     "text": [
      "1/1 [==============================] - 0s 25ms/step\n",
      "1/1 [==============================] - 0s 25ms/step\n"
     ]
    },
    {
     "name": "stderr",
     "output_type": "stream",
     "text": [
      "/home/JouiniAhmad/Desktop/douma/Badminton_Project/detect_actions.py:158: FutureWarning: The frame.append method is deprecated and will be removed from pandas in a future version. Use pandas.concat instead.\n",
      "  self.strokesA = self.strokesA.append({'Player_A':'___'}, ignore_index=True)\n",
      "/home/JouiniAhmad/Desktop/douma/Badminton_Project/detect_actions.py:164: FutureWarning: The frame.append method is deprecated and will be removed from pandas in a future version. Use pandas.concat instead.\n",
      "  self.strokesB = self.strokesB.append({'Player_B':'___'}, ignore_index=True)\n",
      "/tmp/ipykernel_108182/3855559223.py:45: FutureWarning: The frame.append method is deprecated and will be removed from pandas in a future version. Use pandas.concat instead.\n",
      "  inputs = inputs.append({'Players_Positions':multipose.positions,'Players_Skeletons':multipose.skeletons,'Court_Center': multipose.center}, ignore_index=True)\n"
     ]
    },
    {
     "name": "stdout",
     "output_type": "stream",
     "text": [
      "1/1 [==============================] - 0s 25ms/step\n",
      "1/1 [==============================] - 0s 25ms/step\n"
     ]
    },
    {
     "name": "stderr",
     "output_type": "stream",
     "text": [
      "/home/JouiniAhmad/Desktop/douma/Badminton_Project/detect_actions.py:158: FutureWarning: The frame.append method is deprecated and will be removed from pandas in a future version. Use pandas.concat instead.\n",
      "  self.strokesA = self.strokesA.append({'Player_A':'___'}, ignore_index=True)\n",
      "/home/JouiniAhmad/Desktop/douma/Badminton_Project/detect_actions.py:164: FutureWarning: The frame.append method is deprecated and will be removed from pandas in a future version. Use pandas.concat instead.\n",
      "  self.strokesB = self.strokesB.append({'Player_B':'___'}, ignore_index=True)\n",
      "/tmp/ipykernel_108182/3855559223.py:45: FutureWarning: The frame.append method is deprecated and will be removed from pandas in a future version. Use pandas.concat instead.\n",
      "  inputs = inputs.append({'Players_Positions':multipose.positions,'Players_Skeletons':multipose.skeletons,'Court_Center': multipose.center}, ignore_index=True)\n"
     ]
    },
    {
     "name": "stdout",
     "output_type": "stream",
     "text": [
      "1/1 [==============================] - 0s 27ms/step\n",
      "1/1 [==============================] - 0s 23ms/step\n",
      "1/1 [==============================] - ETA: 0s"
     ]
    },
    {
     "name": "stderr",
     "output_type": "stream",
     "text": [
      "/home/JouiniAhmad/Desktop/douma/Badminton_Project/detect_actions.py:158: FutureWarning: The frame.append method is deprecated and will be removed from pandas in a future version. Use pandas.concat instead.\n",
      "  self.strokesA = self.strokesA.append({'Player_A':'___'}, ignore_index=True)\n",
      "/home/JouiniAhmad/Desktop/douma/Badminton_Project/detect_actions.py:164: FutureWarning: The frame.append method is deprecated and will be removed from pandas in a future version. Use pandas.concat instead.\n",
      "  self.strokesB = self.strokesB.append({'Player_B':'___'}, ignore_index=True)\n",
      "/tmp/ipykernel_108182/3855559223.py:45: FutureWarning: The frame.append method is deprecated and will be removed from pandas in a future version. Use pandas.concat instead.\n",
      "  inputs = inputs.append({'Players_Positions':multipose.positions,'Players_Skeletons':multipose.skeletons,'Court_Center': multipose.center}, ignore_index=True)\n"
     ]
    },
    {
     "name": "stdout",
     "output_type": "stream",
     "text": [
      "1/1 [==============================] - 0s 26ms/step\n",
      "1/1 [==============================] - 0s 27ms/step\n"
     ]
    },
    {
     "name": "stderr",
     "output_type": "stream",
     "text": [
      "/home/JouiniAhmad/Desktop/douma/Badminton_Project/detect_actions.py:158: FutureWarning: The frame.append method is deprecated and will be removed from pandas in a future version. Use pandas.concat instead.\n",
      "  self.strokesA = self.strokesA.append({'Player_A':'___'}, ignore_index=True)\n",
      "/home/JouiniAhmad/Desktop/douma/Badminton_Project/detect_actions.py:164: FutureWarning: The frame.append method is deprecated and will be removed from pandas in a future version. Use pandas.concat instead.\n",
      "  self.strokesB = self.strokesB.append({'Player_B':'___'}, ignore_index=True)\n",
      "/tmp/ipykernel_108182/3855559223.py:45: FutureWarning: The frame.append method is deprecated and will be removed from pandas in a future version. Use pandas.concat instead.\n",
      "  inputs = inputs.append({'Players_Positions':multipose.positions,'Players_Skeletons':multipose.skeletons,'Court_Center': multipose.center}, ignore_index=True)\n"
     ]
    },
    {
     "name": "stdout",
     "output_type": "stream",
     "text": [
      "1/1 [==============================] - 0s 26ms/step\n",
      "1/1 [==============================] - 0s 24ms/step\n",
      "1/1 [==============================] - 0s 25ms/step\n"
     ]
    },
    {
     "name": "stderr",
     "output_type": "stream",
     "text": [
      "/home/JouiniAhmad/Desktop/douma/Badminton_Project/detect_actions.py:158: FutureWarning: The frame.append method is deprecated and will be removed from pandas in a future version. Use pandas.concat instead.\n",
      "  self.strokesA = self.strokesA.append({'Player_A':'___'}, ignore_index=True)\n",
      "/home/JouiniAhmad/Desktop/douma/Badminton_Project/detect_actions.py:164: FutureWarning: The frame.append method is deprecated and will be removed from pandas in a future version. Use pandas.concat instead.\n",
      "  self.strokesB = self.strokesB.append({'Player_B':'___'}, ignore_index=True)\n",
      "/tmp/ipykernel_108182/3855559223.py:45: FutureWarning: The frame.append method is deprecated and will be removed from pandas in a future version. Use pandas.concat instead.\n",
      "  inputs = inputs.append({'Players_Positions':multipose.positions,'Players_Skeletons':multipose.skeletons,'Court_Center': multipose.center}, ignore_index=True)\n"
     ]
    },
    {
     "name": "stdout",
     "output_type": "stream",
     "text": [
      "1/1 [==============================] - 0s 23ms/step\n"
     ]
    },
    {
     "name": "stderr",
     "output_type": "stream",
     "text": [
      "/home/JouiniAhmad/Desktop/douma/Badminton_Project/detect_actions.py:158: FutureWarning: The frame.append method is deprecated and will be removed from pandas in a future version. Use pandas.concat instead.\n",
      "  self.strokesA = self.strokesA.append({'Player_A':'___'}, ignore_index=True)\n",
      "/home/JouiniAhmad/Desktop/douma/Badminton_Project/detect_actions.py:164: FutureWarning: The frame.append method is deprecated and will be removed from pandas in a future version. Use pandas.concat instead.\n",
      "  self.strokesB = self.strokesB.append({'Player_B':'___'}, ignore_index=True)\n",
      "/tmp/ipykernel_108182/3855559223.py:45: FutureWarning: The frame.append method is deprecated and will be removed from pandas in a future version. Use pandas.concat instead.\n",
      "  inputs = inputs.append({'Players_Positions':multipose.positions,'Players_Skeletons':multipose.skeletons,'Court_Center': multipose.center}, ignore_index=True)\n"
     ]
    },
    {
     "name": "stdout",
     "output_type": "stream",
     "text": [
      "1/1 [==============================] - 0s 24ms/step\n",
      "1/1 [==============================] - 0s 23ms/step\n",
      "1/1 [==============================] - 0s 26ms/step\n"
     ]
    },
    {
     "name": "stderr",
     "output_type": "stream",
     "text": [
      "/home/JouiniAhmad/Desktop/douma/Badminton_Project/detect_actions.py:158: FutureWarning: The frame.append method is deprecated and will be removed from pandas in a future version. Use pandas.concat instead.\n",
      "  self.strokesA = self.strokesA.append({'Player_A':'___'}, ignore_index=True)\n",
      "/home/JouiniAhmad/Desktop/douma/Badminton_Project/detect_actions.py:164: FutureWarning: The frame.append method is deprecated and will be removed from pandas in a future version. Use pandas.concat instead.\n",
      "  self.strokesB = self.strokesB.append({'Player_B':'___'}, ignore_index=True)\n",
      "/tmp/ipykernel_108182/3855559223.py:45: FutureWarning: The frame.append method is deprecated and will be removed from pandas in a future version. Use pandas.concat instead.\n",
      "  inputs = inputs.append({'Players_Positions':multipose.positions,'Players_Skeletons':multipose.skeletons,'Court_Center': multipose.center}, ignore_index=True)\n"
     ]
    },
    {
     "name": "stdout",
     "output_type": "stream",
     "text": [
      "1/1 [==============================] - 0s 25ms/step\n",
      "1/1 [==============================] - 0s 26ms/step\n"
     ]
    },
    {
     "name": "stderr",
     "output_type": "stream",
     "text": [
      "/home/JouiniAhmad/Desktop/douma/Badminton_Project/detect_actions.py:158: FutureWarning: The frame.append method is deprecated and will be removed from pandas in a future version. Use pandas.concat instead.\n",
      "  self.strokesA = self.strokesA.append({'Player_A':'___'}, ignore_index=True)\n",
      "/home/JouiniAhmad/Desktop/douma/Badminton_Project/detect_actions.py:164: FutureWarning: The frame.append method is deprecated and will be removed from pandas in a future version. Use pandas.concat instead.\n",
      "  self.strokesB = self.strokesB.append({'Player_B':'___'}, ignore_index=True)\n",
      "/tmp/ipykernel_108182/3855559223.py:45: FutureWarning: The frame.append method is deprecated and will be removed from pandas in a future version. Use pandas.concat instead.\n",
      "  inputs = inputs.append({'Players_Positions':multipose.positions,'Players_Skeletons':multipose.skeletons,'Court_Center': multipose.center}, ignore_index=True)\n"
     ]
    },
    {
     "name": "stdout",
     "output_type": "stream",
     "text": [
      "1/1 [==============================] - 0s 26ms/step\n",
      "1/1 [==============================] - 0s 23ms/step\n"
     ]
    },
    {
     "name": "stderr",
     "output_type": "stream",
     "text": [
      "/home/JouiniAhmad/Desktop/douma/Badminton_Project/detect_actions.py:158: FutureWarning: The frame.append method is deprecated and will be removed from pandas in a future version. Use pandas.concat instead.\n",
      "  self.strokesA = self.strokesA.append({'Player_A':'___'}, ignore_index=True)\n",
      "/home/JouiniAhmad/Desktop/douma/Badminton_Project/detect_actions.py:164: FutureWarning: The frame.append method is deprecated and will be removed from pandas in a future version. Use pandas.concat instead.\n",
      "  self.strokesB = self.strokesB.append({'Player_B':'___'}, ignore_index=True)\n",
      "/tmp/ipykernel_108182/3855559223.py:45: FutureWarning: The frame.append method is deprecated and will be removed from pandas in a future version. Use pandas.concat instead.\n",
      "  inputs = inputs.append({'Players_Positions':multipose.positions,'Players_Skeletons':multipose.skeletons,'Court_Center': multipose.center}, ignore_index=True)\n"
     ]
    },
    {
     "name": "stdout",
     "output_type": "stream",
     "text": [
      "1/1 [==============================] - 0s 24ms/step\n",
      "1/1 [==============================] - 0s 22ms/step\n"
     ]
    },
    {
     "name": "stderr",
     "output_type": "stream",
     "text": [
      "/home/JouiniAhmad/Desktop/douma/Badminton_Project/detect_actions.py:158: FutureWarning: The frame.append method is deprecated and will be removed from pandas in a future version. Use pandas.concat instead.\n",
      "  self.strokesA = self.strokesA.append({'Player_A':'___'}, ignore_index=True)\n",
      "/home/JouiniAhmad/Desktop/douma/Badminton_Project/detect_actions.py:164: FutureWarning: The frame.append method is deprecated and will be removed from pandas in a future version. Use pandas.concat instead.\n",
      "  self.strokesB = self.strokesB.append({'Player_B':'___'}, ignore_index=True)\n",
      "/tmp/ipykernel_108182/3855559223.py:45: FutureWarning: The frame.append method is deprecated and will be removed from pandas in a future version. Use pandas.concat instead.\n",
      "  inputs = inputs.append({'Players_Positions':multipose.positions,'Players_Skeletons':multipose.skeletons,'Court_Center': multipose.center}, ignore_index=True)\n"
     ]
    },
    {
     "name": "stdout",
     "output_type": "stream",
     "text": [
      "1/1 [==============================] - 0s 26ms/step\n",
      "1/1 [==============================] - 0s 24ms/step\n"
     ]
    },
    {
     "name": "stderr",
     "output_type": "stream",
     "text": [
      "/home/JouiniAhmad/Desktop/douma/Badminton_Project/detect_actions.py:158: FutureWarning: The frame.append method is deprecated and will be removed from pandas in a future version. Use pandas.concat instead.\n",
      "  self.strokesA = self.strokesA.append({'Player_A':'___'}, ignore_index=True)\n",
      "/home/JouiniAhmad/Desktop/douma/Badminton_Project/detect_actions.py:164: FutureWarning: The frame.append method is deprecated and will be removed from pandas in a future version. Use pandas.concat instead.\n",
      "  self.strokesB = self.strokesB.append({'Player_B':'___'}, ignore_index=True)\n",
      "/tmp/ipykernel_108182/3855559223.py:45: FutureWarning: The frame.append method is deprecated and will be removed from pandas in a future version. Use pandas.concat instead.\n",
      "  inputs = inputs.append({'Players_Positions':multipose.positions,'Players_Skeletons':multipose.skeletons,'Court_Center': multipose.center}, ignore_index=True)\n"
     ]
    },
    {
     "name": "stdout",
     "output_type": "stream",
     "text": [
      "1/1 [==============================] - 0s 24ms/step\n",
      "1/1 [==============================] - 0s 23ms/step\n"
     ]
    },
    {
     "name": "stderr",
     "output_type": "stream",
     "text": [
      "/home/JouiniAhmad/Desktop/douma/Badminton_Project/detect_actions.py:158: FutureWarning: The frame.append method is deprecated and will be removed from pandas in a future version. Use pandas.concat instead.\n",
      "  self.strokesA = self.strokesA.append({'Player_A':'___'}, ignore_index=True)\n",
      "/home/JouiniAhmad/Desktop/douma/Badminton_Project/detect_actions.py:164: FutureWarning: The frame.append method is deprecated and will be removed from pandas in a future version. Use pandas.concat instead.\n",
      "  self.strokesB = self.strokesB.append({'Player_B':'___'}, ignore_index=True)\n",
      "/tmp/ipykernel_108182/3855559223.py:45: FutureWarning: The frame.append method is deprecated and will be removed from pandas in a future version. Use pandas.concat instead.\n",
      "  inputs = inputs.append({'Players_Positions':multipose.positions,'Players_Skeletons':multipose.skeletons,'Court_Center': multipose.center}, ignore_index=True)\n"
     ]
    },
    {
     "name": "stdout",
     "output_type": "stream",
     "text": [
      "1/1 [==============================] - 0s 24ms/step\n",
      "1/1 [==============================] - 0s 24ms/step\n"
     ]
    },
    {
     "name": "stderr",
     "output_type": "stream",
     "text": [
      "/home/JouiniAhmad/Desktop/douma/Badminton_Project/detect_actions.py:158: FutureWarning: The frame.append method is deprecated and will be removed from pandas in a future version. Use pandas.concat instead.\n",
      "  self.strokesA = self.strokesA.append({'Player_A':'___'}, ignore_index=True)\n",
      "/home/JouiniAhmad/Desktop/douma/Badminton_Project/detect_actions.py:164: FutureWarning: The frame.append method is deprecated and will be removed from pandas in a future version. Use pandas.concat instead.\n",
      "  self.strokesB = self.strokesB.append({'Player_B':'___'}, ignore_index=True)\n",
      "/tmp/ipykernel_108182/3855559223.py:45: FutureWarning: The frame.append method is deprecated and will be removed from pandas in a future version. Use pandas.concat instead.\n",
      "  inputs = inputs.append({'Players_Positions':multipose.positions,'Players_Skeletons':multipose.skeletons,'Court_Center': multipose.center}, ignore_index=True)\n"
     ]
    },
    {
     "name": "stdout",
     "output_type": "stream",
     "text": [
      "1/1 [==============================] - 0s 23ms/step\n",
      "1/1 [==============================] - 0s 24ms/step\n"
     ]
    },
    {
     "name": "stderr",
     "output_type": "stream",
     "text": [
      "/home/JouiniAhmad/Desktop/douma/Badminton_Project/detect_actions.py:158: FutureWarning: The frame.append method is deprecated and will be removed from pandas in a future version. Use pandas.concat instead.\n",
      "  self.strokesA = self.strokesA.append({'Player_A':'___'}, ignore_index=True)\n",
      "/home/JouiniAhmad/Desktop/douma/Badminton_Project/detect_actions.py:164: FutureWarning: The frame.append method is deprecated and will be removed from pandas in a future version. Use pandas.concat instead.\n",
      "  self.strokesB = self.strokesB.append({'Player_B':'___'}, ignore_index=True)\n",
      "/tmp/ipykernel_108182/3855559223.py:45: FutureWarning: The frame.append method is deprecated and will be removed from pandas in a future version. Use pandas.concat instead.\n",
      "  inputs = inputs.append({'Players_Positions':multipose.positions,'Players_Skeletons':multipose.skeletons,'Court_Center': multipose.center}, ignore_index=True)\n"
     ]
    },
    {
     "name": "stdout",
     "output_type": "stream",
     "text": [
      "1/1 [==============================] - 0s 24ms/step\n",
      "1/1 [==============================] - 0s 25ms/step\n"
     ]
    },
    {
     "name": "stderr",
     "output_type": "stream",
     "text": [
      "/home/JouiniAhmad/Desktop/douma/Badminton_Project/detect_actions.py:158: FutureWarning: The frame.append method is deprecated and will be removed from pandas in a future version. Use pandas.concat instead.\n",
      "  self.strokesA = self.strokesA.append({'Player_A':'___'}, ignore_index=True)\n",
      "/home/JouiniAhmad/Desktop/douma/Badminton_Project/detect_actions.py:164: FutureWarning: The frame.append method is deprecated and will be removed from pandas in a future version. Use pandas.concat instead.\n",
      "  self.strokesB = self.strokesB.append({'Player_B':'___'}, ignore_index=True)\n",
      "/tmp/ipykernel_108182/3855559223.py:45: FutureWarning: The frame.append method is deprecated and will be removed from pandas in a future version. Use pandas.concat instead.\n",
      "  inputs = inputs.append({'Players_Positions':multipose.positions,'Players_Skeletons':multipose.skeletons,'Court_Center': multipose.center}, ignore_index=True)\n"
     ]
    },
    {
     "name": "stdout",
     "output_type": "stream",
     "text": [
      "1/1 [==============================] - 0s 22ms/step\n",
      "1/1 [==============================] - ETA: 0s"
     ]
    },
    {
     "name": "stderr",
     "output_type": "stream",
     "text": [
      "/home/JouiniAhmad/Desktop/douma/Badminton_Project/detect_actions.py:158: FutureWarning: The frame.append method is deprecated and will be removed from pandas in a future version. Use pandas.concat instead.\n",
      "  self.strokesA = self.strokesA.append({'Player_A':'___'}, ignore_index=True)\n",
      "/home/JouiniAhmad/Desktop/douma/Badminton_Project/detect_actions.py:164: FutureWarning: The frame.append method is deprecated and will be removed from pandas in a future version. Use pandas.concat instead.\n",
      "  self.strokesB = self.strokesB.append({'Player_B':'___'}, ignore_index=True)\n",
      "/tmp/ipykernel_108182/3855559223.py:45: FutureWarning: The frame.append method is deprecated and will be removed from pandas in a future version. Use pandas.concat instead.\n",
      "  inputs = inputs.append({'Players_Positions':multipose.positions,'Players_Skeletons':multipose.skeletons,'Court_Center': multipose.center}, ignore_index=True)\n"
     ]
    },
    {
     "name": "stdout",
     "output_type": "stream",
     "text": [
      "1/1 [==============================] - 0s 26ms/step\n",
      "1/1 [==============================] - 0s 82ms/step\n",
      "1/1 [==============================] - 0s 25ms/step\n"
     ]
    },
    {
     "name": "stderr",
     "output_type": "stream",
     "text": [
      "/home/JouiniAhmad/Desktop/douma/Badminton_Project/detect_actions.py:158: FutureWarning: The frame.append method is deprecated and will be removed from pandas in a future version. Use pandas.concat instead.\n",
      "  self.strokesA = self.strokesA.append({'Player_A':'___'}, ignore_index=True)\n",
      "/home/JouiniAhmad/Desktop/douma/Badminton_Project/detect_actions.py:164: FutureWarning: The frame.append method is deprecated and will be removed from pandas in a future version. Use pandas.concat instead.\n",
      "  self.strokesB = self.strokesB.append({'Player_B':'___'}, ignore_index=True)\n",
      "/tmp/ipykernel_108182/3855559223.py:45: FutureWarning: The frame.append method is deprecated and will be removed from pandas in a future version. Use pandas.concat instead.\n",
      "  inputs = inputs.append({'Players_Positions':multipose.positions,'Players_Skeletons':multipose.skeletons,'Court_Center': multipose.center}, ignore_index=True)\n"
     ]
    },
    {
     "name": "stdout",
     "output_type": "stream",
     "text": [
      "1/1 [==============================] - 0s 23ms/step\n",
      "1/1 [==============================] - 0s 26ms/step\n"
     ]
    },
    {
     "name": "stderr",
     "output_type": "stream",
     "text": [
      "/home/JouiniAhmad/Desktop/douma/Badminton_Project/detect_actions.py:158: FutureWarning: The frame.append method is deprecated and will be removed from pandas in a future version. Use pandas.concat instead.\n",
      "  self.strokesA = self.strokesA.append({'Player_A':'___'}, ignore_index=True)\n",
      "/home/JouiniAhmad/Desktop/douma/Badminton_Project/detect_actions.py:164: FutureWarning: The frame.append method is deprecated and will be removed from pandas in a future version. Use pandas.concat instead.\n",
      "  self.strokesB = self.strokesB.append({'Player_B':'___'}, ignore_index=True)\n",
      "/tmp/ipykernel_108182/3855559223.py:45: FutureWarning: The frame.append method is deprecated and will be removed from pandas in a future version. Use pandas.concat instead.\n",
      "  inputs = inputs.append({'Players_Positions':multipose.positions,'Players_Skeletons':multipose.skeletons,'Court_Center': multipose.center}, ignore_index=True)\n"
     ]
    },
    {
     "name": "stdout",
     "output_type": "stream",
     "text": [
      "1/1 [==============================] - 0s 23ms/step\n",
      "1/1 [==============================] - ETA: 0s"
     ]
    },
    {
     "name": "stderr",
     "output_type": "stream",
     "text": [
      "/home/JouiniAhmad/Desktop/douma/Badminton_Project/detect_actions.py:158: FutureWarning: The frame.append method is deprecated and will be removed from pandas in a future version. Use pandas.concat instead.\n",
      "  self.strokesA = self.strokesA.append({'Player_A':'___'}, ignore_index=True)\n",
      "/home/JouiniAhmad/Desktop/douma/Badminton_Project/detect_actions.py:164: FutureWarning: The frame.append method is deprecated and will be removed from pandas in a future version. Use pandas.concat instead.\n",
      "  self.strokesB = self.strokesB.append({'Player_B':'___'}, ignore_index=True)\n",
      "/tmp/ipykernel_108182/3855559223.py:45: FutureWarning: The frame.append method is deprecated and will be removed from pandas in a future version. Use pandas.concat instead.\n",
      "  inputs = inputs.append({'Players_Positions':multipose.positions,'Players_Skeletons':multipose.skeletons,'Court_Center': multipose.center}, ignore_index=True)\n"
     ]
    },
    {
     "name": "stdout",
     "output_type": "stream",
     "text": [
      "1/1 [==============================] - 0s 27ms/step\n",
      "1/1 [==============================] - 0s 34ms/step\n",
      "1/1 [==============================] - 0s 25ms/step\n"
     ]
    },
    {
     "name": "stderr",
     "output_type": "stream",
     "text": [
      "/home/JouiniAhmad/Desktop/douma/Badminton_Project/detect_actions.py:158: FutureWarning: The frame.append method is deprecated and will be removed from pandas in a future version. Use pandas.concat instead.\n",
      "  self.strokesA = self.strokesA.append({'Player_A':'___'}, ignore_index=True)\n",
      "/home/JouiniAhmad/Desktop/douma/Badminton_Project/detect_actions.py:164: FutureWarning: The frame.append method is deprecated and will be removed from pandas in a future version. Use pandas.concat instead.\n",
      "  self.strokesB = self.strokesB.append({'Player_B':'___'}, ignore_index=True)\n",
      "/tmp/ipykernel_108182/3855559223.py:45: FutureWarning: The frame.append method is deprecated and will be removed from pandas in a future version. Use pandas.concat instead.\n",
      "  inputs = inputs.append({'Players_Positions':multipose.positions,'Players_Skeletons':multipose.skeletons,'Court_Center': multipose.center}, ignore_index=True)\n"
     ]
    },
    {
     "name": "stdout",
     "output_type": "stream",
     "text": [
      "1/1 [==============================] - 0s 50ms/step\n",
      "1/1 [==============================] - 0s 24ms/step\n"
     ]
    },
    {
     "name": "stderr",
     "output_type": "stream",
     "text": [
      "/home/JouiniAhmad/Desktop/douma/Badminton_Project/detect_actions.py:158: FutureWarning: The frame.append method is deprecated and will be removed from pandas in a future version. Use pandas.concat instead.\n",
      "  self.strokesA = self.strokesA.append({'Player_A':'___'}, ignore_index=True)\n",
      "/home/JouiniAhmad/Desktop/douma/Badminton_Project/detect_actions.py:162: FutureWarning: The frame.append method is deprecated and will be removed from pandas in a future version. Use pandas.concat instead.\n",
      "  self.strokesB = self.strokesB.append({'Player_B':self.class_names[np.argmax(predictionB)]}, ignore_index=True)\n",
      "/tmp/ipykernel_108182/3855559223.py:45: FutureWarning: The frame.append method is deprecated and will be removed from pandas in a future version. Use pandas.concat instead.\n",
      "  inputs = inputs.append({'Players_Positions':multipose.positions,'Players_Skeletons':multipose.skeletons,'Court_Center': multipose.center}, ignore_index=True)\n"
     ]
    },
    {
     "name": "stdout",
     "output_type": "stream",
     "text": [
      "1/1 [==============================] - 0s 23ms/step\n",
      "1/1 [==============================] - 0s 25ms/step\n"
     ]
    },
    {
     "name": "stderr",
     "output_type": "stream",
     "text": [
      "/home/JouiniAhmad/Desktop/douma/Badminton_Project/detect_actions.py:158: FutureWarning: The frame.append method is deprecated and will be removed from pandas in a future version. Use pandas.concat instead.\n",
      "  self.strokesA = self.strokesA.append({'Player_A':'___'}, ignore_index=True)\n",
      "/home/JouiniAhmad/Desktop/douma/Badminton_Project/detect_actions.py:162: FutureWarning: The frame.append method is deprecated and will be removed from pandas in a future version. Use pandas.concat instead.\n",
      "  self.strokesB = self.strokesB.append({'Player_B':self.class_names[np.argmax(predictionB)]}, ignore_index=True)\n",
      "/tmp/ipykernel_108182/3855559223.py:45: FutureWarning: The frame.append method is deprecated and will be removed from pandas in a future version. Use pandas.concat instead.\n",
      "  inputs = inputs.append({'Players_Positions':multipose.positions,'Players_Skeletons':multipose.skeletons,'Court_Center': multipose.center}, ignore_index=True)\n"
     ]
    },
    {
     "name": "stdout",
     "output_type": "stream",
     "text": [
      "1/1 [==============================] - 0s 25ms/step\n"
     ]
    },
    {
     "name": "stderr",
     "output_type": "stream",
     "text": [
      "/home/JouiniAhmad/Desktop/douma/Badminton_Project/detect_actions.py:158: FutureWarning: The frame.append method is deprecated and will be removed from pandas in a future version. Use pandas.concat instead.\n",
      "  self.strokesA = self.strokesA.append({'Player_A':'___'}, ignore_index=True)\n",
      "/home/JouiniAhmad/Desktop/douma/Badminton_Project/detect_actions.py:162: FutureWarning: The frame.append method is deprecated and will be removed from pandas in a future version. Use pandas.concat instead.\n",
      "  self.strokesB = self.strokesB.append({'Player_B':self.class_names[np.argmax(predictionB)]}, ignore_index=True)\n",
      "/tmp/ipykernel_108182/3855559223.py:45: FutureWarning: The frame.append method is deprecated and will be removed from pandas in a future version. Use pandas.concat instead.\n",
      "  inputs = inputs.append({'Players_Positions':multipose.positions,'Players_Skeletons':multipose.skeletons,'Court_Center': multipose.center}, ignore_index=True)\n"
     ]
    },
    {
     "name": "stdout",
     "output_type": "stream",
     "text": [
      "1/1 [==============================] - 0s 29ms/step\n",
      "1/1 [==============================] - 0s 26ms/step\n"
     ]
    },
    {
     "name": "stderr",
     "output_type": "stream",
     "text": [
      "/home/JouiniAhmad/Desktop/douma/Badminton_Project/detect_actions.py:158: FutureWarning: The frame.append method is deprecated and will be removed from pandas in a future version. Use pandas.concat instead.\n",
      "  self.strokesA = self.strokesA.append({'Player_A':'___'}, ignore_index=True)\n",
      "/home/JouiniAhmad/Desktop/douma/Badminton_Project/detect_actions.py:162: FutureWarning: The frame.append method is deprecated and will be removed from pandas in a future version. Use pandas.concat instead.\n",
      "  self.strokesB = self.strokesB.append({'Player_B':self.class_names[np.argmax(predictionB)]}, ignore_index=True)\n",
      "/tmp/ipykernel_108182/3855559223.py:45: FutureWarning: The frame.append method is deprecated and will be removed from pandas in a future version. Use pandas.concat instead.\n",
      "  inputs = inputs.append({'Players_Positions':multipose.positions,'Players_Skeletons':multipose.skeletons,'Court_Center': multipose.center}, ignore_index=True)\n"
     ]
    },
    {
     "name": "stdout",
     "output_type": "stream",
     "text": [
      "1/1 [==============================] - 0s 52ms/step\n",
      "1/1 [==============================] - 0s 27ms/step\n",
      "1/1 [==============================] - ETA: 0s"
     ]
    },
    {
     "name": "stderr",
     "output_type": "stream",
     "text": [
      "/home/JouiniAhmad/Desktop/douma/Badminton_Project/detect_actions.py:158: FutureWarning: The frame.append method is deprecated and will be removed from pandas in a future version. Use pandas.concat instead.\n",
      "  self.strokesA = self.strokesA.append({'Player_A':'___'}, ignore_index=True)\n",
      "/home/JouiniAhmad/Desktop/douma/Badminton_Project/detect_actions.py:162: FutureWarning: The frame.append method is deprecated and will be removed from pandas in a future version. Use pandas.concat instead.\n",
      "  self.strokesB = self.strokesB.append({'Player_B':self.class_names[np.argmax(predictionB)]}, ignore_index=True)\n",
      "/tmp/ipykernel_108182/3855559223.py:45: FutureWarning: The frame.append method is deprecated and will be removed from pandas in a future version. Use pandas.concat instead.\n",
      "  inputs = inputs.append({'Players_Positions':multipose.positions,'Players_Skeletons':multipose.skeletons,'Court_Center': multipose.center}, ignore_index=True)\n"
     ]
    },
    {
     "name": "stdout",
     "output_type": "stream",
     "text": [
      "1/1 [==============================] - 0s 31ms/step\n",
      "1/1 [==============================] - 0s 25ms/step\n",
      "1/1 [==============================] - 0s 25ms/step\n"
     ]
    },
    {
     "name": "stderr",
     "output_type": "stream",
     "text": [
      "/home/JouiniAhmad/Desktop/douma/Badminton_Project/detect_actions.py:158: FutureWarning: The frame.append method is deprecated and will be removed from pandas in a future version. Use pandas.concat instead.\n",
      "  self.strokesA = self.strokesA.append({'Player_A':'___'}, ignore_index=True)\n",
      "/home/JouiniAhmad/Desktop/douma/Badminton_Project/detect_actions.py:162: FutureWarning: The frame.append method is deprecated and will be removed from pandas in a future version. Use pandas.concat instead.\n",
      "  self.strokesB = self.strokesB.append({'Player_B':self.class_names[np.argmax(predictionB)]}, ignore_index=True)\n",
      "/tmp/ipykernel_108182/3855559223.py:45: FutureWarning: The frame.append method is deprecated and will be removed from pandas in a future version. Use pandas.concat instead.\n",
      "  inputs = inputs.append({'Players_Positions':multipose.positions,'Players_Skeletons':multipose.skeletons,'Court_Center': multipose.center}, ignore_index=True)\n"
     ]
    },
    {
     "name": "stdout",
     "output_type": "stream",
     "text": [
      "1/1 [==============================] - 0s 24ms/step\n"
     ]
    },
    {
     "name": "stderr",
     "output_type": "stream",
     "text": [
      "/home/JouiniAhmad/Desktop/douma/Badminton_Project/detect_actions.py:158: FutureWarning: The frame.append method is deprecated and will be removed from pandas in a future version. Use pandas.concat instead.\n",
      "  self.strokesA = self.strokesA.append({'Player_A':'___'}, ignore_index=True)\n",
      "/home/JouiniAhmad/Desktop/douma/Badminton_Project/detect_actions.py:162: FutureWarning: The frame.append method is deprecated and will be removed from pandas in a future version. Use pandas.concat instead.\n",
      "  self.strokesB = self.strokesB.append({'Player_B':self.class_names[np.argmax(predictionB)]}, ignore_index=True)\n",
      "/tmp/ipykernel_108182/3855559223.py:45: FutureWarning: The frame.append method is deprecated and will be removed from pandas in a future version. Use pandas.concat instead.\n",
      "  inputs = inputs.append({'Players_Positions':multipose.positions,'Players_Skeletons':multipose.skeletons,'Court_Center': multipose.center}, ignore_index=True)\n"
     ]
    },
    {
     "name": "stdout",
     "output_type": "stream",
     "text": [
      "1/1 [==============================] - 0s 23ms/step\n",
      "1/1 [==============================] - 0s 25ms/step\n",
      "1/1 [==============================] - 0s 25ms/step\n"
     ]
    },
    {
     "name": "stderr",
     "output_type": "stream",
     "text": [
      "/home/JouiniAhmad/Desktop/douma/Badminton_Project/detect_actions.py:158: FutureWarning: The frame.append method is deprecated and will be removed from pandas in a future version. Use pandas.concat instead.\n",
      "  self.strokesA = self.strokesA.append({'Player_A':'___'}, ignore_index=True)\n",
      "/home/JouiniAhmad/Desktop/douma/Badminton_Project/detect_actions.py:162: FutureWarning: The frame.append method is deprecated and will be removed from pandas in a future version. Use pandas.concat instead.\n",
      "  self.strokesB = self.strokesB.append({'Player_B':self.class_names[np.argmax(predictionB)]}, ignore_index=True)\n",
      "/tmp/ipykernel_108182/3855559223.py:45: FutureWarning: The frame.append method is deprecated and will be removed from pandas in a future version. Use pandas.concat instead.\n",
      "  inputs = inputs.append({'Players_Positions':multipose.positions,'Players_Skeletons':multipose.skeletons,'Court_Center': multipose.center}, ignore_index=True)\n"
     ]
    },
    {
     "name": "stdout",
     "output_type": "stream",
     "text": [
      "1/1 [==============================] - 0s 24ms/step\n"
     ]
    },
    {
     "name": "stderr",
     "output_type": "stream",
     "text": [
      "/home/JouiniAhmad/Desktop/douma/Badminton_Project/detect_actions.py:158: FutureWarning: The frame.append method is deprecated and will be removed from pandas in a future version. Use pandas.concat instead.\n",
      "  self.strokesA = self.strokesA.append({'Player_A':'___'}, ignore_index=True)\n",
      "/home/JouiniAhmad/Desktop/douma/Badminton_Project/detect_actions.py:164: FutureWarning: The frame.append method is deprecated and will be removed from pandas in a future version. Use pandas.concat instead.\n",
      "  self.strokesB = self.strokesB.append({'Player_B':'___'}, ignore_index=True)\n",
      "/tmp/ipykernel_108182/3855559223.py:45: FutureWarning: The frame.append method is deprecated and will be removed from pandas in a future version. Use pandas.concat instead.\n",
      "  inputs = inputs.append({'Players_Positions':multipose.positions,'Players_Skeletons':multipose.skeletons,'Court_Center': multipose.center}, ignore_index=True)\n"
     ]
    },
    {
     "name": "stdout",
     "output_type": "stream",
     "text": [
      "1/1 [==============================] - 0s 25ms/step\n",
      "1/1 [==============================] - 0s 24ms/step\n"
     ]
    },
    {
     "name": "stderr",
     "output_type": "stream",
     "text": [
      "/home/JouiniAhmad/Desktop/douma/Badminton_Project/detect_actions.py:158: FutureWarning: The frame.append method is deprecated and will be removed from pandas in a future version. Use pandas.concat instead.\n",
      "  self.strokesA = self.strokesA.append({'Player_A':'___'}, ignore_index=True)\n",
      "/home/JouiniAhmad/Desktop/douma/Badminton_Project/detect_actions.py:164: FutureWarning: The frame.append method is deprecated and will be removed from pandas in a future version. Use pandas.concat instead.\n",
      "  self.strokesB = self.strokesB.append({'Player_B':'___'}, ignore_index=True)\n",
      "/tmp/ipykernel_108182/3855559223.py:45: FutureWarning: The frame.append method is deprecated and will be removed from pandas in a future version. Use pandas.concat instead.\n",
      "  inputs = inputs.append({'Players_Positions':multipose.positions,'Players_Skeletons':multipose.skeletons,'Court_Center': multipose.center}, ignore_index=True)\n"
     ]
    },
    {
     "name": "stdout",
     "output_type": "stream",
     "text": [
      "1/1 [==============================] - 0s 27ms/step\n",
      "1/1 [==============================] - 0s 26ms/step\n",
      "1/1 [==============================] - 0s 25ms/step\n"
     ]
    },
    {
     "name": "stderr",
     "output_type": "stream",
     "text": [
      "/home/JouiniAhmad/Desktop/douma/Badminton_Project/detect_actions.py:158: FutureWarning: The frame.append method is deprecated and will be removed from pandas in a future version. Use pandas.concat instead.\n",
      "  self.strokesA = self.strokesA.append({'Player_A':'___'}, ignore_index=True)\n",
      "/home/JouiniAhmad/Desktop/douma/Badminton_Project/detect_actions.py:164: FutureWarning: The frame.append method is deprecated and will be removed from pandas in a future version. Use pandas.concat instead.\n",
      "  self.strokesB = self.strokesB.append({'Player_B':'___'}, ignore_index=True)\n",
      "/tmp/ipykernel_108182/3855559223.py:45: FutureWarning: The frame.append method is deprecated and will be removed from pandas in a future version. Use pandas.concat instead.\n",
      "  inputs = inputs.append({'Players_Positions':multipose.positions,'Players_Skeletons':multipose.skeletons,'Court_Center': multipose.center}, ignore_index=True)\n"
     ]
    },
    {
     "name": "stdout",
     "output_type": "stream",
     "text": [
      "1/1 [==============================] - 0s 22ms/step\n",
      "1/1 [==============================] - 0s 26ms/step\n"
     ]
    },
    {
     "name": "stderr",
     "output_type": "stream",
     "text": [
      "/home/JouiniAhmad/Desktop/douma/Badminton_Project/detect_actions.py:158: FutureWarning: The frame.append method is deprecated and will be removed from pandas in a future version. Use pandas.concat instead.\n",
      "  self.strokesA = self.strokesA.append({'Player_A':'___'}, ignore_index=True)\n",
      "/home/JouiniAhmad/Desktop/douma/Badminton_Project/detect_actions.py:164: FutureWarning: The frame.append method is deprecated and will be removed from pandas in a future version. Use pandas.concat instead.\n",
      "  self.strokesB = self.strokesB.append({'Player_B':'___'}, ignore_index=True)\n",
      "/tmp/ipykernel_108182/3855559223.py:45: FutureWarning: The frame.append method is deprecated and will be removed from pandas in a future version. Use pandas.concat instead.\n",
      "  inputs = inputs.append({'Players_Positions':multipose.positions,'Players_Skeletons':multipose.skeletons,'Court_Center': multipose.center}, ignore_index=True)\n"
     ]
    },
    {
     "name": "stdout",
     "output_type": "stream",
     "text": [
      "1/1 [==============================] - 0s 28ms/step\n",
      "1/1 [==============================] - 0s 24ms/step\n"
     ]
    },
    {
     "name": "stderr",
     "output_type": "stream",
     "text": [
      "/home/JouiniAhmad/Desktop/douma/Badminton_Project/detect_actions.py:158: FutureWarning: The frame.append method is deprecated and will be removed from pandas in a future version. Use pandas.concat instead.\n",
      "  self.strokesA = self.strokesA.append({'Player_A':'___'}, ignore_index=True)\n",
      "/home/JouiniAhmad/Desktop/douma/Badminton_Project/detect_actions.py:164: FutureWarning: The frame.append method is deprecated and will be removed from pandas in a future version. Use pandas.concat instead.\n",
      "  self.strokesB = self.strokesB.append({'Player_B':'___'}, ignore_index=True)\n",
      "/tmp/ipykernel_108182/3855559223.py:45: FutureWarning: The frame.append method is deprecated and will be removed from pandas in a future version. Use pandas.concat instead.\n",
      "  inputs = inputs.append({'Players_Positions':multipose.positions,'Players_Skeletons':multipose.skeletons,'Court_Center': multipose.center}, ignore_index=True)\n"
     ]
    },
    {
     "name": "stdout",
     "output_type": "stream",
     "text": [
      "1/1 [==============================] - 0s 26ms/step\n",
      "1/1 [==============================] - 0s 25ms/step\n"
     ]
    },
    {
     "name": "stderr",
     "output_type": "stream",
     "text": [
      "/home/JouiniAhmad/Desktop/douma/Badminton_Project/detect_actions.py:158: FutureWarning: The frame.append method is deprecated and will be removed from pandas in a future version. Use pandas.concat instead.\n",
      "  self.strokesA = self.strokesA.append({'Player_A':'___'}, ignore_index=True)\n",
      "/home/JouiniAhmad/Desktop/douma/Badminton_Project/detect_actions.py:164: FutureWarning: The frame.append method is deprecated and will be removed from pandas in a future version. Use pandas.concat instead.\n",
      "  self.strokesB = self.strokesB.append({'Player_B':'___'}, ignore_index=True)\n",
      "/tmp/ipykernel_108182/3855559223.py:45: FutureWarning: The frame.append method is deprecated and will be removed from pandas in a future version. Use pandas.concat instead.\n",
      "  inputs = inputs.append({'Players_Positions':multipose.positions,'Players_Skeletons':multipose.skeletons,'Court_Center': multipose.center}, ignore_index=True)\n"
     ]
    },
    {
     "name": "stdout",
     "output_type": "stream",
     "text": [
      "1/1 [==============================] - 0s 25ms/step\n",
      "1/1 [==============================] - 0s 25ms/step\n"
     ]
    },
    {
     "name": "stderr",
     "output_type": "stream",
     "text": [
      "/home/JouiniAhmad/Desktop/douma/Badminton_Project/detect_actions.py:158: FutureWarning: The frame.append method is deprecated and will be removed from pandas in a future version. Use pandas.concat instead.\n",
      "  self.strokesA = self.strokesA.append({'Player_A':'___'}, ignore_index=True)\n",
      "/home/JouiniAhmad/Desktop/douma/Badminton_Project/detect_actions.py:164: FutureWarning: The frame.append method is deprecated and will be removed from pandas in a future version. Use pandas.concat instead.\n",
      "  self.strokesB = self.strokesB.append({'Player_B':'___'}, ignore_index=True)\n",
      "/tmp/ipykernel_108182/3855559223.py:45: FutureWarning: The frame.append method is deprecated and will be removed from pandas in a future version. Use pandas.concat instead.\n",
      "  inputs = inputs.append({'Players_Positions':multipose.positions,'Players_Skeletons':multipose.skeletons,'Court_Center': multipose.center}, ignore_index=True)\n"
     ]
    },
    {
     "name": "stdout",
     "output_type": "stream",
     "text": [
      "1/1 [==============================] - 0s 26ms/step\n"
     ]
    },
    {
     "name": "stderr",
     "output_type": "stream",
     "text": [
      "/home/JouiniAhmad/Desktop/douma/Badminton_Project/detect_actions.py:158: FutureWarning: The frame.append method is deprecated and will be removed from pandas in a future version. Use pandas.concat instead.\n",
      "  self.strokesA = self.strokesA.append({'Player_A':'___'}, ignore_index=True)\n",
      "/home/JouiniAhmad/Desktop/douma/Badminton_Project/detect_actions.py:164: FutureWarning: The frame.append method is deprecated and will be removed from pandas in a future version. Use pandas.concat instead.\n",
      "  self.strokesB = self.strokesB.append({'Player_B':'___'}, ignore_index=True)\n",
      "/tmp/ipykernel_108182/3855559223.py:45: FutureWarning: The frame.append method is deprecated and will be removed from pandas in a future version. Use pandas.concat instead.\n",
      "  inputs = inputs.append({'Players_Positions':multipose.positions,'Players_Skeletons':multipose.skeletons,'Court_Center': multipose.center}, ignore_index=True)\n"
     ]
    },
    {
     "name": "stdout",
     "output_type": "stream",
     "text": [
      "1/1 [==============================] - 0s 32ms/step\n",
      "1/1 [==============================] - 0s 27ms/step\n",
      "1/1 [==============================] - ETA: 0s"
     ]
    },
    {
     "name": "stderr",
     "output_type": "stream",
     "text": [
      "/home/JouiniAhmad/Desktop/douma/Badminton_Project/detect_actions.py:158: FutureWarning: The frame.append method is deprecated and will be removed from pandas in a future version. Use pandas.concat instead.\n",
      "  self.strokesA = self.strokesA.append({'Player_A':'___'}, ignore_index=True)\n",
      "/home/JouiniAhmad/Desktop/douma/Badminton_Project/detect_actions.py:164: FutureWarning: The frame.append method is deprecated and will be removed from pandas in a future version. Use pandas.concat instead.\n",
      "  self.strokesB = self.strokesB.append({'Player_B':'___'}, ignore_index=True)\n",
      "/tmp/ipykernel_108182/3855559223.py:45: FutureWarning: The frame.append method is deprecated and will be removed from pandas in a future version. Use pandas.concat instead.\n",
      "  inputs = inputs.append({'Players_Positions':multipose.positions,'Players_Skeletons':multipose.skeletons,'Court_Center': multipose.center}, ignore_index=True)\n"
     ]
    },
    {
     "name": "stdout",
     "output_type": "stream",
     "text": [
      "1/1 [==============================] - 0s 29ms/step\n",
      "1/1 [==============================] - 0s 26ms/step\n",
      "1/1 [==============================] - 0s 26ms/step\n"
     ]
    },
    {
     "name": "stderr",
     "output_type": "stream",
     "text": [
      "/home/JouiniAhmad/Desktop/douma/Badminton_Project/detect_actions.py:158: FutureWarning: The frame.append method is deprecated and will be removed from pandas in a future version. Use pandas.concat instead.\n",
      "  self.strokesA = self.strokesA.append({'Player_A':'___'}, ignore_index=True)\n",
      "/home/JouiniAhmad/Desktop/douma/Badminton_Project/detect_actions.py:164: FutureWarning: The frame.append method is deprecated and will be removed from pandas in a future version. Use pandas.concat instead.\n",
      "  self.strokesB = self.strokesB.append({'Player_B':'___'}, ignore_index=True)\n",
      "/tmp/ipykernel_108182/3855559223.py:45: FutureWarning: The frame.append method is deprecated and will be removed from pandas in a future version. Use pandas.concat instead.\n",
      "  inputs = inputs.append({'Players_Positions':multipose.positions,'Players_Skeletons':multipose.skeletons,'Court_Center': multipose.center}, ignore_index=True)\n"
     ]
    },
    {
     "name": "stdout",
     "output_type": "stream",
     "text": [
      "1/1 [==============================] - 0s 26ms/step\n",
      "1/1 [==============================] - 0s 25ms/step\n"
     ]
    },
    {
     "name": "stderr",
     "output_type": "stream",
     "text": [
      "/home/JouiniAhmad/Desktop/douma/Badminton_Project/detect_actions.py:158: FutureWarning: The frame.append method is deprecated and will be removed from pandas in a future version. Use pandas.concat instead.\n",
      "  self.strokesA = self.strokesA.append({'Player_A':'___'}, ignore_index=True)\n",
      "/home/JouiniAhmad/Desktop/douma/Badminton_Project/detect_actions.py:164: FutureWarning: The frame.append method is deprecated and will be removed from pandas in a future version. Use pandas.concat instead.\n",
      "  self.strokesB = self.strokesB.append({'Player_B':'___'}, ignore_index=True)\n",
      "/tmp/ipykernel_108182/3855559223.py:45: FutureWarning: The frame.append method is deprecated and will be removed from pandas in a future version. Use pandas.concat instead.\n",
      "  inputs = inputs.append({'Players_Positions':multipose.positions,'Players_Skeletons':multipose.skeletons,'Court_Center': multipose.center}, ignore_index=True)\n"
     ]
    },
    {
     "name": "stdout",
     "output_type": "stream",
     "text": [
      "1/1 [==============================] - 0s 25ms/step\n"
     ]
    },
    {
     "name": "stderr",
     "output_type": "stream",
     "text": [
      "/home/JouiniAhmad/Desktop/douma/Badminton_Project/detect_actions.py:158: FutureWarning: The frame.append method is deprecated and will be removed from pandas in a future version. Use pandas.concat instead.\n",
      "  self.strokesA = self.strokesA.append({'Player_A':'___'}, ignore_index=True)\n",
      "/home/JouiniAhmad/Desktop/douma/Badminton_Project/detect_actions.py:164: FutureWarning: The frame.append method is deprecated and will be removed from pandas in a future version. Use pandas.concat instead.\n",
      "  self.strokesB = self.strokesB.append({'Player_B':'___'}, ignore_index=True)\n",
      "/tmp/ipykernel_108182/3855559223.py:45: FutureWarning: The frame.append method is deprecated and will be removed from pandas in a future version. Use pandas.concat instead.\n",
      "  inputs = inputs.append({'Players_Positions':multipose.positions,'Players_Skeletons':multipose.skeletons,'Court_Center': multipose.center}, ignore_index=True)\n"
     ]
    },
    {
     "name": "stdout",
     "output_type": "stream",
     "text": [
      "1/1 [==============================] - 0s 25ms/step\n",
      "1/1 [==============================] - 0s 24ms/step\n"
     ]
    },
    {
     "name": "stderr",
     "output_type": "stream",
     "text": [
      "/home/JouiniAhmad/Desktop/douma/Badminton_Project/detect_actions.py:158: FutureWarning: The frame.append method is deprecated and will be removed from pandas in a future version. Use pandas.concat instead.\n",
      "  self.strokesA = self.strokesA.append({'Player_A':'___'}, ignore_index=True)\n",
      "/home/JouiniAhmad/Desktop/douma/Badminton_Project/detect_actions.py:164: FutureWarning: The frame.append method is deprecated and will be removed from pandas in a future version. Use pandas.concat instead.\n",
      "  self.strokesB = self.strokesB.append({'Player_B':'___'}, ignore_index=True)\n",
      "/tmp/ipykernel_108182/3855559223.py:45: FutureWarning: The frame.append method is deprecated and will be removed from pandas in a future version. Use pandas.concat instead.\n",
      "  inputs = inputs.append({'Players_Positions':multipose.positions,'Players_Skeletons':multipose.skeletons,'Court_Center': multipose.center}, ignore_index=True)\n"
     ]
    },
    {
     "name": "stdout",
     "output_type": "stream",
     "text": [
      "1/1 [==============================] - 0s 27ms/step\n",
      "1/1 [==============================] - 0s 22ms/step\n",
      "1/1 [==============================] - 0s 25ms/step\n"
     ]
    },
    {
     "name": "stderr",
     "output_type": "stream",
     "text": [
      "/home/JouiniAhmad/Desktop/douma/Badminton_Project/detect_actions.py:158: FutureWarning: The frame.append method is deprecated and will be removed from pandas in a future version. Use pandas.concat instead.\n",
      "  self.strokesA = self.strokesA.append({'Player_A':'___'}, ignore_index=True)\n",
      "/home/JouiniAhmad/Desktop/douma/Badminton_Project/detect_actions.py:164: FutureWarning: The frame.append method is deprecated and will be removed from pandas in a future version. Use pandas.concat instead.\n",
      "  self.strokesB = self.strokesB.append({'Player_B':'___'}, ignore_index=True)\n",
      "/tmp/ipykernel_108182/3855559223.py:45: FutureWarning: The frame.append method is deprecated and will be removed from pandas in a future version. Use pandas.concat instead.\n",
      "  inputs = inputs.append({'Players_Positions':multipose.positions,'Players_Skeletons':multipose.skeletons,'Court_Center': multipose.center}, ignore_index=True)\n"
     ]
    },
    {
     "name": "stdout",
     "output_type": "stream",
     "text": [
      "1/1 [==============================] - 0s 23ms/step\n",
      "1/1 [==============================] - 0s 23ms/step\n"
     ]
    },
    {
     "name": "stderr",
     "output_type": "stream",
     "text": [
      "/home/JouiniAhmad/Desktop/douma/Badminton_Project/detect_actions.py:158: FutureWarning: The frame.append method is deprecated and will be removed from pandas in a future version. Use pandas.concat instead.\n",
      "  self.strokesA = self.strokesA.append({'Player_A':'___'}, ignore_index=True)\n",
      "/home/JouiniAhmad/Desktop/douma/Badminton_Project/detect_actions.py:164: FutureWarning: The frame.append method is deprecated and will be removed from pandas in a future version. Use pandas.concat instead.\n",
      "  self.strokesB = self.strokesB.append({'Player_B':'___'}, ignore_index=True)\n",
      "/tmp/ipykernel_108182/3855559223.py:45: FutureWarning: The frame.append method is deprecated and will be removed from pandas in a future version. Use pandas.concat instead.\n",
      "  inputs = inputs.append({'Players_Positions':multipose.positions,'Players_Skeletons':multipose.skeletons,'Court_Center': multipose.center}, ignore_index=True)\n"
     ]
    },
    {
     "name": "stdout",
     "output_type": "stream",
     "text": [
      "1/1 [==============================] - 0s 25ms/step\n",
      "1/1 [==============================] - 0s 23ms/step\n"
     ]
    },
    {
     "name": "stderr",
     "output_type": "stream",
     "text": [
      "/home/JouiniAhmad/Desktop/douma/Badminton_Project/detect_actions.py:158: FutureWarning: The frame.append method is deprecated and will be removed from pandas in a future version. Use pandas.concat instead.\n",
      "  self.strokesA = self.strokesA.append({'Player_A':'___'}, ignore_index=True)\n",
      "/home/JouiniAhmad/Desktop/douma/Badminton_Project/detect_actions.py:164: FutureWarning: The frame.append method is deprecated and will be removed from pandas in a future version. Use pandas.concat instead.\n",
      "  self.strokesB = self.strokesB.append({'Player_B':'___'}, ignore_index=True)\n",
      "/tmp/ipykernel_108182/3855559223.py:45: FutureWarning: The frame.append method is deprecated and will be removed from pandas in a future version. Use pandas.concat instead.\n",
      "  inputs = inputs.append({'Players_Positions':multipose.positions,'Players_Skeletons':multipose.skeletons,'Court_Center': multipose.center}, ignore_index=True)\n"
     ]
    },
    {
     "name": "stdout",
     "output_type": "stream",
     "text": [
      "1/1 [==============================] - 0s 26ms/step\n",
      "1/1 [==============================] - 0s 25ms/step\n"
     ]
    },
    {
     "name": "stderr",
     "output_type": "stream",
     "text": [
      "/home/JouiniAhmad/Desktop/douma/Badminton_Project/detect_actions.py:158: FutureWarning: The frame.append method is deprecated and will be removed from pandas in a future version. Use pandas.concat instead.\n",
      "  self.strokesA = self.strokesA.append({'Player_A':'___'}, ignore_index=True)\n",
      "/home/JouiniAhmad/Desktop/douma/Badminton_Project/detect_actions.py:164: FutureWarning: The frame.append method is deprecated and will be removed from pandas in a future version. Use pandas.concat instead.\n",
      "  self.strokesB = self.strokesB.append({'Player_B':'___'}, ignore_index=True)\n",
      "/tmp/ipykernel_108182/3855559223.py:45: FutureWarning: The frame.append method is deprecated and will be removed from pandas in a future version. Use pandas.concat instead.\n",
      "  inputs = inputs.append({'Players_Positions':multipose.positions,'Players_Skeletons':multipose.skeletons,'Court_Center': multipose.center}, ignore_index=True)\n"
     ]
    },
    {
     "name": "stdout",
     "output_type": "stream",
     "text": [
      "1/1 [==============================] - 0s 24ms/step\n",
      "1/1 [==============================] - 0s 24ms/step\n"
     ]
    },
    {
     "name": "stderr",
     "output_type": "stream",
     "text": [
      "/home/JouiniAhmad/Desktop/douma/Badminton_Project/detect_actions.py:158: FutureWarning: The frame.append method is deprecated and will be removed from pandas in a future version. Use pandas.concat instead.\n",
      "  self.strokesA = self.strokesA.append({'Player_A':'___'}, ignore_index=True)\n",
      "/home/JouiniAhmad/Desktop/douma/Badminton_Project/detect_actions.py:164: FutureWarning: The frame.append method is deprecated and will be removed from pandas in a future version. Use pandas.concat instead.\n",
      "  self.strokesB = self.strokesB.append({'Player_B':'___'}, ignore_index=True)\n",
      "/tmp/ipykernel_108182/3855559223.py:45: FutureWarning: The frame.append method is deprecated and will be removed from pandas in a future version. Use pandas.concat instead.\n",
      "  inputs = inputs.append({'Players_Positions':multipose.positions,'Players_Skeletons':multipose.skeletons,'Court_Center': multipose.center}, ignore_index=True)\n"
     ]
    },
    {
     "name": "stdout",
     "output_type": "stream",
     "text": [
      "1/1 [==============================] - 0s 25ms/step\n",
      "1/1 [==============================] - 0s 24ms/step\n"
     ]
    },
    {
     "name": "stderr",
     "output_type": "stream",
     "text": [
      "/home/JouiniAhmad/Desktop/douma/Badminton_Project/detect_actions.py:158: FutureWarning: The frame.append method is deprecated and will be removed from pandas in a future version. Use pandas.concat instead.\n",
      "  self.strokesA = self.strokesA.append({'Player_A':'___'}, ignore_index=True)\n",
      "/home/JouiniAhmad/Desktop/douma/Badminton_Project/detect_actions.py:164: FutureWarning: The frame.append method is deprecated and will be removed from pandas in a future version. Use pandas.concat instead.\n",
      "  self.strokesB = self.strokesB.append({'Player_B':'___'}, ignore_index=True)\n",
      "/tmp/ipykernel_108182/3855559223.py:45: FutureWarning: The frame.append method is deprecated and will be removed from pandas in a future version. Use pandas.concat instead.\n",
      "  inputs = inputs.append({'Players_Positions':multipose.positions,'Players_Skeletons':multipose.skeletons,'Court_Center': multipose.center}, ignore_index=True)\n"
     ]
    },
    {
     "name": "stdout",
     "output_type": "stream",
     "text": [
      "1/1 [==============================] - 0s 22ms/step\n",
      "1/1 [==============================] - 0s 25ms/step\n"
     ]
    },
    {
     "name": "stderr",
     "output_type": "stream",
     "text": [
      "/home/JouiniAhmad/Desktop/douma/Badminton_Project/detect_actions.py:158: FutureWarning: The frame.append method is deprecated and will be removed from pandas in a future version. Use pandas.concat instead.\n",
      "  self.strokesA = self.strokesA.append({'Player_A':'___'}, ignore_index=True)\n",
      "/home/JouiniAhmad/Desktop/douma/Badminton_Project/detect_actions.py:164: FutureWarning: The frame.append method is deprecated and will be removed from pandas in a future version. Use pandas.concat instead.\n",
      "  self.strokesB = self.strokesB.append({'Player_B':'___'}, ignore_index=True)\n",
      "/tmp/ipykernel_108182/3855559223.py:45: FutureWarning: The frame.append method is deprecated and will be removed from pandas in a future version. Use pandas.concat instead.\n",
      "  inputs = inputs.append({'Players_Positions':multipose.positions,'Players_Skeletons':multipose.skeletons,'Court_Center': multipose.center}, ignore_index=True)\n"
     ]
    },
    {
     "name": "stdout",
     "output_type": "stream",
     "text": [
      "1/1 [==============================] - 0s 24ms/step\n"
     ]
    },
    {
     "name": "stderr",
     "output_type": "stream",
     "text": [
      "/home/JouiniAhmad/Desktop/douma/Badminton_Project/detect_actions.py:158: FutureWarning: The frame.append method is deprecated and will be removed from pandas in a future version. Use pandas.concat instead.\n",
      "  self.strokesA = self.strokesA.append({'Player_A':'___'}, ignore_index=True)\n",
      "/home/JouiniAhmad/Desktop/douma/Badminton_Project/detect_actions.py:164: FutureWarning: The frame.append method is deprecated and will be removed from pandas in a future version. Use pandas.concat instead.\n",
      "  self.strokesB = self.strokesB.append({'Player_B':'___'}, ignore_index=True)\n",
      "/tmp/ipykernel_108182/3855559223.py:45: FutureWarning: The frame.append method is deprecated and will be removed from pandas in a future version. Use pandas.concat instead.\n",
      "  inputs = inputs.append({'Players_Positions':multipose.positions,'Players_Skeletons':multipose.skeletons,'Court_Center': multipose.center}, ignore_index=True)\n"
     ]
    },
    {
     "name": "stdout",
     "output_type": "stream",
     "text": [
      "1/1 [==============================] - 0s 43ms/step\n",
      "1/1 [==============================] - 0s 26ms/step\n",
      "1/1 [==============================] - 0s 26ms/step\n"
     ]
    },
    {
     "name": "stderr",
     "output_type": "stream",
     "text": [
      "/home/JouiniAhmad/Desktop/douma/Badminton_Project/detect_actions.py:158: FutureWarning: The frame.append method is deprecated and will be removed from pandas in a future version. Use pandas.concat instead.\n",
      "  self.strokesA = self.strokesA.append({'Player_A':'___'}, ignore_index=True)\n",
      "/home/JouiniAhmad/Desktop/douma/Badminton_Project/detect_actions.py:164: FutureWarning: The frame.append method is deprecated and will be removed from pandas in a future version. Use pandas.concat instead.\n",
      "  self.strokesB = self.strokesB.append({'Player_B':'___'}, ignore_index=True)\n",
      "/tmp/ipykernel_108182/3855559223.py:45: FutureWarning: The frame.append method is deprecated and will be removed from pandas in a future version. Use pandas.concat instead.\n",
      "  inputs = inputs.append({'Players_Positions':multipose.positions,'Players_Skeletons':multipose.skeletons,'Court_Center': multipose.center}, ignore_index=True)\n"
     ]
    },
    {
     "name": "stdout",
     "output_type": "stream",
     "text": [
      "1/1 [==============================] - 0s 27ms/step\n",
      "1/1 [==============================] - 0s 24ms/step\n"
     ]
    },
    {
     "name": "stderr",
     "output_type": "stream",
     "text": [
      "/home/JouiniAhmad/Desktop/douma/Badminton_Project/detect_actions.py:158: FutureWarning: The frame.append method is deprecated and will be removed from pandas in a future version. Use pandas.concat instead.\n",
      "  self.strokesA = self.strokesA.append({'Player_A':'___'}, ignore_index=True)\n",
      "/home/JouiniAhmad/Desktop/douma/Badminton_Project/detect_actions.py:164: FutureWarning: The frame.append method is deprecated and will be removed from pandas in a future version. Use pandas.concat instead.\n",
      "  self.strokesB = self.strokesB.append({'Player_B':'___'}, ignore_index=True)\n",
      "/tmp/ipykernel_108182/3855559223.py:45: FutureWarning: The frame.append method is deprecated and will be removed from pandas in a future version. Use pandas.concat instead.\n",
      "  inputs = inputs.append({'Players_Positions':multipose.positions,'Players_Skeletons':multipose.skeletons,'Court_Center': multipose.center}, ignore_index=True)\n"
     ]
    },
    {
     "name": "stdout",
     "output_type": "stream",
     "text": [
      "1/1 [==============================] - 0s 26ms/step\n"
     ]
    },
    {
     "name": "stderr",
     "output_type": "stream",
     "text": [
      "/home/JouiniAhmad/Desktop/douma/Badminton_Project/detect_actions.py:158: FutureWarning: The frame.append method is deprecated and will be removed from pandas in a future version. Use pandas.concat instead.\n",
      "  self.strokesA = self.strokesA.append({'Player_A':'___'}, ignore_index=True)\n",
      "/home/JouiniAhmad/Desktop/douma/Badminton_Project/detect_actions.py:164: FutureWarning: The frame.append method is deprecated and will be removed from pandas in a future version. Use pandas.concat instead.\n",
      "  self.strokesB = self.strokesB.append({'Player_B':'___'}, ignore_index=True)\n",
      "/tmp/ipykernel_108182/3855559223.py:45: FutureWarning: The frame.append method is deprecated and will be removed from pandas in a future version. Use pandas.concat instead.\n",
      "  inputs = inputs.append({'Players_Positions':multipose.positions,'Players_Skeletons':multipose.skeletons,'Court_Center': multipose.center}, ignore_index=True)\n"
     ]
    },
    {
     "name": "stdout",
     "output_type": "stream",
     "text": [
      "1/1 [==============================] - 0s 26ms/step\n",
      "1/1 [==============================] - 0s 25ms/step\n"
     ]
    },
    {
     "name": "stderr",
     "output_type": "stream",
     "text": [
      "/home/JouiniAhmad/Desktop/douma/Badminton_Project/detect_actions.py:158: FutureWarning: The frame.append method is deprecated and will be removed from pandas in a future version. Use pandas.concat instead.\n",
      "  self.strokesA = self.strokesA.append({'Player_A':'___'}, ignore_index=True)\n",
      "/home/JouiniAhmad/Desktop/douma/Badminton_Project/detect_actions.py:164: FutureWarning: The frame.append method is deprecated and will be removed from pandas in a future version. Use pandas.concat instead.\n",
      "  self.strokesB = self.strokesB.append({'Player_B':'___'}, ignore_index=True)\n",
      "/tmp/ipykernel_108182/3855559223.py:45: FutureWarning: The frame.append method is deprecated and will be removed from pandas in a future version. Use pandas.concat instead.\n",
      "  inputs = inputs.append({'Players_Positions':multipose.positions,'Players_Skeletons':multipose.skeletons,'Court_Center': multipose.center}, ignore_index=True)\n"
     ]
    },
    {
     "name": "stdout",
     "output_type": "stream",
     "text": [
      "1/1 [==============================] - 0s 70ms/step\n",
      "1/1 [==============================] - 0s 24ms/step\n",
      "1/1 [==============================] - 0s 25ms/step\n"
     ]
    },
    {
     "name": "stderr",
     "output_type": "stream",
     "text": [
      "/home/JouiniAhmad/Desktop/douma/Badminton_Project/detect_actions.py:158: FutureWarning: The frame.append method is deprecated and will be removed from pandas in a future version. Use pandas.concat instead.\n",
      "  self.strokesA = self.strokesA.append({'Player_A':'___'}, ignore_index=True)\n",
      "/home/JouiniAhmad/Desktop/douma/Badminton_Project/detect_actions.py:164: FutureWarning: The frame.append method is deprecated and will be removed from pandas in a future version. Use pandas.concat instead.\n",
      "  self.strokesB = self.strokesB.append({'Player_B':'___'}, ignore_index=True)\n",
      "/tmp/ipykernel_108182/3855559223.py:45: FutureWarning: The frame.append method is deprecated and will be removed from pandas in a future version. Use pandas.concat instead.\n",
      "  inputs = inputs.append({'Players_Positions':multipose.positions,'Players_Skeletons':multipose.skeletons,'Court_Center': multipose.center}, ignore_index=True)\n"
     ]
    },
    {
     "name": "stdout",
     "output_type": "stream",
     "text": [
      "1/1 [==============================] - 0s 27ms/step\n",
      "1/1 [==============================] - ETA: 0s"
     ]
    },
    {
     "name": "stderr",
     "output_type": "stream",
     "text": [
      "/home/JouiniAhmad/Desktop/douma/Badminton_Project/detect_actions.py:158: FutureWarning: The frame.append method is deprecated and will be removed from pandas in a future version. Use pandas.concat instead.\n",
      "  self.strokesA = self.strokesA.append({'Player_A':'___'}, ignore_index=True)\n",
      "/home/JouiniAhmad/Desktop/douma/Badminton_Project/detect_actions.py:164: FutureWarning: The frame.append method is deprecated and will be removed from pandas in a future version. Use pandas.concat instead.\n",
      "  self.strokesB = self.strokesB.append({'Player_B':'___'}, ignore_index=True)\n",
      "/tmp/ipykernel_108182/3855559223.py:45: FutureWarning: The frame.append method is deprecated and will be removed from pandas in a future version. Use pandas.concat instead.\n",
      "  inputs = inputs.append({'Players_Positions':multipose.positions,'Players_Skeletons':multipose.skeletons,'Court_Center': multipose.center}, ignore_index=True)\n"
     ]
    },
    {
     "name": "stdout",
     "output_type": "stream",
     "text": [
      "1/1 [==============================] - 0s 26ms/step\n",
      "1/1 [==============================] - 0s 23ms/step\n",
      "1/1 [==============================] - 0s 25ms/step\n"
     ]
    },
    {
     "name": "stderr",
     "output_type": "stream",
     "text": [
      "/home/JouiniAhmad/Desktop/douma/Badminton_Project/detect_actions.py:158: FutureWarning: The frame.append method is deprecated and will be removed from pandas in a future version. Use pandas.concat instead.\n",
      "  self.strokesA = self.strokesA.append({'Player_A':'___'}, ignore_index=True)\n",
      "/home/JouiniAhmad/Desktop/douma/Badminton_Project/detect_actions.py:164: FutureWarning: The frame.append method is deprecated and will be removed from pandas in a future version. Use pandas.concat instead.\n",
      "  self.strokesB = self.strokesB.append({'Player_B':'___'}, ignore_index=True)\n",
      "/tmp/ipykernel_108182/3855559223.py:45: FutureWarning: The frame.append method is deprecated and will be removed from pandas in a future version. Use pandas.concat instead.\n",
      "  inputs = inputs.append({'Players_Positions':multipose.positions,'Players_Skeletons':multipose.skeletons,'Court_Center': multipose.center}, ignore_index=True)\n"
     ]
    },
    {
     "name": "stdout",
     "output_type": "stream",
     "text": [
      "1/1 [==============================] - 0s 25ms/step\n",
      "1/1 [==============================] - ETA: 0s"
     ]
    },
    {
     "name": "stderr",
     "output_type": "stream",
     "text": [
      "/home/JouiniAhmad/Desktop/douma/Badminton_Project/detect_actions.py:158: FutureWarning: The frame.append method is deprecated and will be removed from pandas in a future version. Use pandas.concat instead.\n",
      "  self.strokesA = self.strokesA.append({'Player_A':'___'}, ignore_index=True)\n",
      "/home/JouiniAhmad/Desktop/douma/Badminton_Project/detect_actions.py:164: FutureWarning: The frame.append method is deprecated and will be removed from pandas in a future version. Use pandas.concat instead.\n",
      "  self.strokesB = self.strokesB.append({'Player_B':'___'}, ignore_index=True)\n",
      "/tmp/ipykernel_108182/3855559223.py:45: FutureWarning: The frame.append method is deprecated and will be removed from pandas in a future version. Use pandas.concat instead.\n",
      "  inputs = inputs.append({'Players_Positions':multipose.positions,'Players_Skeletons':multipose.skeletons,'Court_Center': multipose.center}, ignore_index=True)\n"
     ]
    },
    {
     "name": "stdout",
     "output_type": "stream",
     "text": [
      "1/1 [==============================] - 0s 24ms/step\n",
      "1/1 [==============================] - 0s 26ms/step\n",
      "1/1 [==============================] - 0s 25ms/step\n"
     ]
    },
    {
     "name": "stderr",
     "output_type": "stream",
     "text": [
      "/home/JouiniAhmad/Desktop/douma/Badminton_Project/detect_actions.py:158: FutureWarning: The frame.append method is deprecated and will be removed from pandas in a future version. Use pandas.concat instead.\n",
      "  self.strokesA = self.strokesA.append({'Player_A':'___'}, ignore_index=True)\n",
      "/home/JouiniAhmad/Desktop/douma/Badminton_Project/detect_actions.py:164: FutureWarning: The frame.append method is deprecated and will be removed from pandas in a future version. Use pandas.concat instead.\n",
      "  self.strokesB = self.strokesB.append({'Player_B':'___'}, ignore_index=True)\n",
      "/tmp/ipykernel_108182/3855559223.py:45: FutureWarning: The frame.append method is deprecated and will be removed from pandas in a future version. Use pandas.concat instead.\n",
      "  inputs = inputs.append({'Players_Positions':multipose.positions,'Players_Skeletons':multipose.skeletons,'Court_Center': multipose.center}, ignore_index=True)\n"
     ]
    },
    {
     "name": "stdout",
     "output_type": "stream",
     "text": [
      "1/1 [==============================] - 0s 28ms/step\n",
      "1/1 [==============================] - 0s 24ms/step\n"
     ]
    },
    {
     "name": "stderr",
     "output_type": "stream",
     "text": [
      "/home/JouiniAhmad/Desktop/douma/Badminton_Project/detect_actions.py:158: FutureWarning: The frame.append method is deprecated and will be removed from pandas in a future version. Use pandas.concat instead.\n",
      "  self.strokesA = self.strokesA.append({'Player_A':'___'}, ignore_index=True)\n",
      "/home/JouiniAhmad/Desktop/douma/Badminton_Project/detect_actions.py:164: FutureWarning: The frame.append method is deprecated and will be removed from pandas in a future version. Use pandas.concat instead.\n",
      "  self.strokesB = self.strokesB.append({'Player_B':'___'}, ignore_index=True)\n",
      "/tmp/ipykernel_108182/3855559223.py:45: FutureWarning: The frame.append method is deprecated and will be removed from pandas in a future version. Use pandas.concat instead.\n",
      "  inputs = inputs.append({'Players_Positions':multipose.positions,'Players_Skeletons':multipose.skeletons,'Court_Center': multipose.center}, ignore_index=True)\n"
     ]
    },
    {
     "name": "stdout",
     "output_type": "stream",
     "text": [
      "1/1 [==============================] - 0s 25ms/step\n"
     ]
    },
    {
     "name": "stderr",
     "output_type": "stream",
     "text": [
      "/home/JouiniAhmad/Desktop/douma/Badminton_Project/detect_actions.py:158: FutureWarning: The frame.append method is deprecated and will be removed from pandas in a future version. Use pandas.concat instead.\n",
      "  self.strokesA = self.strokesA.append({'Player_A':'___'}, ignore_index=True)\n",
      "/home/JouiniAhmad/Desktop/douma/Badminton_Project/detect_actions.py:164: FutureWarning: The frame.append method is deprecated and will be removed from pandas in a future version. Use pandas.concat instead.\n",
      "  self.strokesB = self.strokesB.append({'Player_B':'___'}, ignore_index=True)\n",
      "/tmp/ipykernel_108182/3855559223.py:45: FutureWarning: The frame.append method is deprecated and will be removed from pandas in a future version. Use pandas.concat instead.\n",
      "  inputs = inputs.append({'Players_Positions':multipose.positions,'Players_Skeletons':multipose.skeletons,'Court_Center': multipose.center}, ignore_index=True)\n"
     ]
    },
    {
     "name": "stdout",
     "output_type": "stream",
     "text": [
      "1/1 [==============================] - 0s 25ms/step\n",
      "1/1 [==============================] - 0s 25ms/step\n"
     ]
    },
    {
     "name": "stderr",
     "output_type": "stream",
     "text": [
      "/home/JouiniAhmad/Desktop/douma/Badminton_Project/detect_actions.py:158: FutureWarning: The frame.append method is deprecated and will be removed from pandas in a future version. Use pandas.concat instead.\n",
      "  self.strokesA = self.strokesA.append({'Player_A':'___'}, ignore_index=True)\n",
      "/home/JouiniAhmad/Desktop/douma/Badminton_Project/detect_actions.py:164: FutureWarning: The frame.append method is deprecated and will be removed from pandas in a future version. Use pandas.concat instead.\n",
      "  self.strokesB = self.strokesB.append({'Player_B':'___'}, ignore_index=True)\n",
      "/tmp/ipykernel_108182/3855559223.py:45: FutureWarning: The frame.append method is deprecated and will be removed from pandas in a future version. Use pandas.concat instead.\n",
      "  inputs = inputs.append({'Players_Positions':multipose.positions,'Players_Skeletons':multipose.skeletons,'Court_Center': multipose.center}, ignore_index=True)\n"
     ]
    },
    {
     "name": "stdout",
     "output_type": "stream",
     "text": [
      "1/1 [==============================] - 0s 25ms/step\n",
      "1/1 [==============================] - 0s 26ms/step\n"
     ]
    },
    {
     "name": "stderr",
     "output_type": "stream",
     "text": [
      "/home/JouiniAhmad/Desktop/douma/Badminton_Project/detect_actions.py:158: FutureWarning: The frame.append method is deprecated and will be removed from pandas in a future version. Use pandas.concat instead.\n",
      "  self.strokesA = self.strokesA.append({'Player_A':'___'}, ignore_index=True)\n",
      "/home/JouiniAhmad/Desktop/douma/Badminton_Project/detect_actions.py:164: FutureWarning: The frame.append method is deprecated and will be removed from pandas in a future version. Use pandas.concat instead.\n",
      "  self.strokesB = self.strokesB.append({'Player_B':'___'}, ignore_index=True)\n",
      "/tmp/ipykernel_108182/3855559223.py:45: FutureWarning: The frame.append method is deprecated and will be removed from pandas in a future version. Use pandas.concat instead.\n",
      "  inputs = inputs.append({'Players_Positions':multipose.positions,'Players_Skeletons':multipose.skeletons,'Court_Center': multipose.center}, ignore_index=True)\n"
     ]
    },
    {
     "name": "stdout",
     "output_type": "stream",
     "text": [
      "1/1 [==============================] - 0s 28ms/step\n",
      "1/1 [==============================] - 0s 27ms/step\n",
      "1/1 [==============================] - 0s 25ms/step\n"
     ]
    },
    {
     "name": "stderr",
     "output_type": "stream",
     "text": [
      "/home/JouiniAhmad/Desktop/douma/Badminton_Project/detect_actions.py:158: FutureWarning: The frame.append method is deprecated and will be removed from pandas in a future version. Use pandas.concat instead.\n",
      "  self.strokesA = self.strokesA.append({'Player_A':'___'}, ignore_index=True)\n",
      "/home/JouiniAhmad/Desktop/douma/Badminton_Project/detect_actions.py:164: FutureWarning: The frame.append method is deprecated and will be removed from pandas in a future version. Use pandas.concat instead.\n",
      "  self.strokesB = self.strokesB.append({'Player_B':'___'}, ignore_index=True)\n",
      "/tmp/ipykernel_108182/3855559223.py:45: FutureWarning: The frame.append method is deprecated and will be removed from pandas in a future version. Use pandas.concat instead.\n",
      "  inputs = inputs.append({'Players_Positions':multipose.positions,'Players_Skeletons':multipose.skeletons,'Court_Center': multipose.center}, ignore_index=True)\n"
     ]
    },
    {
     "name": "stdout",
     "output_type": "stream",
     "text": [
      "1/1 [==============================] - 0s 26ms/step\n"
     ]
    },
    {
     "name": "stderr",
     "output_type": "stream",
     "text": [
      "/home/JouiniAhmad/Desktop/douma/Badminton_Project/detect_actions.py:158: FutureWarning: The frame.append method is deprecated and will be removed from pandas in a future version. Use pandas.concat instead.\n",
      "  self.strokesA = self.strokesA.append({'Player_A':'___'}, ignore_index=True)\n",
      "/home/JouiniAhmad/Desktop/douma/Badminton_Project/detect_actions.py:164: FutureWarning: The frame.append method is deprecated and will be removed from pandas in a future version. Use pandas.concat instead.\n",
      "  self.strokesB = self.strokesB.append({'Player_B':'___'}, ignore_index=True)\n",
      "/tmp/ipykernel_108182/3855559223.py:45: FutureWarning: The frame.append method is deprecated and will be removed from pandas in a future version. Use pandas.concat instead.\n",
      "  inputs = inputs.append({'Players_Positions':multipose.positions,'Players_Skeletons':multipose.skeletons,'Court_Center': multipose.center}, ignore_index=True)\n"
     ]
    },
    {
     "name": "stdout",
     "output_type": "stream",
     "text": [
      "1/1 [==============================] - 0s 25ms/step\n",
      "1/1 [==============================] - 0s 24ms/step\n",
      "1/1 [==============================] - 0s 23ms/step\n"
     ]
    },
    {
     "name": "stderr",
     "output_type": "stream",
     "text": [
      "/home/JouiniAhmad/Desktop/douma/Badminton_Project/detect_actions.py:158: FutureWarning: The frame.append method is deprecated and will be removed from pandas in a future version. Use pandas.concat instead.\n",
      "  self.strokesA = self.strokesA.append({'Player_A':'___'}, ignore_index=True)\n",
      "/home/JouiniAhmad/Desktop/douma/Badminton_Project/detect_actions.py:164: FutureWarning: The frame.append method is deprecated and will be removed from pandas in a future version. Use pandas.concat instead.\n",
      "  self.strokesB = self.strokesB.append({'Player_B':'___'}, ignore_index=True)\n",
      "/tmp/ipykernel_108182/3855559223.py:45: FutureWarning: The frame.append method is deprecated and will be removed from pandas in a future version. Use pandas.concat instead.\n",
      "  inputs = inputs.append({'Players_Positions':multipose.positions,'Players_Skeletons':multipose.skeletons,'Court_Center': multipose.center}, ignore_index=True)\n"
     ]
    },
    {
     "name": "stdout",
     "output_type": "stream",
     "text": [
      "1/1 [==============================] - 0s 23ms/step\n",
      "1/1 [==============================] - 0s 24ms/step\n"
     ]
    },
    {
     "name": "stderr",
     "output_type": "stream",
     "text": [
      "/home/JouiniAhmad/Desktop/douma/Badminton_Project/detect_actions.py:158: FutureWarning: The frame.append method is deprecated and will be removed from pandas in a future version. Use pandas.concat instead.\n",
      "  self.strokesA = self.strokesA.append({'Player_A':'___'}, ignore_index=True)\n",
      "/home/JouiniAhmad/Desktop/douma/Badminton_Project/detect_actions.py:164: FutureWarning: The frame.append method is deprecated and will be removed from pandas in a future version. Use pandas.concat instead.\n",
      "  self.strokesB = self.strokesB.append({'Player_B':'___'}, ignore_index=True)\n",
      "/tmp/ipykernel_108182/3855559223.py:45: FutureWarning: The frame.append method is deprecated and will be removed from pandas in a future version. Use pandas.concat instead.\n",
      "  inputs = inputs.append({'Players_Positions':multipose.positions,'Players_Skeletons':multipose.skeletons,'Court_Center': multipose.center}, ignore_index=True)\n"
     ]
    },
    {
     "name": "stdout",
     "output_type": "stream",
     "text": [
      "1/1 [==============================] - 0s 21ms/step\n",
      "1/1 [==============================] - 0s 30ms/step\n"
     ]
    },
    {
     "name": "stderr",
     "output_type": "stream",
     "text": [
      "/home/JouiniAhmad/Desktop/douma/Badminton_Project/detect_actions.py:158: FutureWarning: The frame.append method is deprecated and will be removed from pandas in a future version. Use pandas.concat instead.\n",
      "  self.strokesA = self.strokesA.append({'Player_A':'___'}, ignore_index=True)\n",
      "/home/JouiniAhmad/Desktop/douma/Badminton_Project/detect_actions.py:164: FutureWarning: The frame.append method is deprecated and will be removed from pandas in a future version. Use pandas.concat instead.\n",
      "  self.strokesB = self.strokesB.append({'Player_B':'___'}, ignore_index=True)\n",
      "/tmp/ipykernel_108182/3855559223.py:45: FutureWarning: The frame.append method is deprecated and will be removed from pandas in a future version. Use pandas.concat instead.\n",
      "  inputs = inputs.append({'Players_Positions':multipose.positions,'Players_Skeletons':multipose.skeletons,'Court_Center': multipose.center}, ignore_index=True)\n"
     ]
    },
    {
     "name": "stdout",
     "output_type": "stream",
     "text": [
      "1/1 [==============================] - 0s 26ms/step\n"
     ]
    },
    {
     "name": "stderr",
     "output_type": "stream",
     "text": [
      "/home/JouiniAhmad/Desktop/douma/Badminton_Project/detect_actions.py:158: FutureWarning: The frame.append method is deprecated and will be removed from pandas in a future version. Use pandas.concat instead.\n",
      "  self.strokesA = self.strokesA.append({'Player_A':'___'}, ignore_index=True)\n",
      "/home/JouiniAhmad/Desktop/douma/Badminton_Project/detect_actions.py:164: FutureWarning: The frame.append method is deprecated and will be removed from pandas in a future version. Use pandas.concat instead.\n",
      "  self.strokesB = self.strokesB.append({'Player_B':'___'}, ignore_index=True)\n",
      "/tmp/ipykernel_108182/3855559223.py:45: FutureWarning: The frame.append method is deprecated and will be removed from pandas in a future version. Use pandas.concat instead.\n",
      "  inputs = inputs.append({'Players_Positions':multipose.positions,'Players_Skeletons':multipose.skeletons,'Court_Center': multipose.center}, ignore_index=True)\n"
     ]
    },
    {
     "name": "stdout",
     "output_type": "stream",
     "text": [
      "1/1 [==============================] - 0s 25ms/step\n",
      "1/1 [==============================] - 0s 21ms/step\n",
      "1/1 [==============================] - 0s 25ms/step\n"
     ]
    },
    {
     "name": "stderr",
     "output_type": "stream",
     "text": [
      "/home/JouiniAhmad/Desktop/douma/Badminton_Project/detect_actions.py:158: FutureWarning: The frame.append method is deprecated and will be removed from pandas in a future version. Use pandas.concat instead.\n",
      "  self.strokesA = self.strokesA.append({'Player_A':'___'}, ignore_index=True)\n",
      "/home/JouiniAhmad/Desktop/douma/Badminton_Project/detect_actions.py:164: FutureWarning: The frame.append method is deprecated and will be removed from pandas in a future version. Use pandas.concat instead.\n",
      "  self.strokesB = self.strokesB.append({'Player_B':'___'}, ignore_index=True)\n",
      "/tmp/ipykernel_108182/3855559223.py:45: FutureWarning: The frame.append method is deprecated and will be removed from pandas in a future version. Use pandas.concat instead.\n",
      "  inputs = inputs.append({'Players_Positions':multipose.positions,'Players_Skeletons':multipose.skeletons,'Court_Center': multipose.center}, ignore_index=True)\n"
     ]
    },
    {
     "name": "stdout",
     "output_type": "stream",
     "text": [
      "1/1 [==============================] - 0s 36ms/step\n"
     ]
    },
    {
     "name": "stderr",
     "output_type": "stream",
     "text": [
      "/home/JouiniAhmad/Desktop/douma/Badminton_Project/detect_actions.py:158: FutureWarning: The frame.append method is deprecated and will be removed from pandas in a future version. Use pandas.concat instead.\n",
      "  self.strokesA = self.strokesA.append({'Player_A':'___'}, ignore_index=True)\n",
      "/home/JouiniAhmad/Desktop/douma/Badminton_Project/detect_actions.py:164: FutureWarning: The frame.append method is deprecated and will be removed from pandas in a future version. Use pandas.concat instead.\n",
      "  self.strokesB = self.strokesB.append({'Player_B':'___'}, ignore_index=True)\n",
      "/tmp/ipykernel_108182/3855559223.py:45: FutureWarning: The frame.append method is deprecated and will be removed from pandas in a future version. Use pandas.concat instead.\n",
      "  inputs = inputs.append({'Players_Positions':multipose.positions,'Players_Skeletons':multipose.skeletons,'Court_Center': multipose.center}, ignore_index=True)\n"
     ]
    },
    {
     "name": "stdout",
     "output_type": "stream",
     "text": [
      "1/1 [==============================] - 0s 26ms/step\n",
      "1/1 [==============================] - 0s 22ms/step\n"
     ]
    },
    {
     "name": "stderr",
     "output_type": "stream",
     "text": [
      "/home/JouiniAhmad/Desktop/douma/Badminton_Project/detect_actions.py:158: FutureWarning: The frame.append method is deprecated and will be removed from pandas in a future version. Use pandas.concat instead.\n",
      "  self.strokesA = self.strokesA.append({'Player_A':'___'}, ignore_index=True)\n",
      "/home/JouiniAhmad/Desktop/douma/Badminton_Project/detect_actions.py:164: FutureWarning: The frame.append method is deprecated and will be removed from pandas in a future version. Use pandas.concat instead.\n",
      "  self.strokesB = self.strokesB.append({'Player_B':'___'}, ignore_index=True)\n",
      "/tmp/ipykernel_108182/3855559223.py:45: FutureWarning: The frame.append method is deprecated and will be removed from pandas in a future version. Use pandas.concat instead.\n",
      "  inputs = inputs.append({'Players_Positions':multipose.positions,'Players_Skeletons':multipose.skeletons,'Court_Center': multipose.center}, ignore_index=True)\n"
     ]
    },
    {
     "name": "stdout",
     "output_type": "stream",
     "text": [
      "1/1 [==============================] - 0s 27ms/step\n",
      "1/1 [==============================] - 0s 23ms/step\n",
      "1/1 [==============================] - 0s 26ms/step\n"
     ]
    },
    {
     "name": "stderr",
     "output_type": "stream",
     "text": [
      "/home/JouiniAhmad/Desktop/douma/Badminton_Project/detect_actions.py:158: FutureWarning: The frame.append method is deprecated and will be removed from pandas in a future version. Use pandas.concat instead.\n",
      "  self.strokesA = self.strokesA.append({'Player_A':'___'}, ignore_index=True)\n",
      "/home/JouiniAhmad/Desktop/douma/Badminton_Project/detect_actions.py:164: FutureWarning: The frame.append method is deprecated and will be removed from pandas in a future version. Use pandas.concat instead.\n",
      "  self.strokesB = self.strokesB.append({'Player_B':'___'}, ignore_index=True)\n",
      "/tmp/ipykernel_108182/3855559223.py:45: FutureWarning: The frame.append method is deprecated and will be removed from pandas in a future version. Use pandas.concat instead.\n",
      "  inputs = inputs.append({'Players_Positions':multipose.positions,'Players_Skeletons':multipose.skeletons,'Court_Center': multipose.center}, ignore_index=True)\n"
     ]
    },
    {
     "name": "stdout",
     "output_type": "stream",
     "text": [
      "1/1 [==============================] - 0s 25ms/step\n",
      "1/1 [==============================] - 0s 23ms/step\n"
     ]
    },
    {
     "name": "stderr",
     "output_type": "stream",
     "text": [
      "/home/JouiniAhmad/Desktop/douma/Badminton_Project/detect_actions.py:158: FutureWarning: The frame.append method is deprecated and will be removed from pandas in a future version. Use pandas.concat instead.\n",
      "  self.strokesA = self.strokesA.append({'Player_A':'___'}, ignore_index=True)\n",
      "/home/JouiniAhmad/Desktop/douma/Badminton_Project/detect_actions.py:164: FutureWarning: The frame.append method is deprecated and will be removed from pandas in a future version. Use pandas.concat instead.\n",
      "  self.strokesB = self.strokesB.append({'Player_B':'___'}, ignore_index=True)\n",
      "/tmp/ipykernel_108182/3855559223.py:45: FutureWarning: The frame.append method is deprecated and will be removed from pandas in a future version. Use pandas.concat instead.\n",
      "  inputs = inputs.append({'Players_Positions':multipose.positions,'Players_Skeletons':multipose.skeletons,'Court_Center': multipose.center}, ignore_index=True)\n"
     ]
    },
    {
     "name": "stdout",
     "output_type": "stream",
     "text": [
      "1/1 [==============================] - 0s 24ms/step\n",
      "1/1 [==============================] - 0s 25ms/step\n"
     ]
    },
    {
     "name": "stderr",
     "output_type": "stream",
     "text": [
      "/home/JouiniAhmad/Desktop/douma/Badminton_Project/detect_actions.py:158: FutureWarning: The frame.append method is deprecated and will be removed from pandas in a future version. Use pandas.concat instead.\n",
      "  self.strokesA = self.strokesA.append({'Player_A':'___'}, ignore_index=True)\n",
      "/home/JouiniAhmad/Desktop/douma/Badminton_Project/detect_actions.py:164: FutureWarning: The frame.append method is deprecated and will be removed from pandas in a future version. Use pandas.concat instead.\n",
      "  self.strokesB = self.strokesB.append({'Player_B':'___'}, ignore_index=True)\n",
      "/tmp/ipykernel_108182/3855559223.py:45: FutureWarning: The frame.append method is deprecated and will be removed from pandas in a future version. Use pandas.concat instead.\n",
      "  inputs = inputs.append({'Players_Positions':multipose.positions,'Players_Skeletons':multipose.skeletons,'Court_Center': multipose.center}, ignore_index=True)\n"
     ]
    },
    {
     "name": "stdout",
     "output_type": "stream",
     "text": [
      "1/1 [==============================] - 0s 26ms/step\n",
      "1/1 [==============================] - 0s 24ms/step\n"
     ]
    },
    {
     "name": "stderr",
     "output_type": "stream",
     "text": [
      "/home/JouiniAhmad/Desktop/douma/Badminton_Project/detect_actions.py:158: FutureWarning: The frame.append method is deprecated and will be removed from pandas in a future version. Use pandas.concat instead.\n",
      "  self.strokesA = self.strokesA.append({'Player_A':'___'}, ignore_index=True)\n",
      "/home/JouiniAhmad/Desktop/douma/Badminton_Project/detect_actions.py:164: FutureWarning: The frame.append method is deprecated and will be removed from pandas in a future version. Use pandas.concat instead.\n",
      "  self.strokesB = self.strokesB.append({'Player_B':'___'}, ignore_index=True)\n",
      "/tmp/ipykernel_108182/3855559223.py:45: FutureWarning: The frame.append method is deprecated and will be removed from pandas in a future version. Use pandas.concat instead.\n",
      "  inputs = inputs.append({'Players_Positions':multipose.positions,'Players_Skeletons':multipose.skeletons,'Court_Center': multipose.center}, ignore_index=True)\n"
     ]
    },
    {
     "name": "stdout",
     "output_type": "stream",
     "text": [
      "1/1 [==============================] - 0s 21ms/step\n",
      "1/1 [==============================] - ETA: 0s"
     ]
    },
    {
     "name": "stderr",
     "output_type": "stream",
     "text": [
      "/home/JouiniAhmad/Desktop/douma/Badminton_Project/detect_actions.py:158: FutureWarning: The frame.append method is deprecated and will be removed from pandas in a future version. Use pandas.concat instead.\n",
      "  self.strokesA = self.strokesA.append({'Player_A':'___'}, ignore_index=True)\n",
      "/home/JouiniAhmad/Desktop/douma/Badminton_Project/detect_actions.py:164: FutureWarning: The frame.append method is deprecated and will be removed from pandas in a future version. Use pandas.concat instead.\n",
      "  self.strokesB = self.strokesB.append({'Player_B':'___'}, ignore_index=True)\n",
      "/tmp/ipykernel_108182/3855559223.py:45: FutureWarning: The frame.append method is deprecated and will be removed from pandas in a future version. Use pandas.concat instead.\n",
      "  inputs = inputs.append({'Players_Positions':multipose.positions,'Players_Skeletons':multipose.skeletons,'Court_Center': multipose.center}, ignore_index=True)\n"
     ]
    },
    {
     "name": "stdout",
     "output_type": "stream",
     "text": [
      "1/1 [==============================] - 0s 26ms/step\n",
      "1/1 [==============================] - 0s 26ms/step\n",
      "1/1 [==============================] - 0s 25ms/step\n"
     ]
    },
    {
     "name": "stderr",
     "output_type": "stream",
     "text": [
      "/home/JouiniAhmad/Desktop/douma/Badminton_Project/detect_actions.py:158: FutureWarning: The frame.append method is deprecated and will be removed from pandas in a future version. Use pandas.concat instead.\n",
      "  self.strokesA = self.strokesA.append({'Player_A':'___'}, ignore_index=True)\n",
      "/home/JouiniAhmad/Desktop/douma/Badminton_Project/detect_actions.py:164: FutureWarning: The frame.append method is deprecated and will be removed from pandas in a future version. Use pandas.concat instead.\n",
      "  self.strokesB = self.strokesB.append({'Player_B':'___'}, ignore_index=True)\n",
      "/tmp/ipykernel_108182/3855559223.py:45: FutureWarning: The frame.append method is deprecated and will be removed from pandas in a future version. Use pandas.concat instead.\n",
      "  inputs = inputs.append({'Players_Positions':multipose.positions,'Players_Skeletons':multipose.skeletons,'Court_Center': multipose.center}, ignore_index=True)\n"
     ]
    },
    {
     "name": "stdout",
     "output_type": "stream",
     "text": [
      "1/1 [==============================] - 0s 27ms/step\n",
      "1/1 [==============================] - 0s 25ms/step\n"
     ]
    },
    {
     "name": "stderr",
     "output_type": "stream",
     "text": [
      "/home/JouiniAhmad/Desktop/douma/Badminton_Project/detect_actions.py:158: FutureWarning: The frame.append method is deprecated and will be removed from pandas in a future version. Use pandas.concat instead.\n",
      "  self.strokesA = self.strokesA.append({'Player_A':'___'}, ignore_index=True)\n",
      "/home/JouiniAhmad/Desktop/douma/Badminton_Project/detect_actions.py:164: FutureWarning: The frame.append method is deprecated and will be removed from pandas in a future version. Use pandas.concat instead.\n",
      "  self.strokesB = self.strokesB.append({'Player_B':'___'}, ignore_index=True)\n",
      "/tmp/ipykernel_108182/3855559223.py:45: FutureWarning: The frame.append method is deprecated and will be removed from pandas in a future version. Use pandas.concat instead.\n",
      "  inputs = inputs.append({'Players_Positions':multipose.positions,'Players_Skeletons':multipose.skeletons,'Court_Center': multipose.center}, ignore_index=True)\n"
     ]
    },
    {
     "name": "stdout",
     "output_type": "stream",
     "text": [
      "1/1 [==============================] - 0s 26ms/step\n",
      "1/1 [==============================] - 0s 26ms/step\n"
     ]
    },
    {
     "name": "stderr",
     "output_type": "stream",
     "text": [
      "/home/JouiniAhmad/Desktop/douma/Badminton_Project/detect_actions.py:158: FutureWarning: The frame.append method is deprecated and will be removed from pandas in a future version. Use pandas.concat instead.\n",
      "  self.strokesA = self.strokesA.append({'Player_A':'___'}, ignore_index=True)\n",
      "/home/JouiniAhmad/Desktop/douma/Badminton_Project/detect_actions.py:164: FutureWarning: The frame.append method is deprecated and will be removed from pandas in a future version. Use pandas.concat instead.\n",
      "  self.strokesB = self.strokesB.append({'Player_B':'___'}, ignore_index=True)\n",
      "/tmp/ipykernel_108182/3855559223.py:45: FutureWarning: The frame.append method is deprecated and will be removed from pandas in a future version. Use pandas.concat instead.\n",
      "  inputs = inputs.append({'Players_Positions':multipose.positions,'Players_Skeletons':multipose.skeletons,'Court_Center': multipose.center}, ignore_index=True)\n"
     ]
    },
    {
     "name": "stdout",
     "output_type": "stream",
     "text": [
      "1/1 [==============================] - 0s 52ms/step\n"
     ]
    },
    {
     "name": "stderr",
     "output_type": "stream",
     "text": [
      "/home/JouiniAhmad/Desktop/douma/Badminton_Project/detect_actions.py:158: FutureWarning: The frame.append method is deprecated and will be removed from pandas in a future version. Use pandas.concat instead.\n",
      "  self.strokesA = self.strokesA.append({'Player_A':'___'}, ignore_index=True)\n",
      "/home/JouiniAhmad/Desktop/douma/Badminton_Project/detect_actions.py:164: FutureWarning: The frame.append method is deprecated and will be removed from pandas in a future version. Use pandas.concat instead.\n",
      "  self.strokesB = self.strokesB.append({'Player_B':'___'}, ignore_index=True)\n",
      "/tmp/ipykernel_108182/3855559223.py:45: FutureWarning: The frame.append method is deprecated and will be removed from pandas in a future version. Use pandas.concat instead.\n",
      "  inputs = inputs.append({'Players_Positions':multipose.positions,'Players_Skeletons':multipose.skeletons,'Court_Center': multipose.center}, ignore_index=True)\n"
     ]
    },
    {
     "name": "stdout",
     "output_type": "stream",
     "text": [
      "1/1 [==============================] - 0s 27ms/step\n",
      "1/1 [==============================] - 0s 25ms/step\n"
     ]
    },
    {
     "name": "stderr",
     "output_type": "stream",
     "text": [
      "/home/JouiniAhmad/Desktop/douma/Badminton_Project/detect_actions.py:158: FutureWarning: The frame.append method is deprecated and will be removed from pandas in a future version. Use pandas.concat instead.\n",
      "  self.strokesA = self.strokesA.append({'Player_A':'___'}, ignore_index=True)\n",
      "/home/JouiniAhmad/Desktop/douma/Badminton_Project/detect_actions.py:164: FutureWarning: The frame.append method is deprecated and will be removed from pandas in a future version. Use pandas.concat instead.\n",
      "  self.strokesB = self.strokesB.append({'Player_B':'___'}, ignore_index=True)\n",
      "/tmp/ipykernel_108182/3855559223.py:45: FutureWarning: The frame.append method is deprecated and will be removed from pandas in a future version. Use pandas.concat instead.\n",
      "  inputs = inputs.append({'Players_Positions':multipose.positions,'Players_Skeletons':multipose.skeletons,'Court_Center': multipose.center}, ignore_index=True)\n"
     ]
    },
    {
     "name": "stdout",
     "output_type": "stream",
     "text": [
      "1/1 [==============================] - 0s 25ms/step\n",
      "1/1 [==============================] - 0s 26ms/step\n"
     ]
    }
   ],
   "source": [
    "print(\"=========== Start Predicting ===========\")\n",
    "while(True):\n",
    "\n",
    "\t#capture frame-by-frame\n",
    "\tvideo.set(1,currentFrame); \n",
    "\tret, img = video.read()\n",
    "\t\t#if there dont have any frame in video, break\n",
    "\tif not ret: \n",
    "\t\tbreak\n",
    "\tPIL_image = cv2.cvtColor(img, cv2.COLOR_BGR2RGB)   \n",
    "\tPIL_image = Image.fromarray(PIL_image)\n",
    "\n",
    "\tif currentFrame in range(len(x)):\n",
    "\t\tif x[currentFrame] != 0 and y[currentFrame] != 0:\n",
    "\t\t\tq.appendleft([x[currentFrame],y[currentFrame]])\n",
    "\t\t\tq.pop()\n",
    "\t\telse:\n",
    "\t\t\tq.appendleft(None)\n",
    "\t\t\tq.pop()\n",
    "\n",
    "\tfor i in range(0,8):\n",
    "\t\tif q[i] is not None:\n",
    "\t\t\tdraw_x = q[i][0]\n",
    "\t\t\tdraw_y = q[i][1]\n",
    "\t\t\tbbox =  (draw_x - 2, draw_y - 2, draw_x + 2, draw_y + 2)\n",
    "\t\t\tdraw = ImageDraw.Draw(PIL_image)\n",
    "\t\t\tdraw.ellipse(bbox, outline ='yellow')\n",
    "\t\t\tdel draw\n",
    "\topencvImage =  cv2.cvtColor(np.array(PIL_image), cv2.COLOR_RGB2BGR)\n",
    "\timg1 = opencvImage.copy()\n",
    "\timg1 = tf.image.resize_with_pad(tf.expand_dims(img1, axis=0), 384,640)\n",
    "\tinput_img = tf.cast(img1, dtype=tf.int32)\n",
    "\n",
    "\tmultipose.detect_player(input_img,opencvImage,court)\n",
    "\n",
    "\tAction_model.detect_stroke(multipose,opencvImage)\n",
    "\n",
    "\t#wrap positions to court reference with H transformation \n",
    "\tif(len(multipose.positions) == 2):\n",
    "\t\tfor p in multipose.positions:\n",
    "\t\t\tp = np.array([p], np.float32).reshape(-1,1,2).astype(np.float32)\n",
    "\t\t\tp =  np.round(np.squeeze(cv2.perspectiveTransform(p,H))).astype(int)\n",
    "\t\t\tcv2.circle(imag1,p,radius = 3, color=[0,0,255],thickness=-1)\n",
    "\t\n",
    "\tinputs = inputs.append({'Players_Positions':multipose.positions,'Players_Skeletons':multipose.skeletons,'Court_Center': multipose.center}, ignore_index=True)\n",
    "\n",
    "\tmultipose.positions=[]\n",
    "\tmultipose.skeletons=[]\n",
    "\tmultipose.center=0\n",
    "\n",
    "\tfinal_image,images = merge_frames(opencvImage,imag1)\n",
    "\tcurrent_x = 0 # keep track of where your current image was last placed in the y coordinate\n",
    "\tfor image in images:\n",
    "        # add an image to the final array and increment the y coordinate\n",
    "\t\tfinal_image[:image.shape[0],current_x:image.shape[1]+current_x,:] = image\n",
    "\t\tcurrent_x += image.shape[1]\n",
    "\n",
    "\t#write image to output_video\n",
    "\toutput_video.write(final_image)\n",
    "\n",
    "\t#next frame\n",
    "\tcurrentFrame += 1\n",
    "\n",
    "inputs = pd.concat([inputs, ball_csv[['X','Y','Time']].copy()], axis=1)\n",
    "inputs.rename(columns = {'X':'Ball_X', 'Y':'Ball_Y'}, inplace = True)\n",
    "inputs.to_pickle(\"./classifier_inputs/test_inputs.pkl\")\n",
    "Action_model.save_actions(\"/home/JouiniAhmad/Desktop/douma/Badminton_Project/classifier_inputs/strokesA.csv\",\n",
    "\"/home/JouiniAhmad/Desktop/douma/Badminton_Project/classifier_inputs/strokesB.csv\",\n",
    "input_csv_path,\"/home/JouiniAhmad/Desktop/douma/Badminton_Project/classifier_inputs/A_actions.csv\",\n",
    "\"/home/JouiniAhmad/Desktop/douma/Badminton_Project/classifier_inputs/B_actions.csv\")\n",
    "\n",
    "video.release()\n",
    "output_video.release()\n",
    "print(\"=========== Finish Predicting ===========\")"
   ]
  }
 ],
 "metadata": {
  "kernelspec": {
   "display_name": "Python 3.9.9 64-bit",
   "language": "python",
   "name": "python3"
  },
  "language_info": {
   "codemirror_mode": {
    "name": "ipython",
    "version": 3
   },
   "file_extension": ".py",
   "mimetype": "text/x-python",
   "name": "python",
   "nbconvert_exporter": "python",
   "pygments_lexer": "ipython3",
   "version": "3.9.9"
  },
  "orig_nbformat": 4,
  "vscode": {
   "interpreter": {
    "hash": "865d8b2eb28e274047ba64063dfb6a2aabf0dfec4905d304d7a76618dae6fdd4"
   }
  }
 },
 "nbformat": 4,
 "nbformat_minor": 2
}
